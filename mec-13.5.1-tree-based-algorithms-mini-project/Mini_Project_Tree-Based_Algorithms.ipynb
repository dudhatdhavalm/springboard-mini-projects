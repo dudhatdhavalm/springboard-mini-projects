{
 "cells": [
  {
   "cell_type": "markdown",
   "metadata": {},
   "source": [
    "# Mini Project: Tree-Based Algorithms"
   ]
  },
  {
   "cell_type": "markdown",
   "metadata": {},
   "source": [
    "## The \"German Credit\" Dataset"
   ]
  },
  {
   "cell_type": "markdown",
   "metadata": {},
   "source": [
    "### Dataset Details"
   ]
  },
  {
   "cell_type": "markdown",
   "metadata": {},
   "source": [
    "This dataset has two classes (these would be considered labels in Machine Learning terms) to describe the worthiness of a personal loan: \"Good\" or \"Bad\". There are predictors related to attributes, such as: checking account status, duration, credit history, purpose of the loan, amount of the loan, savings accounts or bonds, employment duration, installment rate in percentage of disposable income, personal information, other debtors/guarantors, residence duration, property, age, other installment plans, housing, number of existing credits, job information, number of people being liable to provide maintenance for, telephone, and foreign worker status.\n",
    "\n",
    "Many of these predictors are discrete and have been expanded into several 0/1 indicator variables (a.k.a. they have been one-hot-encoded).\n",
    "\n",
    "This dataset has been kindly provided by Professor Dr. Hans Hofmann of the University of Hamburg, and can also be found on the UCI Machine Learning Repository."
   ]
  },
  {
   "cell_type": "markdown",
   "metadata": {},
   "source": [
    "\n",
    "\n",
    "\n"
   ]
  },
  {
   "cell_type": "markdown",
   "metadata": {},
   "source": [
    "## Decision Trees"
   ]
  },
  {
   "cell_type": "markdown",
   "metadata": {},
   "source": [
    " As we have learned in the previous lectures, Decision Trees as a family of algorithms (irrespective to the particular implementation) are powerful algorithms that can produce models with a predictive accuracy higher than that produced by linear models, such as Linear or Logistic Regression. Primarily, this is due to the fact the DT's can model nonlinear relationships, and also have a number of tuning paramters, that allow for the practicioner to achieve the best possible model. An added bonus is the ability to visualize the trained Decision Tree model, which allows for some insight into how the model has produced the predictions that it has. One caveat here, to keep in mind, is that sometimes, due to the size of the dataset (both in the sense of the number of records, as well as the number of features), the visualization might prove to be very large and complex, increasing the difficulty of interpretation."
   ]
  },
  {
   "cell_type": "markdown",
   "metadata": {},
   "source": [
    "To give you a very good example of how Decision Trees can be visualized and interpreted, we would strongly recommend that, before continuing on with solving the problems in this Mini Project, you take the time to read this fanstastic, detailed and informative blog post: http://explained.ai/decision-tree-viz/index.html"
   ]
  },
  {
   "cell_type": "markdown",
   "metadata": {},
   "source": [
    "## Building Your First Decision Tree Model"
   ]
  },
  {
   "cell_type": "markdown",
   "metadata": {},
   "source": [
    "So, now it's time to jump straight into the heart of the matter. Your first task, is to build a Decision Tree model, using the aforementioned \"German Credit\" dataset, which contains 1,000 records, and 62 columns (one of them presents the labels, and the other 61 present the potential features for the model.)"
   ]
  },
  {
   "cell_type": "markdown",
   "metadata": {},
   "source": [
    "For this task, you will be using the scikit-learn library, which comes already pre-installed with the Anaconda Python distribution. In case you're not using that, you can easily install it using pip."
   ]
  },
  {
   "cell_type": "markdown",
   "metadata": {},
   "source": [
    "Before embarking on creating your first model, we would strongly encourage you to read the short tutorial for Decision Trees in scikit-learn (http://scikit-learn.org/stable/modules/tree.html), and then dive a bit deeper into the documentation of the algorithm itself (http://scikit-learn.org/stable/modules/generated/sklearn.tree.DecisionTreeClassifier.html). "
   ]
  },
  {
   "cell_type": "markdown",
   "metadata": {},
   "source": [
    "Also, since you want to be able to present the results of your model, we suggest you take a look at the tutorial for accuracy metrics for classification models (http://scikit-learn.org/stable/modules/model_evaluation.html#classification-report) as well as the more detailed documentation (http://scikit-learn.org/stable/modules/generated/sklearn.metrics.classification_report.html).\n",
    "\n",
    "Finally, an *amazing* resource that explains the various classification model accuracy metrics, as well as the relationships between them, can be found on Wikipedia: https://en.wikipedia.org/wiki/Confusion_matrix"
   ]
  },
  {
   "cell_type": "markdown",
   "metadata": {},
   "source": [
    "(Note: as you've already learned in the Logistic Regression mini project, a standard practice in Machine Learning for achieving the best possible result when training a model is to use hyperparameter tuning, through Grid Search and k-fold Cross Validation. We strongly encourage you to use it here as well, not just because it's standard practice, but also becuase it's not going to be computationally to intensive, due to the size of the dataset that you're working with. Our suggestion here is that you split the data into 70% training, and 30% testing. Then, do the hyperparameter tuning and Cross Validation on the training set, and afterwards to a final test on the testing set.)"
   ]
  },
  {
   "cell_type": "markdown",
   "metadata": {},
   "source": [
    "### Now we pass the torch onto you! You can start building your first Decision Tree model! :)"
   ]
  },
  {
   "cell_type": "code",
   "execution_count": 1,
   "metadata": {},
   "outputs": [],
   "source": [
    "import pandas as pd\n",
    "from sklearn.tree import DecisionTreeClassifier\n",
    "from sklearn.metrics import classification_report\n",
    "from sklearn.model_selection import train_test_split\n",
    "from sklearn.model_selection import GridSearchCV"
   ]
  },
  {
   "cell_type": "code",
   "execution_count": 2,
   "metadata": {},
   "outputs": [
    {
     "data": {
      "text/html": [
       "<div>\n",
       "<style scoped>\n",
       "    .dataframe tbody tr th:only-of-type {\n",
       "        vertical-align: middle;\n",
       "    }\n",
       "\n",
       "    .dataframe tbody tr th {\n",
       "        vertical-align: top;\n",
       "    }\n",
       "\n",
       "    .dataframe thead th {\n",
       "        text-align: right;\n",
       "    }\n",
       "</style>\n",
       "<table border=\"1\" class=\"dataframe\">\n",
       "  <thead>\n",
       "    <tr style=\"text-align: right;\">\n",
       "      <th></th>\n",
       "      <th>Duration</th>\n",
       "      <th>Amount</th>\n",
       "      <th>InstallmentRatePercentage</th>\n",
       "      <th>ResidenceDuration</th>\n",
       "      <th>Age</th>\n",
       "      <th>NumberExistingCredits</th>\n",
       "      <th>NumberPeopleMaintenance</th>\n",
       "      <th>Telephone</th>\n",
       "      <th>ForeignWorker</th>\n",
       "      <th>Class</th>\n",
       "      <th>...</th>\n",
       "      <th>OtherInstallmentPlans.Bank</th>\n",
       "      <th>OtherInstallmentPlans.Stores</th>\n",
       "      <th>OtherInstallmentPlans.None</th>\n",
       "      <th>Housing.Rent</th>\n",
       "      <th>Housing.Own</th>\n",
       "      <th>Housing.ForFree</th>\n",
       "      <th>Job.UnemployedUnskilled</th>\n",
       "      <th>Job.UnskilledResident</th>\n",
       "      <th>Job.SkilledEmployee</th>\n",
       "      <th>Job.Management.SelfEmp.HighlyQualified</th>\n",
       "    </tr>\n",
       "  </thead>\n",
       "  <tbody>\n",
       "    <tr>\n",
       "      <th>0</th>\n",
       "      <td>6</td>\n",
       "      <td>1169</td>\n",
       "      <td>4</td>\n",
       "      <td>4</td>\n",
       "      <td>67</td>\n",
       "      <td>2</td>\n",
       "      <td>1</td>\n",
       "      <td>0</td>\n",
       "      <td>1</td>\n",
       "      <td>Good</td>\n",
       "      <td>...</td>\n",
       "      <td>0</td>\n",
       "      <td>0</td>\n",
       "      <td>1</td>\n",
       "      <td>0</td>\n",
       "      <td>1</td>\n",
       "      <td>0</td>\n",
       "      <td>0</td>\n",
       "      <td>0</td>\n",
       "      <td>1</td>\n",
       "      <td>0</td>\n",
       "    </tr>\n",
       "    <tr>\n",
       "      <th>1</th>\n",
       "      <td>48</td>\n",
       "      <td>5951</td>\n",
       "      <td>2</td>\n",
       "      <td>2</td>\n",
       "      <td>22</td>\n",
       "      <td>1</td>\n",
       "      <td>1</td>\n",
       "      <td>1</td>\n",
       "      <td>1</td>\n",
       "      <td>Bad</td>\n",
       "      <td>...</td>\n",
       "      <td>0</td>\n",
       "      <td>0</td>\n",
       "      <td>1</td>\n",
       "      <td>0</td>\n",
       "      <td>1</td>\n",
       "      <td>0</td>\n",
       "      <td>0</td>\n",
       "      <td>0</td>\n",
       "      <td>1</td>\n",
       "      <td>0</td>\n",
       "    </tr>\n",
       "    <tr>\n",
       "      <th>2</th>\n",
       "      <td>12</td>\n",
       "      <td>2096</td>\n",
       "      <td>2</td>\n",
       "      <td>3</td>\n",
       "      <td>49</td>\n",
       "      <td>1</td>\n",
       "      <td>2</td>\n",
       "      <td>1</td>\n",
       "      <td>1</td>\n",
       "      <td>Good</td>\n",
       "      <td>...</td>\n",
       "      <td>0</td>\n",
       "      <td>0</td>\n",
       "      <td>1</td>\n",
       "      <td>0</td>\n",
       "      <td>1</td>\n",
       "      <td>0</td>\n",
       "      <td>0</td>\n",
       "      <td>1</td>\n",
       "      <td>0</td>\n",
       "      <td>0</td>\n",
       "    </tr>\n",
       "    <tr>\n",
       "      <th>3</th>\n",
       "      <td>42</td>\n",
       "      <td>7882</td>\n",
       "      <td>2</td>\n",
       "      <td>4</td>\n",
       "      <td>45</td>\n",
       "      <td>1</td>\n",
       "      <td>2</td>\n",
       "      <td>1</td>\n",
       "      <td>1</td>\n",
       "      <td>Good</td>\n",
       "      <td>...</td>\n",
       "      <td>0</td>\n",
       "      <td>0</td>\n",
       "      <td>1</td>\n",
       "      <td>0</td>\n",
       "      <td>0</td>\n",
       "      <td>1</td>\n",
       "      <td>0</td>\n",
       "      <td>0</td>\n",
       "      <td>1</td>\n",
       "      <td>0</td>\n",
       "    </tr>\n",
       "    <tr>\n",
       "      <th>4</th>\n",
       "      <td>24</td>\n",
       "      <td>4870</td>\n",
       "      <td>3</td>\n",
       "      <td>4</td>\n",
       "      <td>53</td>\n",
       "      <td>2</td>\n",
       "      <td>2</td>\n",
       "      <td>1</td>\n",
       "      <td>1</td>\n",
       "      <td>Bad</td>\n",
       "      <td>...</td>\n",
       "      <td>0</td>\n",
       "      <td>0</td>\n",
       "      <td>1</td>\n",
       "      <td>0</td>\n",
       "      <td>0</td>\n",
       "      <td>1</td>\n",
       "      <td>0</td>\n",
       "      <td>0</td>\n",
       "      <td>1</td>\n",
       "      <td>0</td>\n",
       "    </tr>\n",
       "  </tbody>\n",
       "</table>\n",
       "<p>5 rows × 62 columns</p>\n",
       "</div>"
      ],
      "text/plain": [
       "   Duration  Amount  InstallmentRatePercentage  ResidenceDuration  Age  \\\n",
       "0         6    1169                          4                  4   67   \n",
       "1        48    5951                          2                  2   22   \n",
       "2        12    2096                          2                  3   49   \n",
       "3        42    7882                          2                  4   45   \n",
       "4        24    4870                          3                  4   53   \n",
       "\n",
       "   NumberExistingCredits  NumberPeopleMaintenance  Telephone  ForeignWorker  \\\n",
       "0                      2                        1          0              1   \n",
       "1                      1                        1          1              1   \n",
       "2                      1                        2          1              1   \n",
       "3                      1                        2          1              1   \n",
       "4                      2                        2          1              1   \n",
       "\n",
       "  Class  ...  OtherInstallmentPlans.Bank  OtherInstallmentPlans.Stores  \\\n",
       "0  Good  ...                           0                             0   \n",
       "1   Bad  ...                           0                             0   \n",
       "2  Good  ...                           0                             0   \n",
       "3  Good  ...                           0                             0   \n",
       "4   Bad  ...                           0                             0   \n",
       "\n",
       "   OtherInstallmentPlans.None  Housing.Rent  Housing.Own  Housing.ForFree  \\\n",
       "0                           1             0            1                0   \n",
       "1                           1             0            1                0   \n",
       "2                           1             0            1                0   \n",
       "3                           1             0            0                1   \n",
       "4                           1             0            0                1   \n",
       "\n",
       "   Job.UnemployedUnskilled  Job.UnskilledResident  Job.SkilledEmployee  \\\n",
       "0                        0                      0                    1   \n",
       "1                        0                      0                    1   \n",
       "2                        0                      1                    0   \n",
       "3                        0                      0                    1   \n",
       "4                        0                      0                    1   \n",
       "\n",
       "   Job.Management.SelfEmp.HighlyQualified  \n",
       "0                                       0  \n",
       "1                                       0  \n",
       "2                                       0  \n",
       "3                                       0  \n",
       "4                                       0  \n",
       "\n",
       "[5 rows x 62 columns]"
      ]
     },
     "execution_count": 2,
     "metadata": {},
     "output_type": "execute_result"
    }
   ],
   "source": [
    "# Your code here! :)\n",
    "data = pd.read_csv(\"./GermanCredit.csv\")\n",
    "data.head()"
   ]
  },
  {
   "cell_type": "code",
   "execution_count": 3,
   "metadata": {},
   "outputs": [
    {
     "data": {
      "text/plain": [
       "Index(['Duration', 'Amount', 'InstallmentRatePercentage', 'ResidenceDuration',\n",
       "       'Age', 'NumberExistingCredits', 'NumberPeopleMaintenance', 'Telephone',\n",
       "       'ForeignWorker', 'Class', 'CheckingAccountStatus.lt.0',\n",
       "       'CheckingAccountStatus.0.to.200', 'CheckingAccountStatus.gt.200',\n",
       "       'CheckingAccountStatus.none', 'CreditHistory.NoCredit.AllPaid',\n",
       "       'CreditHistory.ThisBank.AllPaid', 'CreditHistory.PaidDuly',\n",
       "       'CreditHistory.Delay', 'CreditHistory.Critical', 'Purpose.NewCar',\n",
       "       'Purpose.UsedCar', 'Purpose.Furniture.Equipment',\n",
       "       'Purpose.Radio.Television', 'Purpose.DomesticAppliance',\n",
       "       'Purpose.Repairs', 'Purpose.Education', 'Purpose.Vacation',\n",
       "       'Purpose.Retraining', 'Purpose.Business', 'Purpose.Other',\n",
       "       'SavingsAccountBonds.lt.100', 'SavingsAccountBonds.100.to.500',\n",
       "       'SavingsAccountBonds.500.to.1000', 'SavingsAccountBonds.gt.1000',\n",
       "       'SavingsAccountBonds.Unknown', 'EmploymentDuration.lt.1',\n",
       "       'EmploymentDuration.1.to.4', 'EmploymentDuration.4.to.7',\n",
       "       'EmploymentDuration.gt.7', 'EmploymentDuration.Unemployed',\n",
       "       'Personal.Male.Divorced.Seperated', 'Personal.Female.NotSingle',\n",
       "       'Personal.Male.Single', 'Personal.Male.Married.Widowed',\n",
       "       'Personal.Female.Single', 'OtherDebtorsGuarantors.None',\n",
       "       'OtherDebtorsGuarantors.CoApplicant',\n",
       "       'OtherDebtorsGuarantors.Guarantor', 'Property.RealEstate',\n",
       "       'Property.Insurance', 'Property.CarOther', 'Property.Unknown',\n",
       "       'OtherInstallmentPlans.Bank', 'OtherInstallmentPlans.Stores',\n",
       "       'OtherInstallmentPlans.None', 'Housing.Rent', 'Housing.Own',\n",
       "       'Housing.ForFree', 'Job.UnemployedUnskilled', 'Job.UnskilledResident',\n",
       "       'Job.SkilledEmployee', 'Job.Management.SelfEmp.HighlyQualified'],\n",
       "      dtype='object')"
      ]
     },
     "execution_count": 3,
     "metadata": {},
     "output_type": "execute_result"
    }
   ],
   "source": [
    "data.columns"
   ]
  },
  {
   "cell_type": "code",
   "execution_count": 4,
   "metadata": {},
   "outputs": [
    {
     "name": "stdout",
     "output_type": "stream",
     "text": [
      "<class 'pandas.core.frame.DataFrame'>\n",
      "RangeIndex: 1000 entries, 0 to 999\n",
      "Data columns (total 62 columns):\n",
      " #   Column                                  Non-Null Count  Dtype \n",
      "---  ------                                  --------------  ----- \n",
      " 0   Duration                                1000 non-null   int64 \n",
      " 1   Amount                                  1000 non-null   int64 \n",
      " 2   InstallmentRatePercentage               1000 non-null   int64 \n",
      " 3   ResidenceDuration                       1000 non-null   int64 \n",
      " 4   Age                                     1000 non-null   int64 \n",
      " 5   NumberExistingCredits                   1000 non-null   int64 \n",
      " 6   NumberPeopleMaintenance                 1000 non-null   int64 \n",
      " 7   Telephone                               1000 non-null   int64 \n",
      " 8   ForeignWorker                           1000 non-null   int64 \n",
      " 9   Class                                   1000 non-null   object\n",
      " 10  CheckingAccountStatus.lt.0              1000 non-null   int64 \n",
      " 11  CheckingAccountStatus.0.to.200          1000 non-null   int64 \n",
      " 12  CheckingAccountStatus.gt.200            1000 non-null   int64 \n",
      " 13  CheckingAccountStatus.none              1000 non-null   int64 \n",
      " 14  CreditHistory.NoCredit.AllPaid          1000 non-null   int64 \n",
      " 15  CreditHistory.ThisBank.AllPaid          1000 non-null   int64 \n",
      " 16  CreditHistory.PaidDuly                  1000 non-null   int64 \n",
      " 17  CreditHistory.Delay                     1000 non-null   int64 \n",
      " 18  CreditHistory.Critical                  1000 non-null   int64 \n",
      " 19  Purpose.NewCar                          1000 non-null   int64 \n",
      " 20  Purpose.UsedCar                         1000 non-null   int64 \n",
      " 21  Purpose.Furniture.Equipment             1000 non-null   int64 \n",
      " 22  Purpose.Radio.Television                1000 non-null   int64 \n",
      " 23  Purpose.DomesticAppliance               1000 non-null   int64 \n",
      " 24  Purpose.Repairs                         1000 non-null   int64 \n",
      " 25  Purpose.Education                       1000 non-null   int64 \n",
      " 26  Purpose.Vacation                        1000 non-null   int64 \n",
      " 27  Purpose.Retraining                      1000 non-null   int64 \n",
      " 28  Purpose.Business                        1000 non-null   int64 \n",
      " 29  Purpose.Other                           1000 non-null   int64 \n",
      " 30  SavingsAccountBonds.lt.100              1000 non-null   int64 \n",
      " 31  SavingsAccountBonds.100.to.500          1000 non-null   int64 \n",
      " 32  SavingsAccountBonds.500.to.1000         1000 non-null   int64 \n",
      " 33  SavingsAccountBonds.gt.1000             1000 non-null   int64 \n",
      " 34  SavingsAccountBonds.Unknown             1000 non-null   int64 \n",
      " 35  EmploymentDuration.lt.1                 1000 non-null   int64 \n",
      " 36  EmploymentDuration.1.to.4               1000 non-null   int64 \n",
      " 37  EmploymentDuration.4.to.7               1000 non-null   int64 \n",
      " 38  EmploymentDuration.gt.7                 1000 non-null   int64 \n",
      " 39  EmploymentDuration.Unemployed           1000 non-null   int64 \n",
      " 40  Personal.Male.Divorced.Seperated        1000 non-null   int64 \n",
      " 41  Personal.Female.NotSingle               1000 non-null   int64 \n",
      " 42  Personal.Male.Single                    1000 non-null   int64 \n",
      " 43  Personal.Male.Married.Widowed           1000 non-null   int64 \n",
      " 44  Personal.Female.Single                  1000 non-null   int64 \n",
      " 45  OtherDebtorsGuarantors.None             1000 non-null   int64 \n",
      " 46  OtherDebtorsGuarantors.CoApplicant      1000 non-null   int64 \n",
      " 47  OtherDebtorsGuarantors.Guarantor        1000 non-null   int64 \n",
      " 48  Property.RealEstate                     1000 non-null   int64 \n",
      " 49  Property.Insurance                      1000 non-null   int64 \n",
      " 50  Property.CarOther                       1000 non-null   int64 \n",
      " 51  Property.Unknown                        1000 non-null   int64 \n",
      " 52  OtherInstallmentPlans.Bank              1000 non-null   int64 \n",
      " 53  OtherInstallmentPlans.Stores            1000 non-null   int64 \n",
      " 54  OtherInstallmentPlans.None              1000 non-null   int64 \n",
      " 55  Housing.Rent                            1000 non-null   int64 \n",
      " 56  Housing.Own                             1000 non-null   int64 \n",
      " 57  Housing.ForFree                         1000 non-null   int64 \n",
      " 58  Job.UnemployedUnskilled                 1000 non-null   int64 \n",
      " 59  Job.UnskilledResident                   1000 non-null   int64 \n",
      " 60  Job.SkilledEmployee                     1000 non-null   int64 \n",
      " 61  Job.Management.SelfEmp.HighlyQualified  1000 non-null   int64 \n",
      "dtypes: int64(61), object(1)\n",
      "memory usage: 484.5+ KB\n"
     ]
    }
   ],
   "source": [
    "data.info()"
   ]
  },
  {
   "cell_type": "code",
   "execution_count": 5,
   "metadata": {},
   "outputs": [],
   "source": [
    "def convert_class(value):    \n",
    "    if(value == \"Good\"):\n",
    "        return 1\n",
    "    else:\n",
    "        return 0"
   ]
  },
  {
   "cell_type": "code",
   "execution_count": 6,
   "metadata": {},
   "outputs": [],
   "source": [
    "data[\"Class\"] = data[\"Class\"].map(convert_class)"
   ]
  },
  {
   "cell_type": "code",
   "execution_count": 7,
   "metadata": {},
   "outputs": [
    {
     "data": {
      "text/plain": [
       "62"
      ]
     },
     "execution_count": 7,
     "metadata": {},
     "output_type": "execute_result"
    }
   ],
   "source": [
    "len(data.columns)"
   ]
  },
  {
   "cell_type": "code",
   "execution_count": 8,
   "metadata": {},
   "outputs": [
    {
     "data": {
      "text/plain": [
       "1    700\n",
       "0    300\n",
       "Name: Class, dtype: int64"
      ]
     },
     "execution_count": 8,
     "metadata": {},
     "output_type": "execute_result"
    }
   ],
   "source": [
    "data[\"Class\"].value_counts()"
   ]
  },
  {
   "cell_type": "code",
   "execution_count": 9,
   "metadata": {},
   "outputs": [],
   "source": [
    "X = data.loc[:, data.columns != \"Class\"]"
   ]
  },
  {
   "cell_type": "code",
   "execution_count": 10,
   "metadata": {},
   "outputs": [
    {
     "data": {
      "text/plain": [
       "False"
      ]
     },
     "execution_count": 10,
     "metadata": {},
     "output_type": "execute_result"
    }
   ],
   "source": [
    "\"Class\" in X.columns"
   ]
  },
  {
   "cell_type": "code",
   "execution_count": 11,
   "metadata": {},
   "outputs": [],
   "source": [
    "y = data.loc[:, [\"Class\"]]"
   ]
  },
  {
   "cell_type": "code",
   "execution_count": 12,
   "metadata": {},
   "outputs": [
    {
     "data": {
      "text/plain": [
       "Index(['Class'], dtype='object')"
      ]
     },
     "execution_count": 12,
     "metadata": {},
     "output_type": "execute_result"
    }
   ],
   "source": [
    "y.columns"
   ]
  },
  {
   "cell_type": "code",
   "execution_count": 13,
   "metadata": {},
   "outputs": [],
   "source": [
    "X_train, X_test, y_train, y_test = train_test_split(X, y, test_size=0.3, random_state=0)"
   ]
  },
  {
   "cell_type": "code",
   "execution_count": 14,
   "metadata": {},
   "outputs": [],
   "source": [
    "dt = DecisionTreeClassifier()"
   ]
  },
  {
   "cell_type": "code",
   "execution_count": 15,
   "metadata": {},
   "outputs": [
    {
     "data": {
      "text/plain": [
       "DecisionTreeClassifier()"
      ]
     },
     "execution_count": 15,
     "metadata": {},
     "output_type": "execute_result"
    }
   ],
   "source": [
    "dt.fit(X_train,y_train)"
   ]
  },
  {
   "cell_type": "code",
   "execution_count": 16,
   "metadata": {},
   "outputs": [],
   "source": [
    "y_pred = dt.predict(X_test)"
   ]
  },
  {
   "cell_type": "code",
   "execution_count": 17,
   "metadata": {},
   "outputs": [
    {
     "name": "stdout",
     "output_type": "stream",
     "text": [
      "              precision    recall  f1-score   support\n",
      "\n",
      "           0       0.49      0.52      0.51        86\n",
      "           1       0.80      0.79      0.79       214\n",
      "\n",
      "    accuracy                           0.71       300\n",
      "   macro avg       0.65      0.65      0.65       300\n",
      "weighted avg       0.72      0.71      0.71       300\n",
      "\n"
     ]
    }
   ],
   "source": [
    "print(classification_report(y_test, y_pred))"
   ]
  },
  {
   "cell_type": "code",
   "execution_count": 18,
   "metadata": {},
   "outputs": [
    {
     "name": "stdout",
     "output_type": "stream",
     "text": [
      "              precision    recall  f1-score   support\n",
      "\n",
      "         Bad       0.49      0.52      0.51        86\n",
      "        Good       0.80      0.79      0.79       214\n",
      "\n",
      "    accuracy                           0.71       300\n",
      "   macro avg       0.65      0.65      0.65       300\n",
      "weighted avg       0.72      0.71      0.71       300\n",
      "\n"
     ]
    }
   ],
   "source": [
    "print(classification_report(y_test, y_pred, target_names=[\"Bad\", \"Good\"]))"
   ]
  },
  {
   "cell_type": "code",
   "execution_count": 19,
   "metadata": {},
   "outputs": [
    {
     "data": {
      "text/plain": [
       "GridSearchCV(estimator=DecisionTreeClassifier(),\n",
       "             param_grid={'criterion': ['gini', 'entropy'],\n",
       "                         'max_depth': [4, 5, 6, 7, 8, 9, 10, 11, 12, 15, 20, 30,\n",
       "                                       40, 50, 70, 90, 120, 150]})"
      ]
     },
     "execution_count": 19,
     "metadata": {},
     "output_type": "execute_result"
    }
   ],
   "source": [
    "dt = DecisionTreeClassifier()\n",
    "params = { 'criterion':['gini','entropy'], 'max_depth':[4,5,6,7,8,9,10,11,12,15,20,30,40,50,70,90,120,150] }\n",
    "gs = GridSearchCV(estimator=dt,param_grid=params)\n",
    "gs.fit(X_train,y_train)"
   ]
  },
  {
   "cell_type": "code",
   "execution_count": 20,
   "metadata": {},
   "outputs": [
    {
     "data": {
      "text/plain": [
       "DecisionTreeClassifier(max_depth=4)"
      ]
     },
     "execution_count": 20,
     "metadata": {},
     "output_type": "execute_result"
    }
   ],
   "source": [
    "gs.best_estimator_"
   ]
  },
  {
   "cell_type": "code",
   "execution_count": 21,
   "metadata": {},
   "outputs": [
    {
     "data": {
      "text/plain": [
       "0"
      ]
     },
     "execution_count": 21,
     "metadata": {},
     "output_type": "execute_result"
    }
   ],
   "source": [
    "gs.best_index_"
   ]
  },
  {
   "cell_type": "code",
   "execution_count": 22,
   "metadata": {},
   "outputs": [
    {
     "data": {
      "text/plain": [
       "{'criterion': 'gini', 'max_depth': 4}"
      ]
     },
     "execution_count": 22,
     "metadata": {},
     "output_type": "execute_result"
    }
   ],
   "source": [
    "gs.best_params_"
   ]
  },
  {
   "cell_type": "code",
   "execution_count": 23,
   "metadata": {},
   "outputs": [
    {
     "data": {
      "text/plain": [
       "0.7157142857142856"
      ]
     },
     "execution_count": 23,
     "metadata": {},
     "output_type": "execute_result"
    }
   ],
   "source": [
    "gs.best_score_"
   ]
  },
  {
   "cell_type": "code",
   "execution_count": 24,
   "metadata": {},
   "outputs": [
    {
     "data": {
      "text/plain": [
       "{'mean_fit_time': array([0.0227572 , 0.02265038, 0.02209859, 0.02320595, 0.02415295,\n",
       "        0.02510767, 0.02561369, 0.02652593, 0.02708654, 0.02701001,\n",
       "        0.02931113, 0.02832499, 0.0284287 , 0.02660608, 0.0267529 ,\n",
       "        0.02691002, 0.02742705, 0.02853036, 0.02091856, 0.02231216,\n",
       "        0.02244902, 0.0233017 , 0.02469225, 0.02564139, 0.02617497,\n",
       "        0.02603526, 0.02681785, 0.02799377, 0.02780805, 0.02753921,\n",
       "        0.02763882, 0.02764864, 0.02772012, 0.02756863, 0.03171053,\n",
       "        0.0307857 ]),\n",
       " 'std_fit_time': array([0.00182466, 0.00157364, 0.00018834, 0.0002637 , 0.0002447 ,\n",
       "        0.0002793 , 0.00015789, 0.00072165, 0.00016847, 0.00049726,\n",
       "        0.00175073, 0.00152553, 0.00159516, 0.00029909, 0.00023939,\n",
       "        0.00023295, 0.00040022, 0.00359011, 0.00062201, 0.00083175,\n",
       "        0.00033727, 0.00023031, 0.00028853, 0.00047723, 0.00040119,\n",
       "        0.00026048, 0.00031913, 0.0006854 , 0.00036284, 0.00016602,\n",
       "        0.00046081, 0.0003723 , 0.0003355 , 0.00010498, 0.00658647,\n",
       "        0.0021066 ]),\n",
       " 'mean_score_time': array([0.00840673, 0.00871267, 0.00790982, 0.00796175, 0.00800433,\n",
       "        0.00806408, 0.00795674, 0.00826359, 0.00821939, 0.00815921,\n",
       "        0.00844812, 0.00852666, 0.00824771, 0.00791898, 0.00799189,\n",
       "        0.00811229, 0.00821838, 0.00829892, 0.00821948, 0.00800457,\n",
       "        0.00792847, 0.0077714 , 0.00808148, 0.00811977, 0.00804558,\n",
       "        0.00788202, 0.00804434, 0.00815563, 0.00784616, 0.00771322,\n",
       "        0.00775456, 0.00776067, 0.00785928, 0.00775161, 0.0103261 ,\n",
       "        0.00850878]),\n",
       " 'std_score_time': array([6.69899809e-04, 1.52105179e-03, 1.20883759e-04, 1.48381120e-04,\n",
       "        2.30312476e-04, 1.59180171e-04, 1.26948614e-04, 3.98532840e-04,\n",
       "        1.79733114e-04, 1.57527065e-04, 5.58074207e-04, 9.92423968e-04,\n",
       "        3.18668550e-04, 1.03519096e-04, 7.82195512e-05, 1.17930284e-04,\n",
       "        2.15674063e-04, 6.57302345e-04, 3.13785843e-04, 1.52726453e-04,\n",
       "        1.51187731e-04, 2.46021201e-04, 1.44203425e-04, 1.86093690e-04,\n",
       "        2.82734022e-04, 1.45584921e-04, 4.65245487e-04, 5.73772040e-04,\n",
       "        2.08705932e-04, 8.00902766e-05, 2.40346410e-04, 2.37332905e-04,\n",
       "        2.50934230e-04, 9.80139446e-05, 2.82152921e-03, 5.87503874e-04]),\n",
       " 'param_criterion': masked_array(data=['gini', 'gini', 'gini', 'gini', 'gini', 'gini', 'gini',\n",
       "                    'gini', 'gini', 'gini', 'gini', 'gini', 'gini', 'gini',\n",
       "                    'gini', 'gini', 'gini', 'gini', 'entropy', 'entropy',\n",
       "                    'entropy', 'entropy', 'entropy', 'entropy', 'entropy',\n",
       "                    'entropy', 'entropy', 'entropy', 'entropy', 'entropy',\n",
       "                    'entropy', 'entropy', 'entropy', 'entropy', 'entropy',\n",
       "                    'entropy'],\n",
       "              mask=[False, False, False, False, False, False, False, False,\n",
       "                    False, False, False, False, False, False, False, False,\n",
       "                    False, False, False, False, False, False, False, False,\n",
       "                    False, False, False, False, False, False, False, False,\n",
       "                    False, False, False, False],\n",
       "        fill_value='?',\n",
       "             dtype=object),\n",
       " 'param_max_depth': masked_array(data=[4, 5, 6, 7, 8, 9, 10, 11, 12, 15, 20, 30, 40, 50, 70,\n",
       "                    90, 120, 150, 4, 5, 6, 7, 8, 9, 10, 11, 12, 15, 20, 30,\n",
       "                    40, 50, 70, 90, 120, 150],\n",
       "              mask=[False, False, False, False, False, False, False, False,\n",
       "                    False, False, False, False, False, False, False, False,\n",
       "                    False, False, False, False, False, False, False, False,\n",
       "                    False, False, False, False, False, False, False, False,\n",
       "                    False, False, False, False],\n",
       "        fill_value='?',\n",
       "             dtype=object),\n",
       " 'params': [{'criterion': 'gini', 'max_depth': 4},\n",
       "  {'criterion': 'gini', 'max_depth': 5},\n",
       "  {'criterion': 'gini', 'max_depth': 6},\n",
       "  {'criterion': 'gini', 'max_depth': 7},\n",
       "  {'criterion': 'gini', 'max_depth': 8},\n",
       "  {'criterion': 'gini', 'max_depth': 9},\n",
       "  {'criterion': 'gini', 'max_depth': 10},\n",
       "  {'criterion': 'gini', 'max_depth': 11},\n",
       "  {'criterion': 'gini', 'max_depth': 12},\n",
       "  {'criterion': 'gini', 'max_depth': 15},\n",
       "  {'criterion': 'gini', 'max_depth': 20},\n",
       "  {'criterion': 'gini', 'max_depth': 30},\n",
       "  {'criterion': 'gini', 'max_depth': 40},\n",
       "  {'criterion': 'gini', 'max_depth': 50},\n",
       "  {'criterion': 'gini', 'max_depth': 70},\n",
       "  {'criterion': 'gini', 'max_depth': 90},\n",
       "  {'criterion': 'gini', 'max_depth': 120},\n",
       "  {'criterion': 'gini', 'max_depth': 150},\n",
       "  {'criterion': 'entropy', 'max_depth': 4},\n",
       "  {'criterion': 'entropy', 'max_depth': 5},\n",
       "  {'criterion': 'entropy', 'max_depth': 6},\n",
       "  {'criterion': 'entropy', 'max_depth': 7},\n",
       "  {'criterion': 'entropy', 'max_depth': 8},\n",
       "  {'criterion': 'entropy', 'max_depth': 9},\n",
       "  {'criterion': 'entropy', 'max_depth': 10},\n",
       "  {'criterion': 'entropy', 'max_depth': 11},\n",
       "  {'criterion': 'entropy', 'max_depth': 12},\n",
       "  {'criterion': 'entropy', 'max_depth': 15},\n",
       "  {'criterion': 'entropy', 'max_depth': 20},\n",
       "  {'criterion': 'entropy', 'max_depth': 30},\n",
       "  {'criterion': 'entropy', 'max_depth': 40},\n",
       "  {'criterion': 'entropy', 'max_depth': 50},\n",
       "  {'criterion': 'entropy', 'max_depth': 70},\n",
       "  {'criterion': 'entropy', 'max_depth': 90},\n",
       "  {'criterion': 'entropy', 'max_depth': 120},\n",
       "  {'criterion': 'entropy', 'max_depth': 150}],\n",
       " 'split0_test_score': array([0.74285714, 0.67142857, 0.7       , 0.7       , 0.74285714,\n",
       "        0.69285714, 0.67857143, 0.67857143, 0.65      , 0.66428571,\n",
       "        0.65714286, 0.64285714, 0.67142857, 0.67142857, 0.68571429,\n",
       "        0.63571429, 0.65714286, 0.63571429, 0.71428571, 0.72142857,\n",
       "        0.70714286, 0.69285714, 0.69285714, 0.69285714, 0.65714286,\n",
       "        0.67857143, 0.69285714, 0.67142857, 0.69285714, 0.65      ,\n",
       "        0.68571429, 0.65      , 0.67857143, 0.67142857, 0.67857143,\n",
       "        0.63571429]),\n",
       " 'split1_test_score': array([0.66428571, 0.68571429, 0.69285714, 0.69285714, 0.67142857,\n",
       "        0.66428571, 0.67142857, 0.67857143, 0.65714286, 0.69285714,\n",
       "        0.64285714, 0.65714286, 0.65714286, 0.65      , 0.67142857,\n",
       "        0.65      , 0.64285714, 0.64285714, 0.66428571, 0.67142857,\n",
       "        0.68571429, 0.70714286, 0.69285714, 0.70714286, 0.69285714,\n",
       "        0.7       , 0.66428571, 0.67142857, 0.65714286, 0.67142857,\n",
       "        0.66428571, 0.67142857, 0.65714286, 0.66428571, 0.65714286,\n",
       "        0.66428571]),\n",
       " 'split2_test_score': array([0.74285714, 0.67142857, 0.70714286, 0.69285714, 0.65714286,\n",
       "        0.66428571, 0.66428571, 0.67857143, 0.67857143, 0.66428571,\n",
       "        0.67857143, 0.67142857, 0.67142857, 0.7       , 0.68571429,\n",
       "        0.71428571, 0.66428571, 0.67857143, 0.73571429, 0.71428571,\n",
       "        0.72857143, 0.72142857, 0.74285714, 0.72142857, 0.67857143,\n",
       "        0.67142857, 0.69285714, 0.70714286, 0.72142857, 0.70714286,\n",
       "        0.7       , 0.72857143, 0.70714286, 0.72857143, 0.70714286,\n",
       "        0.72142857]),\n",
       " 'split3_test_score': array([0.69285714, 0.65      , 0.64285714, 0.62857143, 0.64285714,\n",
       "        0.60714286, 0.63571429, 0.6       , 0.61428571, 0.62142857,\n",
       "        0.59285714, 0.61428571, 0.64285714, 0.6       , 0.64285714,\n",
       "        0.62142857, 0.62142857, 0.64285714, 0.72142857, 0.70714286,\n",
       "        0.67142857, 0.67857143, 0.70714286, 0.7       , 0.69285714,\n",
       "        0.72857143, 0.75714286, 0.67857143, 0.71428571, 0.73571429,\n",
       "        0.71428571, 0.72142857, 0.72142857, 0.72142857, 0.72857143,\n",
       "        0.70714286]),\n",
       " 'split4_test_score': array([0.73571429, 0.72142857, 0.74285714, 0.71428571, 0.72857143,\n",
       "        0.72857143, 0.70714286, 0.74285714, 0.72857143, 0.73571429,\n",
       "        0.71428571, 0.75714286, 0.74285714, 0.76428571, 0.74285714,\n",
       "        0.75      , 0.7       , 0.73571429, 0.72142857, 0.71428571,\n",
       "        0.72857143, 0.71428571, 0.7       , 0.7       , 0.71428571,\n",
       "        0.70714286, 0.73571429, 0.69285714, 0.7       , 0.71428571,\n",
       "        0.7       , 0.71428571, 0.69285714, 0.72142857, 0.72142857,\n",
       "        0.72857143]),\n",
       " 'mean_test_score': array([0.71571429, 0.68      , 0.69714286, 0.68571429, 0.68857143,\n",
       "        0.67142857, 0.67142857, 0.67571429, 0.66571429, 0.67571429,\n",
       "        0.65714286, 0.66857143, 0.67714286, 0.67714286, 0.68571429,\n",
       "        0.67428571, 0.65714286, 0.66714286, 0.71142857, 0.70571429,\n",
       "        0.70428571, 0.70285714, 0.70714286, 0.70428571, 0.68714286,\n",
       "        0.69714286, 0.70857143, 0.68428571, 0.69714286, 0.69571429,\n",
       "        0.69285714, 0.69714286, 0.69142857, 0.70142857, 0.69857143,\n",
       "        0.69142857]),\n",
       " 'std_test_score': array([0.03175159, 0.02364706, 0.03213492, 0.02962349, 0.0397954 ,\n",
       "        0.03989783, 0.02303502, 0.04531072, 0.03763411, 0.0376883 ,\n",
       "        0.04015277, 0.04814943, 0.03452299, 0.05447336, 0.03257644,\n",
       "        0.04940462, 0.02595129, 0.03741657, 0.02457807, 0.01772811,\n",
       "        0.02285714, 0.01538619, 0.01862629, 0.00968904, 0.01884415,\n",
       "        0.02050386, 0.03331973, 0.01385051, 0.02240627, 0.03083862,\n",
       "        0.01690309, 0.03083862, 0.022315  , 0.02762726, 0.02687841,\n",
       "        0.0356857 ]),\n",
       " 'rank_test_score': array([ 1, 24, 11, 21, 19, 30, 30, 27, 34, 27, 35, 32, 25, 25, 21, 29, 36,\n",
       "        33,  2,  5,  6,  8,  4,  6, 20, 11,  3, 23, 11, 15, 16, 11, 17,  9,\n",
       "        10, 17], dtype=int32)}"
      ]
     },
     "execution_count": 24,
     "metadata": {},
     "output_type": "execute_result"
    }
   ],
   "source": [
    "gs.cv_results_"
   ]
  },
  {
   "cell_type": "code",
   "execution_count": 25,
   "metadata": {},
   "outputs": [
    {
     "data": {
      "text/plain": [
       "DecisionTreeClassifier(max_depth=4)"
      ]
     },
     "execution_count": 25,
     "metadata": {},
     "output_type": "execute_result"
    }
   ],
   "source": [
    "dt = DecisionTreeClassifier(max_depth=4)\n",
    "dt.fit(X_train,y_train)"
   ]
  },
  {
   "cell_type": "markdown",
   "metadata": {},
   "source": [
    "### After you've built the best model you can, now it's time to visualize it!"
   ]
  },
  {
   "cell_type": "markdown",
   "metadata": {},
   "source": [
    "Rememeber that amazing blog post from a few paragraphs ago, that demonstrated how to visualize and interpret the results of your Decision Tree model. We've seen that this can perform very well, but let's see how it does on the \"German Credit\" dataset that we're working on, due to it being a bit larger than the one used by the blog authors."
   ]
  },
  {
   "cell_type": "markdown",
   "metadata": {},
   "source": [
    "First, we're going to need to install their package. If you're using Anaconda, this can be done easily by running:"
   ]
  },
  {
   "cell_type": "code",
   "execution_count": 26,
   "metadata": {},
   "outputs": [],
   "source": [
    "import os"
   ]
  },
  {
   "cell_type": "code",
   "execution_count": 27,
   "metadata": {},
   "outputs": [
    {
     "name": "stdout",
     "output_type": "stream",
     "text": [
      "Looking in indexes: https://pypi.org/simple, https://packagecloud.io/github/git-lfs/pypi/simple\r\n",
      "Requirement already satisfied: graphviz in ./env/lib/python3.7/site-packages (0.16)\r\n"
     ]
    }
   ],
   "source": [
    "! pip install graphviz"
   ]
  },
  {
   "cell_type": "code",
   "execution_count": 28,
   "metadata": {},
   "outputs": [
    {
     "name": "stdout",
     "output_type": "stream",
     "text": [
      "Looking in indexes: https://pypi.org/simple, https://packagecloud.io/github/git-lfs/pypi/simple\r\n",
      "Requirement already satisfied: pydot in ./env/lib/python3.7/site-packages (1.4.2)\r\n",
      "Requirement already satisfied: pyparsing>=2.1.4 in ./env/lib/python3.7/site-packages (from pydot) (2.4.7)\r\n"
     ]
    }
   ],
   "source": [
    "! pip install pydot"
   ]
  },
  {
   "cell_type": "code",
   "execution_count": 29,
   "metadata": {},
   "outputs": [
    {
     "name": "stdout",
     "output_type": "stream",
     "text": [
      "Looking in indexes: https://pypi.org/simple, https://packagecloud.io/github/git-lfs/pypi/simple\n",
      "Requirement already satisfied: dtreeviz in ./env/lib/python3.7/site-packages (1.1.4)\n",
      "Requirement already satisfied: graphviz>=0.9 in ./env/lib/python3.7/site-packages (from dtreeviz) (0.16)\n",
      "Requirement already satisfied: pandas in ./env/lib/python3.7/site-packages (from dtreeviz) (1.2.3)\n",
      "Requirement already satisfied: numpy in ./env/lib/python3.7/site-packages (from dtreeviz) (1.20.1)\n",
      "Requirement already satisfied: scikit-learn in ./env/lib/python3.7/site-packages (from dtreeviz) (0.24.1)\n",
      "Requirement already satisfied: matplotlib in ./env/lib/python3.7/site-packages (from dtreeviz) (3.3.4)\n",
      "Requirement already satisfied: colour in ./env/lib/python3.7/site-packages (from dtreeviz) (0.1.5)\n",
      "Requirement already satisfied: pytest in ./env/lib/python3.7/site-packages (from dtreeviz) (6.2.2)\n",
      "Requirement already satisfied: python-dateutil>=2.1 in ./env/lib/python3.7/site-packages (from matplotlib->dtreeviz) (2.8.1)\n",
      "Requirement already satisfied: pillow>=6.2.0 in ./env/lib/python3.7/site-packages (from matplotlib->dtreeviz) (8.1.2)\n",
      "Requirement already satisfied: kiwisolver>=1.0.1 in ./env/lib/python3.7/site-packages (from matplotlib->dtreeviz) (1.3.1)\n",
      "Requirement already satisfied: cycler>=0.10 in ./env/lib/python3.7/site-packages (from matplotlib->dtreeviz) (0.10.0)\n",
      "Requirement already satisfied: pyparsing!=2.0.4,!=2.1.2,!=2.1.6,>=2.0.3 in ./env/lib/python3.7/site-packages (from matplotlib->dtreeviz) (2.4.7)\n",
      "Requirement already satisfied: six in ./env/lib/python3.7/site-packages (from cycler>=0.10->matplotlib->dtreeviz) (1.15.0)\n",
      "Requirement already satisfied: pytz>=2017.3 in ./env/lib/python3.7/site-packages (from pandas->dtreeviz) (2021.1)\n",
      "Requirement already satisfied: importlib-metadata>=0.12 in ./env/lib/python3.7/site-packages (from pytest->dtreeviz) (3.7.2)\n",
      "Requirement already satisfied: py>=1.8.2 in ./env/lib/python3.7/site-packages (from pytest->dtreeviz) (1.10.0)\n",
      "Requirement already satisfied: iniconfig in ./env/lib/python3.7/site-packages (from pytest->dtreeviz) (1.1.1)\n",
      "Requirement already satisfied: attrs>=19.2.0 in ./env/lib/python3.7/site-packages (from pytest->dtreeviz) (20.3.0)\n",
      "Requirement already satisfied: packaging in ./env/lib/python3.7/site-packages (from pytest->dtreeviz) (20.9)\n",
      "Requirement already satisfied: toml in ./env/lib/python3.7/site-packages (from pytest->dtreeviz) (0.10.2)\n",
      "Requirement already satisfied: pluggy<1.0.0a1,>=0.12 in ./env/lib/python3.7/site-packages (from pytest->dtreeviz) (0.13.1)\n",
      "Requirement already satisfied: typing-extensions>=3.6.4 in ./env/lib/python3.7/site-packages (from importlib-metadata>=0.12->pytest->dtreeviz) (3.7.4.3)\n",
      "Requirement already satisfied: zipp>=0.5 in ./env/lib/python3.7/site-packages (from importlib-metadata>=0.12->pytest->dtreeviz) (3.4.1)\n",
      "Requirement already satisfied: threadpoolctl>=2.0.0 in ./env/lib/python3.7/site-packages (from scikit-learn->dtreeviz) (2.1.0)\n",
      "Requirement already satisfied: joblib>=0.11 in ./env/lib/python3.7/site-packages (from scikit-learn->dtreeviz) (1.0.1)\n",
      "Requirement already satisfied: scipy>=0.19.1 in ./env/lib/python3.7/site-packages (from scikit-learn->dtreeviz) (1.6.1)\n"
     ]
    }
   ],
   "source": [
    "! pip install dtreeviz"
   ]
  },
  {
   "cell_type": "markdown",
   "metadata": {},
   "source": [
    "If for any reason this way of installing doesn't work for you straight out of the box, please refer to the more detailed documentation here: https://github.com/parrt/dtreeviz"
   ]
  },
  {
   "cell_type": "markdown",
   "metadata": {},
   "source": [
    "Now you're ready to visualize your Decision Tree model! Please feel free to use the blog post for guidance and inspiration!"
   ]
  },
  {
   "cell_type": "code",
   "execution_count": 30,
   "metadata": {},
   "outputs": [],
   "source": [
    "# Your code here! :)\n",
    "from dtreeviz.trees import dtreeviz"
   ]
  },
  {
   "cell_type": "code",
   "execution_count": 31,
   "metadata": {},
   "outputs": [],
   "source": [
    "viz = dtreeviz(dt, x_data=X_train, y_data=y_train.values.flatten(), target_name='Class', feature_names=data.columns)\n",
    "viz.save(\"boston.svg\") # suffix determines the generated image format\n",
    "viz.view()     "
   ]
  },
  {
   "cell_type": "code",
   "execution_count": 32,
   "metadata": {},
   "outputs": [
    {
     "data": {
      "text/plain": [
       "array([[   24, 11938,     2, ...,     0,     0,     1],\n",
       "       [   36,  1819,     4, ...,     0,     1,     0],\n",
       "       [   15,  1478,     4, ...,     0,     1,     0],\n",
       "       ...,\n",
       "       [    9,  3832,     1, ...,     1,     0,     0],\n",
       "       [   18,  1928,     2, ...,     1,     0,     0],\n",
       "       [   36,  9857,     1, ...,     1,     0,     0]])"
      ]
     },
     "execution_count": 32,
     "metadata": {},
     "output_type": "execute_result"
    }
   ],
   "source": [
    "X_train.values"
   ]
  },
  {
   "cell_type": "code",
   "execution_count": null,
   "metadata": {},
   "outputs": [],
   "source": []
  },
  {
   "cell_type": "markdown",
   "metadata": {},
   "source": [
    "## Random Forests"
   ]
  },
  {
   "cell_type": "markdown",
   "metadata": {},
   "source": [
    "As discussed in the lecture videos, Decision Tree algorithms also have certain undesireable properties. Mainly the have low bias, which is good, but tend to have high variance - which is *not* so good (more about this problem here: https://en.wikipedia.org/wiki/Bias%E2%80%93variance_tradeoff)."
   ]
  },
  {
   "cell_type": "markdown",
   "metadata": {},
   "source": [
    "Noticing these problems, the late Professor Leo Breiman, in 2001, developed the Random Forests algorithm, which mitigates these problems, while at the same time providing even higher predictive accuracy than the majority of Decision Tree algorithm implementations. While the curriculum contains two excellent lectures on Random Forests, if you're interested, you can dive into the original paper here: https://link.springer.com/content/pdf/10.1023%2FA%3A1010933404324.pdf."
   ]
  },
  {
   "cell_type": "markdown",
   "metadata": {},
   "source": [
    "In the next part of this assignment, your are going to use the same \"German Credit\" dataset to train, tune, and measure the performance of a Random Forests model. You will also see certain functionalities that this model, even though it's a bit of a \"black box\", provides for some degree of interpretability."
   ]
  },
  {
   "cell_type": "markdown",
   "metadata": {},
   "source": [
    "First, let's build a Random Forests model, using the same best practices that you've used for your Decision Trees model. You can reuse the things you've already imported there, so no need to do any re-imports, new train/test splits, or loading up the data again."
   ]
  },
  {
   "cell_type": "code",
   "execution_count": 33,
   "metadata": {},
   "outputs": [],
   "source": [
    "from sklearn.ensemble import RandomForestClassifier"
   ]
  },
  {
   "cell_type": "code",
   "execution_count": 34,
   "metadata": {},
   "outputs": [
    {
     "name": "stderr",
     "output_type": "stream",
     "text": [
      "/mnt/BA504CE3504CA7C9/Work/Python/Workspace/SpringBoard/mec-mini-projects-ps/mec-13.5.1-tree-based-algorithms-mini-project/env/lib/python3.7/site-packages/ipykernel_launcher.py:3: DataConversionWarning: A column-vector y was passed when a 1d array was expected. Please change the shape of y to (n_samples,), for example using ravel().\n",
      "  This is separate from the ipykernel package so we can avoid doing imports until\n"
     ]
    },
    {
     "data": {
      "text/plain": [
       "RandomForestClassifier()"
      ]
     },
     "execution_count": 34,
     "metadata": {},
     "output_type": "execute_result"
    }
   ],
   "source": [
    "# Your code here! :)\n",
    "rfc = RandomForestClassifier()\n",
    "rfc.fit(X_train,y_train)"
   ]
  },
  {
   "cell_type": "code",
   "execution_count": 35,
   "metadata": {},
   "outputs": [],
   "source": [
    "y_pred = rfc.predict(X_test)"
   ]
  },
  {
   "cell_type": "code",
   "execution_count": 36,
   "metadata": {},
   "outputs": [
    {
     "name": "stdout",
     "output_type": "stream",
     "text": [
      "              precision    recall  f1-score   support\n",
      "\n",
      "           0       0.68      0.48      0.56        86\n",
      "           1       0.81      0.91      0.86       214\n",
      "\n",
      "    accuracy                           0.79       300\n",
      "   macro avg       0.75      0.69      0.71       300\n",
      "weighted avg       0.78      0.79      0.77       300\n",
      "\n"
     ]
    }
   ],
   "source": [
    "print(classification_report(y_test,y_pred))"
   ]
  },
  {
   "cell_type": "code",
   "execution_count": 37,
   "metadata": {},
   "outputs": [
    {
     "name": "stderr",
     "output_type": "stream",
     "text": [
      "/mnt/BA504CE3504CA7C9/Work/Python/Workspace/SpringBoard/mec-mini-projects-ps/mec-13.5.1-tree-based-algorithms-mini-project/env/lib/python3.7/site-packages/sklearn/model_selection/_validation.py:593: DataConversionWarning: A column-vector y was passed when a 1d array was expected. Please change the shape of y to (n_samples,), for example using ravel().\n",
      "  estimator.fit(X_train, y_train, **fit_params)\n",
      "/mnt/BA504CE3504CA7C9/Work/Python/Workspace/SpringBoard/mec-mini-projects-ps/mec-13.5.1-tree-based-algorithms-mini-project/env/lib/python3.7/site-packages/sklearn/model_selection/_validation.py:593: DataConversionWarning: A column-vector y was passed when a 1d array was expected. Please change the shape of y to (n_samples,), for example using ravel().\n",
      "  estimator.fit(X_train, y_train, **fit_params)\n",
      "/mnt/BA504CE3504CA7C9/Work/Python/Workspace/SpringBoard/mec-mini-projects-ps/mec-13.5.1-tree-based-algorithms-mini-project/env/lib/python3.7/site-packages/sklearn/model_selection/_validation.py:593: DataConversionWarning: A column-vector y was passed when a 1d array was expected. Please change the shape of y to (n_samples,), for example using ravel().\n",
      "  estimator.fit(X_train, y_train, **fit_params)\n",
      "/mnt/BA504CE3504CA7C9/Work/Python/Workspace/SpringBoard/mec-mini-projects-ps/mec-13.5.1-tree-based-algorithms-mini-project/env/lib/python3.7/site-packages/sklearn/model_selection/_validation.py:593: DataConversionWarning: A column-vector y was passed when a 1d array was expected. Please change the shape of y to (n_samples,), for example using ravel().\n",
      "  estimator.fit(X_train, y_train, **fit_params)\n",
      "/mnt/BA504CE3504CA7C9/Work/Python/Workspace/SpringBoard/mec-mini-projects-ps/mec-13.5.1-tree-based-algorithms-mini-project/env/lib/python3.7/site-packages/sklearn/model_selection/_validation.py:593: DataConversionWarning: A column-vector y was passed when a 1d array was expected. Please change the shape of y to (n_samples,), for example using ravel().\n",
      "  estimator.fit(X_train, y_train, **fit_params)\n",
      "/mnt/BA504CE3504CA7C9/Work/Python/Workspace/SpringBoard/mec-mini-projects-ps/mec-13.5.1-tree-based-algorithms-mini-project/env/lib/python3.7/site-packages/sklearn/model_selection/_validation.py:593: DataConversionWarning: A column-vector y was passed when a 1d array was expected. Please change the shape of y to (n_samples,), for example using ravel().\n",
      "  estimator.fit(X_train, y_train, **fit_params)\n",
      "/mnt/BA504CE3504CA7C9/Work/Python/Workspace/SpringBoard/mec-mini-projects-ps/mec-13.5.1-tree-based-algorithms-mini-project/env/lib/python3.7/site-packages/sklearn/model_selection/_validation.py:593: DataConversionWarning: A column-vector y was passed when a 1d array was expected. Please change the shape of y to (n_samples,), for example using ravel().\n",
      "  estimator.fit(X_train, y_train, **fit_params)\n",
      "/mnt/BA504CE3504CA7C9/Work/Python/Workspace/SpringBoard/mec-mini-projects-ps/mec-13.5.1-tree-based-algorithms-mini-project/env/lib/python3.7/site-packages/sklearn/model_selection/_validation.py:593: DataConversionWarning: A column-vector y was passed when a 1d array was expected. Please change the shape of y to (n_samples,), for example using ravel().\n",
      "  estimator.fit(X_train, y_train, **fit_params)\n",
      "/mnt/BA504CE3504CA7C9/Work/Python/Workspace/SpringBoard/mec-mini-projects-ps/mec-13.5.1-tree-based-algorithms-mini-project/env/lib/python3.7/site-packages/sklearn/model_selection/_validation.py:593: DataConversionWarning: A column-vector y was passed when a 1d array was expected. Please change the shape of y to (n_samples,), for example using ravel().\n",
      "  estimator.fit(X_train, y_train, **fit_params)\n",
      "/mnt/BA504CE3504CA7C9/Work/Python/Workspace/SpringBoard/mec-mini-projects-ps/mec-13.5.1-tree-based-algorithms-mini-project/env/lib/python3.7/site-packages/sklearn/model_selection/_validation.py:593: DataConversionWarning: A column-vector y was passed when a 1d array was expected. Please change the shape of y to (n_samples,), for example using ravel().\n",
      "  estimator.fit(X_train, y_train, **fit_params)\n",
      "/mnt/BA504CE3504CA7C9/Work/Python/Workspace/SpringBoard/mec-mini-projects-ps/mec-13.5.1-tree-based-algorithms-mini-project/env/lib/python3.7/site-packages/sklearn/model_selection/_validation.py:593: DataConversionWarning: A column-vector y was passed when a 1d array was expected. Please change the shape of y to (n_samples,), for example using ravel().\n",
      "  estimator.fit(X_train, y_train, **fit_params)\n",
      "/mnt/BA504CE3504CA7C9/Work/Python/Workspace/SpringBoard/mec-mini-projects-ps/mec-13.5.1-tree-based-algorithms-mini-project/env/lib/python3.7/site-packages/sklearn/model_selection/_validation.py:593: DataConversionWarning: A column-vector y was passed when a 1d array was expected. Please change the shape of y to (n_samples,), for example using ravel().\n",
      "  estimator.fit(X_train, y_train, **fit_params)\n",
      "/mnt/BA504CE3504CA7C9/Work/Python/Workspace/SpringBoard/mec-mini-projects-ps/mec-13.5.1-tree-based-algorithms-mini-project/env/lib/python3.7/site-packages/sklearn/model_selection/_validation.py:593: DataConversionWarning: A column-vector y was passed when a 1d array was expected. Please change the shape of y to (n_samples,), for example using ravel().\n",
      "  estimator.fit(X_train, y_train, **fit_params)\n",
      "/mnt/BA504CE3504CA7C9/Work/Python/Workspace/SpringBoard/mec-mini-projects-ps/mec-13.5.1-tree-based-algorithms-mini-project/env/lib/python3.7/site-packages/sklearn/model_selection/_validation.py:593: DataConversionWarning: A column-vector y was passed when a 1d array was expected. Please change the shape of y to (n_samples,), for example using ravel().\n",
      "  estimator.fit(X_train, y_train, **fit_params)\n",
      "/mnt/BA504CE3504CA7C9/Work/Python/Workspace/SpringBoard/mec-mini-projects-ps/mec-13.5.1-tree-based-algorithms-mini-project/env/lib/python3.7/site-packages/sklearn/model_selection/_validation.py:593: DataConversionWarning: A column-vector y was passed when a 1d array was expected. Please change the shape of y to (n_samples,), for example using ravel().\n",
      "  estimator.fit(X_train, y_train, **fit_params)\n",
      "/mnt/BA504CE3504CA7C9/Work/Python/Workspace/SpringBoard/mec-mini-projects-ps/mec-13.5.1-tree-based-algorithms-mini-project/env/lib/python3.7/site-packages/sklearn/model_selection/_validation.py:593: DataConversionWarning: A column-vector y was passed when a 1d array was expected. Please change the shape of y to (n_samples,), for example using ravel().\n",
      "  estimator.fit(X_train, y_train, **fit_params)\n",
      "/mnt/BA504CE3504CA7C9/Work/Python/Workspace/SpringBoard/mec-mini-projects-ps/mec-13.5.1-tree-based-algorithms-mini-project/env/lib/python3.7/site-packages/sklearn/model_selection/_validation.py:593: DataConversionWarning: A column-vector y was passed when a 1d array was expected. Please change the shape of y to (n_samples,), for example using ravel().\n",
      "  estimator.fit(X_train, y_train, **fit_params)\n",
      "/mnt/BA504CE3504CA7C9/Work/Python/Workspace/SpringBoard/mec-mini-projects-ps/mec-13.5.1-tree-based-algorithms-mini-project/env/lib/python3.7/site-packages/sklearn/model_selection/_validation.py:593: DataConversionWarning: A column-vector y was passed when a 1d array was expected. Please change the shape of y to (n_samples,), for example using ravel().\n",
      "  estimator.fit(X_train, y_train, **fit_params)\n",
      "/mnt/BA504CE3504CA7C9/Work/Python/Workspace/SpringBoard/mec-mini-projects-ps/mec-13.5.1-tree-based-algorithms-mini-project/env/lib/python3.7/site-packages/sklearn/model_selection/_validation.py:593: DataConversionWarning: A column-vector y was passed when a 1d array was expected. Please change the shape of y to (n_samples,), for example using ravel().\n",
      "  estimator.fit(X_train, y_train, **fit_params)\n",
      "/mnt/BA504CE3504CA7C9/Work/Python/Workspace/SpringBoard/mec-mini-projects-ps/mec-13.5.1-tree-based-algorithms-mini-project/env/lib/python3.7/site-packages/sklearn/model_selection/_validation.py:593: DataConversionWarning: A column-vector y was passed when a 1d array was expected. Please change the shape of y to (n_samples,), for example using ravel().\n",
      "  estimator.fit(X_train, y_train, **fit_params)\n",
      "/mnt/BA504CE3504CA7C9/Work/Python/Workspace/SpringBoard/mec-mini-projects-ps/mec-13.5.1-tree-based-algorithms-mini-project/env/lib/python3.7/site-packages/sklearn/model_selection/_validation.py:593: DataConversionWarning: A column-vector y was passed when a 1d array was expected. Please change the shape of y to (n_samples,), for example using ravel().\n",
      "  estimator.fit(X_train, y_train, **fit_params)\n"
     ]
    },
    {
     "name": "stderr",
     "output_type": "stream",
     "text": [
      "/mnt/BA504CE3504CA7C9/Work/Python/Workspace/SpringBoard/mec-mini-projects-ps/mec-13.5.1-tree-based-algorithms-mini-project/env/lib/python3.7/site-packages/sklearn/model_selection/_validation.py:593: DataConversionWarning: A column-vector y was passed when a 1d array was expected. Please change the shape of y to (n_samples,), for example using ravel().\n",
      "  estimator.fit(X_train, y_train, **fit_params)\n",
      "/mnt/BA504CE3504CA7C9/Work/Python/Workspace/SpringBoard/mec-mini-projects-ps/mec-13.5.1-tree-based-algorithms-mini-project/env/lib/python3.7/site-packages/sklearn/model_selection/_validation.py:593: DataConversionWarning: A column-vector y was passed when a 1d array was expected. Please change the shape of y to (n_samples,), for example using ravel().\n",
      "  estimator.fit(X_train, y_train, **fit_params)\n",
      "/mnt/BA504CE3504CA7C9/Work/Python/Workspace/SpringBoard/mec-mini-projects-ps/mec-13.5.1-tree-based-algorithms-mini-project/env/lib/python3.7/site-packages/sklearn/model_selection/_validation.py:593: DataConversionWarning: A column-vector y was passed when a 1d array was expected. Please change the shape of y to (n_samples,), for example using ravel().\n",
      "  estimator.fit(X_train, y_train, **fit_params)\n",
      "/mnt/BA504CE3504CA7C9/Work/Python/Workspace/SpringBoard/mec-mini-projects-ps/mec-13.5.1-tree-based-algorithms-mini-project/env/lib/python3.7/site-packages/sklearn/model_selection/_validation.py:593: DataConversionWarning: A column-vector y was passed when a 1d array was expected. Please change the shape of y to (n_samples,), for example using ravel().\n",
      "  estimator.fit(X_train, y_train, **fit_params)\n",
      "/mnt/BA504CE3504CA7C9/Work/Python/Workspace/SpringBoard/mec-mini-projects-ps/mec-13.5.1-tree-based-algorithms-mini-project/env/lib/python3.7/site-packages/sklearn/model_selection/_validation.py:593: DataConversionWarning: A column-vector y was passed when a 1d array was expected. Please change the shape of y to (n_samples,), for example using ravel().\n",
      "  estimator.fit(X_train, y_train, **fit_params)\n",
      "/mnt/BA504CE3504CA7C9/Work/Python/Workspace/SpringBoard/mec-mini-projects-ps/mec-13.5.1-tree-based-algorithms-mini-project/env/lib/python3.7/site-packages/sklearn/model_selection/_validation.py:593: DataConversionWarning: A column-vector y was passed when a 1d array was expected. Please change the shape of y to (n_samples,), for example using ravel().\n",
      "  estimator.fit(X_train, y_train, **fit_params)\n",
      "/mnt/BA504CE3504CA7C9/Work/Python/Workspace/SpringBoard/mec-mini-projects-ps/mec-13.5.1-tree-based-algorithms-mini-project/env/lib/python3.7/site-packages/sklearn/model_selection/_validation.py:593: DataConversionWarning: A column-vector y was passed when a 1d array was expected. Please change the shape of y to (n_samples,), for example using ravel().\n",
      "  estimator.fit(X_train, y_train, **fit_params)\n",
      "/mnt/BA504CE3504CA7C9/Work/Python/Workspace/SpringBoard/mec-mini-projects-ps/mec-13.5.1-tree-based-algorithms-mini-project/env/lib/python3.7/site-packages/sklearn/model_selection/_validation.py:593: DataConversionWarning: A column-vector y was passed when a 1d array was expected. Please change the shape of y to (n_samples,), for example using ravel().\n",
      "  estimator.fit(X_train, y_train, **fit_params)\n",
      "/mnt/BA504CE3504CA7C9/Work/Python/Workspace/SpringBoard/mec-mini-projects-ps/mec-13.5.1-tree-based-algorithms-mini-project/env/lib/python3.7/site-packages/sklearn/model_selection/_validation.py:593: DataConversionWarning: A column-vector y was passed when a 1d array was expected. Please change the shape of y to (n_samples,), for example using ravel().\n",
      "  estimator.fit(X_train, y_train, **fit_params)\n",
      "/mnt/BA504CE3504CA7C9/Work/Python/Workspace/SpringBoard/mec-mini-projects-ps/mec-13.5.1-tree-based-algorithms-mini-project/env/lib/python3.7/site-packages/sklearn/model_selection/_validation.py:593: DataConversionWarning: A column-vector y was passed when a 1d array was expected. Please change the shape of y to (n_samples,), for example using ravel().\n",
      "  estimator.fit(X_train, y_train, **fit_params)\n",
      "/mnt/BA504CE3504CA7C9/Work/Python/Workspace/SpringBoard/mec-mini-projects-ps/mec-13.5.1-tree-based-algorithms-mini-project/env/lib/python3.7/site-packages/sklearn/model_selection/_validation.py:593: DataConversionWarning: A column-vector y was passed when a 1d array was expected. Please change the shape of y to (n_samples,), for example using ravel().\n",
      "  estimator.fit(X_train, y_train, **fit_params)\n",
      "/mnt/BA504CE3504CA7C9/Work/Python/Workspace/SpringBoard/mec-mini-projects-ps/mec-13.5.1-tree-based-algorithms-mini-project/env/lib/python3.7/site-packages/sklearn/model_selection/_validation.py:593: DataConversionWarning: A column-vector y was passed when a 1d array was expected. Please change the shape of y to (n_samples,), for example using ravel().\n",
      "  estimator.fit(X_train, y_train, **fit_params)\n",
      "/mnt/BA504CE3504CA7C9/Work/Python/Workspace/SpringBoard/mec-mini-projects-ps/mec-13.5.1-tree-based-algorithms-mini-project/env/lib/python3.7/site-packages/sklearn/model_selection/_validation.py:593: DataConversionWarning: A column-vector y was passed when a 1d array was expected. Please change the shape of y to (n_samples,), for example using ravel().\n",
      "  estimator.fit(X_train, y_train, **fit_params)\n",
      "/mnt/BA504CE3504CA7C9/Work/Python/Workspace/SpringBoard/mec-mini-projects-ps/mec-13.5.1-tree-based-algorithms-mini-project/env/lib/python3.7/site-packages/sklearn/model_selection/_validation.py:593: DataConversionWarning: A column-vector y was passed when a 1d array was expected. Please change the shape of y to (n_samples,), for example using ravel().\n",
      "  estimator.fit(X_train, y_train, **fit_params)\n",
      "/mnt/BA504CE3504CA7C9/Work/Python/Workspace/SpringBoard/mec-mini-projects-ps/mec-13.5.1-tree-based-algorithms-mini-project/env/lib/python3.7/site-packages/sklearn/model_selection/_validation.py:593: DataConversionWarning: A column-vector y was passed when a 1d array was expected. Please change the shape of y to (n_samples,), for example using ravel().\n",
      "  estimator.fit(X_train, y_train, **fit_params)\n",
      "/mnt/BA504CE3504CA7C9/Work/Python/Workspace/SpringBoard/mec-mini-projects-ps/mec-13.5.1-tree-based-algorithms-mini-project/env/lib/python3.7/site-packages/sklearn/model_selection/_validation.py:593: DataConversionWarning: A column-vector y was passed when a 1d array was expected. Please change the shape of y to (n_samples,), for example using ravel().\n",
      "  estimator.fit(X_train, y_train, **fit_params)\n",
      "/mnt/BA504CE3504CA7C9/Work/Python/Workspace/SpringBoard/mec-mini-projects-ps/mec-13.5.1-tree-based-algorithms-mini-project/env/lib/python3.7/site-packages/sklearn/model_selection/_validation.py:593: DataConversionWarning: A column-vector y was passed when a 1d array was expected. Please change the shape of y to (n_samples,), for example using ravel().\n",
      "  estimator.fit(X_train, y_train, **fit_params)\n",
      "/mnt/BA504CE3504CA7C9/Work/Python/Workspace/SpringBoard/mec-mini-projects-ps/mec-13.5.1-tree-based-algorithms-mini-project/env/lib/python3.7/site-packages/sklearn/model_selection/_validation.py:593: DataConversionWarning: A column-vector y was passed when a 1d array was expected. Please change the shape of y to (n_samples,), for example using ravel().\n",
      "  estimator.fit(X_train, y_train, **fit_params)\n",
      "/mnt/BA504CE3504CA7C9/Work/Python/Workspace/SpringBoard/mec-mini-projects-ps/mec-13.5.1-tree-based-algorithms-mini-project/env/lib/python3.7/site-packages/sklearn/model_selection/_validation.py:593: DataConversionWarning: A column-vector y was passed when a 1d array was expected. Please change the shape of y to (n_samples,), for example using ravel().\n",
      "  estimator.fit(X_train, y_train, **fit_params)\n",
      "/mnt/BA504CE3504CA7C9/Work/Python/Workspace/SpringBoard/mec-mini-projects-ps/mec-13.5.1-tree-based-algorithms-mini-project/env/lib/python3.7/site-packages/sklearn/model_selection/_validation.py:593: DataConversionWarning: A column-vector y was passed when a 1d array was expected. Please change the shape of y to (n_samples,), for example using ravel().\n",
      "  estimator.fit(X_train, y_train, **fit_params)\n",
      "/mnt/BA504CE3504CA7C9/Work/Python/Workspace/SpringBoard/mec-mini-projects-ps/mec-13.5.1-tree-based-algorithms-mini-project/env/lib/python3.7/site-packages/sklearn/model_selection/_validation.py:593: DataConversionWarning: A column-vector y was passed when a 1d array was expected. Please change the shape of y to (n_samples,), for example using ravel().\n",
      "  estimator.fit(X_train, y_train, **fit_params)\n"
     ]
    },
    {
     "name": "stderr",
     "output_type": "stream",
     "text": [
      "/mnt/BA504CE3504CA7C9/Work/Python/Workspace/SpringBoard/mec-mini-projects-ps/mec-13.5.1-tree-based-algorithms-mini-project/env/lib/python3.7/site-packages/sklearn/model_selection/_validation.py:593: DataConversionWarning: A column-vector y was passed when a 1d array was expected. Please change the shape of y to (n_samples,), for example using ravel().\n",
      "  estimator.fit(X_train, y_train, **fit_params)\n",
      "/mnt/BA504CE3504CA7C9/Work/Python/Workspace/SpringBoard/mec-mini-projects-ps/mec-13.5.1-tree-based-algorithms-mini-project/env/lib/python3.7/site-packages/sklearn/model_selection/_validation.py:593: DataConversionWarning: A column-vector y was passed when a 1d array was expected. Please change the shape of y to (n_samples,), for example using ravel().\n",
      "  estimator.fit(X_train, y_train, **fit_params)\n",
      "/mnt/BA504CE3504CA7C9/Work/Python/Workspace/SpringBoard/mec-mini-projects-ps/mec-13.5.1-tree-based-algorithms-mini-project/env/lib/python3.7/site-packages/sklearn/model_selection/_validation.py:593: DataConversionWarning: A column-vector y was passed when a 1d array was expected. Please change the shape of y to (n_samples,), for example using ravel().\n",
      "  estimator.fit(X_train, y_train, **fit_params)\n",
      "/mnt/BA504CE3504CA7C9/Work/Python/Workspace/SpringBoard/mec-mini-projects-ps/mec-13.5.1-tree-based-algorithms-mini-project/env/lib/python3.7/site-packages/sklearn/model_selection/_validation.py:593: DataConversionWarning: A column-vector y was passed when a 1d array was expected. Please change the shape of y to (n_samples,), for example using ravel().\n",
      "  estimator.fit(X_train, y_train, **fit_params)\n",
      "/mnt/BA504CE3504CA7C9/Work/Python/Workspace/SpringBoard/mec-mini-projects-ps/mec-13.5.1-tree-based-algorithms-mini-project/env/lib/python3.7/site-packages/sklearn/model_selection/_validation.py:593: DataConversionWarning: A column-vector y was passed when a 1d array was expected. Please change the shape of y to (n_samples,), for example using ravel().\n",
      "  estimator.fit(X_train, y_train, **fit_params)\n",
      "/mnt/BA504CE3504CA7C9/Work/Python/Workspace/SpringBoard/mec-mini-projects-ps/mec-13.5.1-tree-based-algorithms-mini-project/env/lib/python3.7/site-packages/sklearn/model_selection/_validation.py:593: DataConversionWarning: A column-vector y was passed when a 1d array was expected. Please change the shape of y to (n_samples,), for example using ravel().\n",
      "  estimator.fit(X_train, y_train, **fit_params)\n",
      "/mnt/BA504CE3504CA7C9/Work/Python/Workspace/SpringBoard/mec-mini-projects-ps/mec-13.5.1-tree-based-algorithms-mini-project/env/lib/python3.7/site-packages/sklearn/model_selection/_validation.py:593: DataConversionWarning: A column-vector y was passed when a 1d array was expected. Please change the shape of y to (n_samples,), for example using ravel().\n",
      "  estimator.fit(X_train, y_train, **fit_params)\n",
      "/mnt/BA504CE3504CA7C9/Work/Python/Workspace/SpringBoard/mec-mini-projects-ps/mec-13.5.1-tree-based-algorithms-mini-project/env/lib/python3.7/site-packages/sklearn/model_selection/_validation.py:593: DataConversionWarning: A column-vector y was passed when a 1d array was expected. Please change the shape of y to (n_samples,), for example using ravel().\n",
      "  estimator.fit(X_train, y_train, **fit_params)\n",
      "/mnt/BA504CE3504CA7C9/Work/Python/Workspace/SpringBoard/mec-mini-projects-ps/mec-13.5.1-tree-based-algorithms-mini-project/env/lib/python3.7/site-packages/sklearn/model_selection/_validation.py:593: DataConversionWarning: A column-vector y was passed when a 1d array was expected. Please change the shape of y to (n_samples,), for example using ravel().\n",
      "  estimator.fit(X_train, y_train, **fit_params)\n",
      "/mnt/BA504CE3504CA7C9/Work/Python/Workspace/SpringBoard/mec-mini-projects-ps/mec-13.5.1-tree-based-algorithms-mini-project/env/lib/python3.7/site-packages/sklearn/model_selection/_validation.py:593: DataConversionWarning: A column-vector y was passed when a 1d array was expected. Please change the shape of y to (n_samples,), for example using ravel().\n",
      "  estimator.fit(X_train, y_train, **fit_params)\n",
      "/mnt/BA504CE3504CA7C9/Work/Python/Workspace/SpringBoard/mec-mini-projects-ps/mec-13.5.1-tree-based-algorithms-mini-project/env/lib/python3.7/site-packages/sklearn/model_selection/_validation.py:593: DataConversionWarning: A column-vector y was passed when a 1d array was expected. Please change the shape of y to (n_samples,), for example using ravel().\n",
      "  estimator.fit(X_train, y_train, **fit_params)\n",
      "/mnt/BA504CE3504CA7C9/Work/Python/Workspace/SpringBoard/mec-mini-projects-ps/mec-13.5.1-tree-based-algorithms-mini-project/env/lib/python3.7/site-packages/sklearn/model_selection/_validation.py:593: DataConversionWarning: A column-vector y was passed when a 1d array was expected. Please change the shape of y to (n_samples,), for example using ravel().\n",
      "  estimator.fit(X_train, y_train, **fit_params)\n",
      "/mnt/BA504CE3504CA7C9/Work/Python/Workspace/SpringBoard/mec-mini-projects-ps/mec-13.5.1-tree-based-algorithms-mini-project/env/lib/python3.7/site-packages/sklearn/model_selection/_validation.py:593: DataConversionWarning: A column-vector y was passed when a 1d array was expected. Please change the shape of y to (n_samples,), for example using ravel().\n",
      "  estimator.fit(X_train, y_train, **fit_params)\n",
      "/mnt/BA504CE3504CA7C9/Work/Python/Workspace/SpringBoard/mec-mini-projects-ps/mec-13.5.1-tree-based-algorithms-mini-project/env/lib/python3.7/site-packages/sklearn/model_selection/_validation.py:593: DataConversionWarning: A column-vector y was passed when a 1d array was expected. Please change the shape of y to (n_samples,), for example using ravel().\n",
      "  estimator.fit(X_train, y_train, **fit_params)\n",
      "/mnt/BA504CE3504CA7C9/Work/Python/Workspace/SpringBoard/mec-mini-projects-ps/mec-13.5.1-tree-based-algorithms-mini-project/env/lib/python3.7/site-packages/sklearn/model_selection/_validation.py:593: DataConversionWarning: A column-vector y was passed when a 1d array was expected. Please change the shape of y to (n_samples,), for example using ravel().\n",
      "  estimator.fit(X_train, y_train, **fit_params)\n",
      "/mnt/BA504CE3504CA7C9/Work/Python/Workspace/SpringBoard/mec-mini-projects-ps/mec-13.5.1-tree-based-algorithms-mini-project/env/lib/python3.7/site-packages/sklearn/model_selection/_validation.py:593: DataConversionWarning: A column-vector y was passed when a 1d array was expected. Please change the shape of y to (n_samples,), for example using ravel().\n",
      "  estimator.fit(X_train, y_train, **fit_params)\n",
      "/mnt/BA504CE3504CA7C9/Work/Python/Workspace/SpringBoard/mec-mini-projects-ps/mec-13.5.1-tree-based-algorithms-mini-project/env/lib/python3.7/site-packages/sklearn/model_selection/_validation.py:593: DataConversionWarning: A column-vector y was passed when a 1d array was expected. Please change the shape of y to (n_samples,), for example using ravel().\n",
      "  estimator.fit(X_train, y_train, **fit_params)\n",
      "/mnt/BA504CE3504CA7C9/Work/Python/Workspace/SpringBoard/mec-mini-projects-ps/mec-13.5.1-tree-based-algorithms-mini-project/env/lib/python3.7/site-packages/sklearn/model_selection/_validation.py:593: DataConversionWarning: A column-vector y was passed when a 1d array was expected. Please change the shape of y to (n_samples,), for example using ravel().\n",
      "  estimator.fit(X_train, y_train, **fit_params)\n",
      "/mnt/BA504CE3504CA7C9/Work/Python/Workspace/SpringBoard/mec-mini-projects-ps/mec-13.5.1-tree-based-algorithms-mini-project/env/lib/python3.7/site-packages/sklearn/model_selection/_validation.py:593: DataConversionWarning: A column-vector y was passed when a 1d array was expected. Please change the shape of y to (n_samples,), for example using ravel().\n",
      "  estimator.fit(X_train, y_train, **fit_params)\n",
      "/mnt/BA504CE3504CA7C9/Work/Python/Workspace/SpringBoard/mec-mini-projects-ps/mec-13.5.1-tree-based-algorithms-mini-project/env/lib/python3.7/site-packages/sklearn/model_selection/_validation.py:593: DataConversionWarning: A column-vector y was passed when a 1d array was expected. Please change the shape of y to (n_samples,), for example using ravel().\n",
      "  estimator.fit(X_train, y_train, **fit_params)\n",
      "/mnt/BA504CE3504CA7C9/Work/Python/Workspace/SpringBoard/mec-mini-projects-ps/mec-13.5.1-tree-based-algorithms-mini-project/env/lib/python3.7/site-packages/sklearn/model_selection/_validation.py:593: DataConversionWarning: A column-vector y was passed when a 1d array was expected. Please change the shape of y to (n_samples,), for example using ravel().\n",
      "  estimator.fit(X_train, y_train, **fit_params)\n"
     ]
    },
    {
     "name": "stderr",
     "output_type": "stream",
     "text": [
      "/mnt/BA504CE3504CA7C9/Work/Python/Workspace/SpringBoard/mec-mini-projects-ps/mec-13.5.1-tree-based-algorithms-mini-project/env/lib/python3.7/site-packages/sklearn/model_selection/_validation.py:593: DataConversionWarning: A column-vector y was passed when a 1d array was expected. Please change the shape of y to (n_samples,), for example using ravel().\n",
      "  estimator.fit(X_train, y_train, **fit_params)\n",
      "/mnt/BA504CE3504CA7C9/Work/Python/Workspace/SpringBoard/mec-mini-projects-ps/mec-13.5.1-tree-based-algorithms-mini-project/env/lib/python3.7/site-packages/sklearn/model_selection/_validation.py:593: DataConversionWarning: A column-vector y was passed when a 1d array was expected. Please change the shape of y to (n_samples,), for example using ravel().\n",
      "  estimator.fit(X_train, y_train, **fit_params)\n",
      "/mnt/BA504CE3504CA7C9/Work/Python/Workspace/SpringBoard/mec-mini-projects-ps/mec-13.5.1-tree-based-algorithms-mini-project/env/lib/python3.7/site-packages/sklearn/model_selection/_validation.py:593: DataConversionWarning: A column-vector y was passed when a 1d array was expected. Please change the shape of y to (n_samples,), for example using ravel().\n",
      "  estimator.fit(X_train, y_train, **fit_params)\n",
      "/mnt/BA504CE3504CA7C9/Work/Python/Workspace/SpringBoard/mec-mini-projects-ps/mec-13.5.1-tree-based-algorithms-mini-project/env/lib/python3.7/site-packages/sklearn/model_selection/_validation.py:593: DataConversionWarning: A column-vector y was passed when a 1d array was expected. Please change the shape of y to (n_samples,), for example using ravel().\n",
      "  estimator.fit(X_train, y_train, **fit_params)\n",
      "/mnt/BA504CE3504CA7C9/Work/Python/Workspace/SpringBoard/mec-mini-projects-ps/mec-13.5.1-tree-based-algorithms-mini-project/env/lib/python3.7/site-packages/sklearn/model_selection/_validation.py:593: DataConversionWarning: A column-vector y was passed when a 1d array was expected. Please change the shape of y to (n_samples,), for example using ravel().\n",
      "  estimator.fit(X_train, y_train, **fit_params)\n",
      "/mnt/BA504CE3504CA7C9/Work/Python/Workspace/SpringBoard/mec-mini-projects-ps/mec-13.5.1-tree-based-algorithms-mini-project/env/lib/python3.7/site-packages/sklearn/model_selection/_validation.py:593: DataConversionWarning: A column-vector y was passed when a 1d array was expected. Please change the shape of y to (n_samples,), for example using ravel().\n",
      "  estimator.fit(X_train, y_train, **fit_params)\n",
      "/mnt/BA504CE3504CA7C9/Work/Python/Workspace/SpringBoard/mec-mini-projects-ps/mec-13.5.1-tree-based-algorithms-mini-project/env/lib/python3.7/site-packages/sklearn/model_selection/_validation.py:593: DataConversionWarning: A column-vector y was passed when a 1d array was expected. Please change the shape of y to (n_samples,), for example using ravel().\n",
      "  estimator.fit(X_train, y_train, **fit_params)\n",
      "/mnt/BA504CE3504CA7C9/Work/Python/Workspace/SpringBoard/mec-mini-projects-ps/mec-13.5.1-tree-based-algorithms-mini-project/env/lib/python3.7/site-packages/sklearn/model_selection/_validation.py:593: DataConversionWarning: A column-vector y was passed when a 1d array was expected. Please change the shape of y to (n_samples,), for example using ravel().\n",
      "  estimator.fit(X_train, y_train, **fit_params)\n",
      "/mnt/BA504CE3504CA7C9/Work/Python/Workspace/SpringBoard/mec-mini-projects-ps/mec-13.5.1-tree-based-algorithms-mini-project/env/lib/python3.7/site-packages/sklearn/model_selection/_validation.py:593: DataConversionWarning: A column-vector y was passed when a 1d array was expected. Please change the shape of y to (n_samples,), for example using ravel().\n",
      "  estimator.fit(X_train, y_train, **fit_params)\n",
      "/mnt/BA504CE3504CA7C9/Work/Python/Workspace/SpringBoard/mec-mini-projects-ps/mec-13.5.1-tree-based-algorithms-mini-project/env/lib/python3.7/site-packages/sklearn/model_selection/_validation.py:593: DataConversionWarning: A column-vector y was passed when a 1d array was expected. Please change the shape of y to (n_samples,), for example using ravel().\n",
      "  estimator.fit(X_train, y_train, **fit_params)\n",
      "/mnt/BA504CE3504CA7C9/Work/Python/Workspace/SpringBoard/mec-mini-projects-ps/mec-13.5.1-tree-based-algorithms-mini-project/env/lib/python3.7/site-packages/sklearn/model_selection/_validation.py:593: DataConversionWarning: A column-vector y was passed when a 1d array was expected. Please change the shape of y to (n_samples,), for example using ravel().\n",
      "  estimator.fit(X_train, y_train, **fit_params)\n",
      "/mnt/BA504CE3504CA7C9/Work/Python/Workspace/SpringBoard/mec-mini-projects-ps/mec-13.5.1-tree-based-algorithms-mini-project/env/lib/python3.7/site-packages/sklearn/model_selection/_validation.py:593: DataConversionWarning: A column-vector y was passed when a 1d array was expected. Please change the shape of y to (n_samples,), for example using ravel().\n",
      "  estimator.fit(X_train, y_train, **fit_params)\n",
      "/mnt/BA504CE3504CA7C9/Work/Python/Workspace/SpringBoard/mec-mini-projects-ps/mec-13.5.1-tree-based-algorithms-mini-project/env/lib/python3.7/site-packages/sklearn/model_selection/_validation.py:593: DataConversionWarning: A column-vector y was passed when a 1d array was expected. Please change the shape of y to (n_samples,), for example using ravel().\n",
      "  estimator.fit(X_train, y_train, **fit_params)\n",
      "/mnt/BA504CE3504CA7C9/Work/Python/Workspace/SpringBoard/mec-mini-projects-ps/mec-13.5.1-tree-based-algorithms-mini-project/env/lib/python3.7/site-packages/sklearn/model_selection/_validation.py:593: DataConversionWarning: A column-vector y was passed when a 1d array was expected. Please change the shape of y to (n_samples,), for example using ravel().\n",
      "  estimator.fit(X_train, y_train, **fit_params)\n",
      "/mnt/BA504CE3504CA7C9/Work/Python/Workspace/SpringBoard/mec-mini-projects-ps/mec-13.5.1-tree-based-algorithms-mini-project/env/lib/python3.7/site-packages/sklearn/model_selection/_validation.py:593: DataConversionWarning: A column-vector y was passed when a 1d array was expected. Please change the shape of y to (n_samples,), for example using ravel().\n",
      "  estimator.fit(X_train, y_train, **fit_params)\n",
      "/mnt/BA504CE3504CA7C9/Work/Python/Workspace/SpringBoard/mec-mini-projects-ps/mec-13.5.1-tree-based-algorithms-mini-project/env/lib/python3.7/site-packages/sklearn/model_selection/_validation.py:593: DataConversionWarning: A column-vector y was passed when a 1d array was expected. Please change the shape of y to (n_samples,), for example using ravel().\n",
      "  estimator.fit(X_train, y_train, **fit_params)\n",
      "/mnt/BA504CE3504CA7C9/Work/Python/Workspace/SpringBoard/mec-mini-projects-ps/mec-13.5.1-tree-based-algorithms-mini-project/env/lib/python3.7/site-packages/sklearn/model_selection/_validation.py:593: DataConversionWarning: A column-vector y was passed when a 1d array was expected. Please change the shape of y to (n_samples,), for example using ravel().\n",
      "  estimator.fit(X_train, y_train, **fit_params)\n",
      "/mnt/BA504CE3504CA7C9/Work/Python/Workspace/SpringBoard/mec-mini-projects-ps/mec-13.5.1-tree-based-algorithms-mini-project/env/lib/python3.7/site-packages/sklearn/model_selection/_validation.py:593: DataConversionWarning: A column-vector y was passed when a 1d array was expected. Please change the shape of y to (n_samples,), for example using ravel().\n",
      "  estimator.fit(X_train, y_train, **fit_params)\n",
      "/mnt/BA504CE3504CA7C9/Work/Python/Workspace/SpringBoard/mec-mini-projects-ps/mec-13.5.1-tree-based-algorithms-mini-project/env/lib/python3.7/site-packages/sklearn/model_selection/_validation.py:593: DataConversionWarning: A column-vector y was passed when a 1d array was expected. Please change the shape of y to (n_samples,), for example using ravel().\n",
      "  estimator.fit(X_train, y_train, **fit_params)\n",
      "/mnt/BA504CE3504CA7C9/Work/Python/Workspace/SpringBoard/mec-mini-projects-ps/mec-13.5.1-tree-based-algorithms-mini-project/env/lib/python3.7/site-packages/sklearn/model_selection/_validation.py:593: DataConversionWarning: A column-vector y was passed when a 1d array was expected. Please change the shape of y to (n_samples,), for example using ravel().\n",
      "  estimator.fit(X_train, y_train, **fit_params)\n",
      "/mnt/BA504CE3504CA7C9/Work/Python/Workspace/SpringBoard/mec-mini-projects-ps/mec-13.5.1-tree-based-algorithms-mini-project/env/lib/python3.7/site-packages/sklearn/model_selection/_validation.py:593: DataConversionWarning: A column-vector y was passed when a 1d array was expected. Please change the shape of y to (n_samples,), for example using ravel().\n",
      "  estimator.fit(X_train, y_train, **fit_params)\n"
     ]
    },
    {
     "name": "stderr",
     "output_type": "stream",
     "text": [
      "/mnt/BA504CE3504CA7C9/Work/Python/Workspace/SpringBoard/mec-mini-projects-ps/mec-13.5.1-tree-based-algorithms-mini-project/env/lib/python3.7/site-packages/sklearn/model_selection/_validation.py:593: DataConversionWarning: A column-vector y was passed when a 1d array was expected. Please change the shape of y to (n_samples,), for example using ravel().\n",
      "  estimator.fit(X_train, y_train, **fit_params)\n",
      "/mnt/BA504CE3504CA7C9/Work/Python/Workspace/SpringBoard/mec-mini-projects-ps/mec-13.5.1-tree-based-algorithms-mini-project/env/lib/python3.7/site-packages/sklearn/model_selection/_validation.py:593: DataConversionWarning: A column-vector y was passed when a 1d array was expected. Please change the shape of y to (n_samples,), for example using ravel().\n",
      "  estimator.fit(X_train, y_train, **fit_params)\n",
      "/mnt/BA504CE3504CA7C9/Work/Python/Workspace/SpringBoard/mec-mini-projects-ps/mec-13.5.1-tree-based-algorithms-mini-project/env/lib/python3.7/site-packages/sklearn/model_selection/_validation.py:593: DataConversionWarning: A column-vector y was passed when a 1d array was expected. Please change the shape of y to (n_samples,), for example using ravel().\n",
      "  estimator.fit(X_train, y_train, **fit_params)\n",
      "/mnt/BA504CE3504CA7C9/Work/Python/Workspace/SpringBoard/mec-mini-projects-ps/mec-13.5.1-tree-based-algorithms-mini-project/env/lib/python3.7/site-packages/sklearn/model_selection/_validation.py:593: DataConversionWarning: A column-vector y was passed when a 1d array was expected. Please change the shape of y to (n_samples,), for example using ravel().\n",
      "  estimator.fit(X_train, y_train, **fit_params)\n",
      "/mnt/BA504CE3504CA7C9/Work/Python/Workspace/SpringBoard/mec-mini-projects-ps/mec-13.5.1-tree-based-algorithms-mini-project/env/lib/python3.7/site-packages/sklearn/model_selection/_validation.py:593: DataConversionWarning: A column-vector y was passed when a 1d array was expected. Please change the shape of y to (n_samples,), for example using ravel().\n",
      "  estimator.fit(X_train, y_train, **fit_params)\n",
      "/mnt/BA504CE3504CA7C9/Work/Python/Workspace/SpringBoard/mec-mini-projects-ps/mec-13.5.1-tree-based-algorithms-mini-project/env/lib/python3.7/site-packages/sklearn/model_selection/_validation.py:593: DataConversionWarning: A column-vector y was passed when a 1d array was expected. Please change the shape of y to (n_samples,), for example using ravel().\n",
      "  estimator.fit(X_train, y_train, **fit_params)\n",
      "/mnt/BA504CE3504CA7C9/Work/Python/Workspace/SpringBoard/mec-mini-projects-ps/mec-13.5.1-tree-based-algorithms-mini-project/env/lib/python3.7/site-packages/sklearn/model_selection/_search.py:880: DataConversionWarning: A column-vector y was passed when a 1d array was expected. Please change the shape of y to (n_samples,), for example using ravel().\n",
      "  self.best_estimator_.fit(X, y, **fit_params)\n"
     ]
    },
    {
     "data": {
      "text/plain": [
       "GridSearchCV(estimator=RandomForestClassifier(),\n",
       "             param_grid={'max_depth': [4, 5, 6, 7, 8, 9, 10, 11, 12, 15, 20, 30,\n",
       "                                       40, 50, 70, 90, 120, 150]})"
      ]
     },
     "execution_count": 37,
     "metadata": {},
     "output_type": "execute_result"
    }
   ],
   "source": [
    "rfc = RandomForestClassifier()\n",
    "params = { 'max_depth':[4,5,6,7,8,9,10,11,12,15,20,30,40,50,70,90,120,150] }\n",
    "gs = GridSearchCV(rfc, param_grid=params)\n",
    "gs.fit(X_train,y_train)"
   ]
  },
  {
   "cell_type": "code",
   "execution_count": 38,
   "metadata": {},
   "outputs": [
    {
     "data": {
      "text/plain": [
       "RandomForestClassifier(max_depth=15)"
      ]
     },
     "execution_count": 38,
     "metadata": {},
     "output_type": "execute_result"
    }
   ],
   "source": [
    "gs.best_estimator_"
   ]
  },
  {
   "cell_type": "code",
   "execution_count": 39,
   "metadata": {},
   "outputs": [
    {
     "data": {
      "text/plain": [
       "9"
      ]
     },
     "execution_count": 39,
     "metadata": {},
     "output_type": "execute_result"
    }
   ],
   "source": [
    "gs.best_index_"
   ]
  },
  {
   "cell_type": "code",
   "execution_count": 40,
   "metadata": {},
   "outputs": [
    {
     "data": {
      "text/plain": [
       "0.777142857142857"
      ]
     },
     "execution_count": 40,
     "metadata": {},
     "output_type": "execute_result"
    }
   ],
   "source": [
    "gs.best_score_"
   ]
  },
  {
   "cell_type": "code",
   "execution_count": 41,
   "metadata": {},
   "outputs": [
    {
     "data": {
      "text/plain": [
       "{'max_depth': 15}"
      ]
     },
     "execution_count": 41,
     "metadata": {},
     "output_type": "execute_result"
    }
   ],
   "source": [
    "gs.best_params_"
   ]
  },
  {
   "cell_type": "code",
   "execution_count": 42,
   "metadata": {},
   "outputs": [
    {
     "data": {
      "text/plain": [
       "{'mean_fit_time': array([0.57744188, 0.55646868, 0.57109151, 0.57366543, 0.64165101,\n",
       "        0.63969293, 0.62619328, 0.63911943, 0.69253812, 0.75242529,\n",
       "        0.76983795, 0.70831227, 0.72471595, 0.70440464, 0.71373391,\n",
       "        0.69256959, 0.65307469, 0.64219851]),\n",
       " 'std_fit_time': array([0.04505901, 0.01176236, 0.01401072, 0.01505754, 0.06279424,\n",
       "        0.04833456, 0.07809325, 0.01272901, 0.09510285, 0.04941691,\n",
       "        0.04640026, 0.01623926, 0.02703477, 0.02228719, 0.04057065,\n",
       "        0.06368734, 0.04152191, 0.03692419]),\n",
       " 'mean_score_time': array([0.05831366, 0.05107565, 0.05181818, 0.0481812 , 0.05416079,\n",
       "        0.05450764, 0.05144739, 0.05709348, 0.05977449, 0.05887394,\n",
       "        0.06511569, 0.06283264, 0.05869827, 0.06127949, 0.0620173 ,\n",
       "        0.06423111, 0.06363072, 0.05177221]),\n",
       " 'std_score_time': array([0.00578297, 0.003685  , 0.00405475, 0.00082371, 0.00811691,\n",
       "        0.00678582, 0.00201329, 0.01082574, 0.00984114, 0.00591524,\n",
       "        0.01283954, 0.00578705, 0.00285133, 0.00345384, 0.00421886,\n",
       "        0.01141326, 0.00870355, 0.00211864]),\n",
       " 'param_max_depth': masked_array(data=[4, 5, 6, 7, 8, 9, 10, 11, 12, 15, 20, 30, 40, 50, 70,\n",
       "                    90, 120, 150],\n",
       "              mask=[False, False, False, False, False, False, False, False,\n",
       "                    False, False, False, False, False, False, False, False,\n",
       "                    False, False],\n",
       "        fill_value='?',\n",
       "             dtype=object),\n",
       " 'params': [{'max_depth': 4},\n",
       "  {'max_depth': 5},\n",
       "  {'max_depth': 6},\n",
       "  {'max_depth': 7},\n",
       "  {'max_depth': 8},\n",
       "  {'max_depth': 9},\n",
       "  {'max_depth': 10},\n",
       "  {'max_depth': 11},\n",
       "  {'max_depth': 12},\n",
       "  {'max_depth': 15},\n",
       "  {'max_depth': 20},\n",
       "  {'max_depth': 30},\n",
       "  {'max_depth': 40},\n",
       "  {'max_depth': 50},\n",
       "  {'max_depth': 70},\n",
       "  {'max_depth': 90},\n",
       "  {'max_depth': 120},\n",
       "  {'max_depth': 150}],\n",
       " 'split0_test_score': array([0.7       , 0.69285714, 0.7       , 0.70714286, 0.71428571,\n",
       "        0.71428571, 0.74285714, 0.73571429, 0.73571429, 0.72857143,\n",
       "        0.71428571, 0.72857143, 0.71428571, 0.72857143, 0.73571429,\n",
       "        0.73571429, 0.74285714, 0.75      ]),\n",
       " 'split1_test_score': array([0.72142857, 0.72142857, 0.71428571, 0.76428571, 0.75      ,\n",
       "        0.77142857, 0.77857143, 0.78571429, 0.75714286, 0.77857143,\n",
       "        0.73571429, 0.75      , 0.78571429, 0.76428571, 0.74285714,\n",
       "        0.75714286, 0.74285714, 0.78571429]),\n",
       " 'split2_test_score': array([0.73571429, 0.76428571, 0.77857143, 0.79285714, 0.78571429,\n",
       "        0.78571429, 0.81428571, 0.8       , 0.8       , 0.80714286,\n",
       "        0.82857143, 0.81428571, 0.82142857, 0.81428571, 0.77857143,\n",
       "        0.8       , 0.80714286, 0.8       ]),\n",
       " 'split3_test_score': array([0.69285714, 0.68571429, 0.70714286, 0.70714286, 0.75      ,\n",
       "        0.74285714, 0.70714286, 0.73571429, 0.74285714, 0.77857143,\n",
       "        0.69285714, 0.72857143, 0.76428571, 0.75714286, 0.74285714,\n",
       "        0.75      , 0.75      , 0.75714286]),\n",
       " 'split4_test_score': array([0.72142857, 0.74285714, 0.75714286, 0.76428571, 0.77857143,\n",
       "        0.77142857, 0.78571429, 0.75714286, 0.77857143, 0.79285714,\n",
       "        0.76428571, 0.77857143, 0.77142857, 0.77142857, 0.77857143,\n",
       "        0.77142857, 0.76428571, 0.76428571]),\n",
       " 'mean_test_score': array([0.71428571, 0.72142857, 0.73142857, 0.74714286, 0.75571429,\n",
       "        0.75714286, 0.76571429, 0.76285714, 0.76285714, 0.77714286,\n",
       "        0.74714286, 0.76      , 0.77142857, 0.76714286, 0.75571429,\n",
       "        0.76285714, 0.76142857, 0.77142857]),\n",
       " 'std_test_score': array([0.01564922, 0.02962349, 0.03083862, 0.03428571, 0.02531435,\n",
       "        0.02555506, 0.03708787, 0.0261081 , 0.02364706, 0.02649605,\n",
       "        0.04707788, 0.03276384, 0.03469988, 0.02770103, 0.01884415,\n",
       "        0.02185294, 0.02415934, 0.01862629]),\n",
       " 'rank_test_score': array([18, 17, 16, 14, 12, 11,  5,  6,  6,  1, 14, 10,  2,  4, 12,  6,  9,\n",
       "         2], dtype=int32)}"
      ]
     },
     "execution_count": 42,
     "metadata": {},
     "output_type": "execute_result"
    }
   ],
   "source": [
    "gs.cv_results_"
   ]
  },
  {
   "cell_type": "code",
   "execution_count": 43,
   "metadata": {},
   "outputs": [
    {
     "name": "stderr",
     "output_type": "stream",
     "text": [
      "/mnt/BA504CE3504CA7C9/Work/Python/Workspace/SpringBoard/mec-mini-projects-ps/mec-13.5.1-tree-based-algorithms-mini-project/env/lib/python3.7/site-packages/ipykernel_launcher.py:2: DataConversionWarning: A column-vector y was passed when a 1d array was expected. Please change the shape of y to (n_samples,), for example using ravel().\n",
      "  \n"
     ]
    },
    {
     "data": {
      "text/plain": [
       "array([0.07819725, 0.10180931, 0.03465816, 0.03481431, 0.07412977,\n",
       "       0.02020209, 0.01212606, 0.01721775, 0.00328725, 0.04713309,\n",
       "       0.01746763, 0.00831017, 0.04536663, 0.01377858, 0.01397107,\n",
       "       0.01376267, 0.01039313, 0.020836  , 0.0184431 , 0.01073253,\n",
       "       0.01410195, 0.01162478, 0.00302493, 0.00623332, 0.00602986,\n",
       "       0.        , 0.00126546, 0.01177834, 0.00224418, 0.01732244,\n",
       "       0.00772133, 0.00624914, 0.00485716, 0.01026592, 0.01686095,\n",
       "       0.01356229, 0.01246853, 0.01365446, 0.00580167, 0.00640469,\n",
       "       0.01462111, 0.01673548, 0.00924822, 0.        , 0.01012736,\n",
       "       0.00712615, 0.00778351, 0.01871981, 0.01234945, 0.01502652,\n",
       "       0.01098523, 0.01222377, 0.00811114, 0.01541552, 0.01206047,\n",
       "       0.01341664, 0.00700229, 0.00235272, 0.01217341, 0.01510163,\n",
       "       0.01131164])"
      ]
     },
     "execution_count": 43,
     "metadata": {},
     "output_type": "execute_result"
    }
   ],
   "source": [
    "rfc = RandomForestClassifier(max_depth=50)\n",
    "rfc.fit(X_train,y_train)\n",
    "rfc.feature_importances_"
   ]
  },
  {
   "cell_type": "markdown",
   "metadata": {},
   "source": [
    "As mentioned, there are certain ways to \"peek\" into a model created by the Random Forests algorithm. The first, and most popular one, is the Feature Importance calculation functionality. This allows the ML practitioner to see an ordering of the importance of the features that have contributed the most to the predictive accuracy of the model. \n",
    "\n",
    "You can see how to use this in the scikit-learn documentation (http://scikit-learn.org/stable/modules/generated/sklearn.ensemble.RandomForestClassifier.html#sklearn.ensemble.RandomForestClassifier.feature_importances_). Now, if you tried this, you would just get an ordered table of not directly interpretable numeric values. Thus, it's much more useful to show the feature importance in a visual way. You can see an example of how that's done here: http://scikit-learn.org/stable/auto_examples/ensemble/plot_forest_importances.html#sphx-glr-auto-examples-ensemble-plot-forest-importances-py\n",
    "\n",
    "Now you try! Let's visualize the importance of features from your Random Forests model!"
   ]
  },
  {
   "cell_type": "code",
   "execution_count": 44,
   "metadata": {},
   "outputs": [
    {
     "data": {
      "text/plain": [
       "array(['Duration', 'Amount', 'InstallmentRatePercentage',\n",
       "       'ResidenceDuration', 'Age', 'NumberExistingCredits',\n",
       "       'NumberPeopleMaintenance', 'Telephone', 'ForeignWorker',\n",
       "       'CheckingAccountStatus.lt.0', 'CheckingAccountStatus.0.to.200',\n",
       "       'CheckingAccountStatus.gt.200', 'CheckingAccountStatus.none',\n",
       "       'CreditHistory.NoCredit.AllPaid', 'CreditHistory.ThisBank.AllPaid',\n",
       "       'CreditHistory.PaidDuly', 'CreditHistory.Delay',\n",
       "       'CreditHistory.Critical', 'Purpose.NewCar', 'Purpose.UsedCar',\n",
       "       'Purpose.Furniture.Equipment', 'Purpose.Radio.Television',\n",
       "       'Purpose.DomesticAppliance', 'Purpose.Repairs',\n",
       "       'Purpose.Education', 'Purpose.Vacation', 'Purpose.Retraining',\n",
       "       'Purpose.Business', 'Purpose.Other', 'SavingsAccountBonds.lt.100',\n",
       "       'SavingsAccountBonds.100.to.500',\n",
       "       'SavingsAccountBonds.500.to.1000', 'SavingsAccountBonds.gt.1000',\n",
       "       'SavingsAccountBonds.Unknown', 'EmploymentDuration.lt.1',\n",
       "       'EmploymentDuration.1.to.4', 'EmploymentDuration.4.to.7',\n",
       "       'EmploymentDuration.gt.7', 'EmploymentDuration.Unemployed',\n",
       "       'Personal.Male.Divorced.Seperated', 'Personal.Female.NotSingle',\n",
       "       'Personal.Male.Single', 'Personal.Male.Married.Widowed',\n",
       "       'Personal.Female.Single', 'OtherDebtorsGuarantors.None',\n",
       "       'OtherDebtorsGuarantors.CoApplicant',\n",
       "       'OtherDebtorsGuarantors.Guarantor', 'Property.RealEstate',\n",
       "       'Property.Insurance', 'Property.CarOther', 'Property.Unknown',\n",
       "       'OtherInstallmentPlans.Bank', 'OtherInstallmentPlans.Stores',\n",
       "       'OtherInstallmentPlans.None', 'Housing.Rent', 'Housing.Own',\n",
       "       'Housing.ForFree', 'Job.UnemployedUnskilled',\n",
       "       'Job.UnskilledResident', 'Job.SkilledEmployee',\n",
       "       'Job.Management.SelfEmp.HighlyQualified'], dtype=object)"
      ]
     },
     "execution_count": 44,
     "metadata": {},
     "output_type": "execute_result"
    }
   ],
   "source": [
    "X_train.columns.values"
   ]
  },
  {
   "cell_type": "code",
   "execution_count": 45,
   "metadata": {},
   "outputs": [
    {
     "data": {
      "text/plain": [
       "61"
      ]
     },
     "execution_count": 45,
     "metadata": {},
     "output_type": "execute_result"
    }
   ],
   "source": [
    "# Your code here\n",
    "len(X_train.columns)"
   ]
  },
  {
   "cell_type": "code",
   "execution_count": 46,
   "metadata": {},
   "outputs": [
    {
     "data": {
      "text/plain": [
       "61"
      ]
     },
     "execution_count": 46,
     "metadata": {},
     "output_type": "execute_result"
    }
   ],
   "source": [
    "len(rfc.feature_importances_)"
   ]
  },
  {
   "cell_type": "code",
   "execution_count": 47,
   "metadata": {},
   "outputs": [
    {
     "data": {
      "text/plain": [
       "numpy.ndarray"
      ]
     },
     "execution_count": 47,
     "metadata": {},
     "output_type": "execute_result"
    }
   ],
   "source": [
    "type(X_train.columns.values)"
   ]
  },
  {
   "cell_type": "code",
   "execution_count": 48,
   "metadata": {},
   "outputs": [
    {
     "data": {
      "text/plain": [
       "numpy.ndarray"
      ]
     },
     "execution_count": 48,
     "metadata": {},
     "output_type": "execute_result"
    }
   ],
   "source": [
    "type(rfc.feature_importances_)"
   ]
  },
  {
   "cell_type": "code",
   "execution_count": 49,
   "metadata": {},
   "outputs": [],
   "source": [
    "import matplotlib.pyplot as plt"
   ]
  },
  {
   "cell_type": "code",
   "execution_count": 50,
   "metadata": {},
   "outputs": [
    {
     "data": {
      "image/png": "[encoded data removed]",
      "text/plain": [
       "<Figure size 1152x576 with 1 Axes>"
      ]
     },
     "metadata": {
      "needs_background": "light"
     },
     "output_type": "display_data"
    }
   ],
   "source": [
    "plt.figure(figsize=(16, 8))\n",
    "plt.bar(range(0, len(X_train.columns.values)), rfc.feature_importances_, width=0.8)\n",
    "plt.show()"
   ]
  },
  {
   "cell_type": "markdown",
   "metadata": {},
   "source": [
    "A final method for gaining some insight into the inner working of your Random Forests models is a so-called Partial Dependence Plot. The Partial Dependence Plot (PDP or PD plot) shows the marginal effect of a feature on the predicted outcome of a previously fit model. The prediction function is fixed at a few values of the chosen features and averaged over the other features. A partial dependence plot can show if the relationship between the target and a feature is linear, monotonic or more complex. \n",
    "\n",
    "In scikit-learn, PDPs are implemented and available for certain algorithms, but at this point (version 0.20.0) they are not yet implemented for Random Forests. Thankfully, there is an add-on package called **PDPbox** (https://pdpbox.readthedocs.io/en/latest/) which adds this functionality to Random Forests. The package is easy to install through pip."
   ]
  },
  {
   "cell_type": "code",
   "execution_count": 51,
   "metadata": {},
   "outputs": [
    {
     "name": "stdout",
     "output_type": "stream",
     "text": [
      "Looking in indexes: https://pypi.org/simple, https://packagecloud.io/github/git-lfs/pypi/simple\n",
      "Requirement already satisfied: pdpbox in ./env/lib/python3.7/site-packages (0.2.0)\n",
      "Requirement already satisfied: pandas in ./env/lib/python3.7/site-packages (from pdpbox) (1.2.3)\n",
      "Requirement already satisfied: numpy in ./env/lib/python3.7/site-packages (from pdpbox) (1.20.1)\n",
      "Requirement already satisfied: scipy in ./env/lib/python3.7/site-packages (from pdpbox) (1.6.1)\n",
      "Requirement already satisfied: matplotlib>=2.1.2 in ./env/lib/python3.7/site-packages (from pdpbox) (3.3.4)\n",
      "Requirement already satisfied: joblib in ./env/lib/python3.7/site-packages (from pdpbox) (1.0.1)\n",
      "Requirement already satisfied: psutil in ./env/lib/python3.7/site-packages (from pdpbox) (5.8.0)\n",
      "Requirement already satisfied: scikit-learn in ./env/lib/python3.7/site-packages (from pdpbox) (0.24.1)\n",
      "Requirement already satisfied: kiwisolver>=1.0.1 in ./env/lib/python3.7/site-packages (from matplotlib>=2.1.2->pdpbox) (1.3.1)\n",
      "Requirement already satisfied: python-dateutil>=2.1 in ./env/lib/python3.7/site-packages (from matplotlib>=2.1.2->pdpbox) (2.8.1)\n",
      "Requirement already satisfied: cycler>=0.10 in ./env/lib/python3.7/site-packages (from matplotlib>=2.1.2->pdpbox) (0.10.0)\n",
      "Requirement already satisfied: pyparsing!=2.0.4,!=2.1.2,!=2.1.6,>=2.0.3 in ./env/lib/python3.7/site-packages (from matplotlib>=2.1.2->pdpbox) (2.4.7)\n",
      "Requirement already satisfied: pillow>=6.2.0 in ./env/lib/python3.7/site-packages (from matplotlib>=2.1.2->pdpbox) (8.1.2)\n",
      "Requirement already satisfied: six in ./env/lib/python3.7/site-packages (from cycler>=0.10->matplotlib>=2.1.2->pdpbox) (1.15.0)\n",
      "Requirement already satisfied: pytz>=2017.3 in ./env/lib/python3.7/site-packages (from pandas->pdpbox) (2021.1)\n",
      "Requirement already satisfied: threadpoolctl>=2.0.0 in ./env/lib/python3.7/site-packages (from scikit-learn->pdpbox) (2.1.0)\n"
     ]
    }
   ],
   "source": [
    "! pip install pdpbox"
   ]
  },
  {
   "cell_type": "markdown",
   "metadata": {},
   "source": [
    "While we encourage you to read the documentation for the package (and reading package documentation in general is a good habit to develop), the authors of the package have also written an excellent blog post on how to use it, showing examples on different algorithms from scikit-learn (the Random Forests example is towards the end of the blog post): https://briangriner.github.io/Partial_Dependence_Plots_presentation-BrianGriner-PrincetonPublicLibrary-4.14.18-updated-4.22.18.html"
   ]
  },
  {
   "cell_type": "markdown",
   "metadata": {},
   "source": [
    "So, armed with this new knowledge, feel free to pick a few features, and make a couple of Partial Dependence Plots of your own!"
   ]
  },
  {
   "cell_type": "code",
   "execution_count": 52,
   "metadata": {},
   "outputs": [
    {
     "data": {
      "text/plain": [
       "DecisionTreeClassifier()"
      ]
     },
     "execution_count": 52,
     "metadata": {},
     "output_type": "execute_result"
    }
   ],
   "source": [
    "X_train, X_test, y_train, y_test = train_test_split(X, y, test_size=0.3, random_state=0)\n",
    "dt = DecisionTreeClassifier()\n",
    "dt.fit(X_train,y_train)"
   ]
  },
  {
   "cell_type": "code",
   "execution_count": 53,
   "metadata": {},
   "outputs": [],
   "source": [
    "y_pred = dt.predict(X_test)"
   ]
  },
  {
   "cell_type": "code",
   "execution_count": 54,
   "metadata": {},
   "outputs": [
    {
     "data": {
      "text/plain": [
       "1.0"
      ]
     },
     "execution_count": 54,
     "metadata": {},
     "output_type": "execute_result"
    }
   ],
   "source": [
    "dt.score(X_train, y_train)"
   ]
  },
  {
   "cell_type": "code",
   "execution_count": 55,
   "metadata": {},
   "outputs": [
    {
     "data": {
      "text/plain": [
       "0.6966666666666667"
      ]
     },
     "execution_count": 55,
     "metadata": {},
     "output_type": "execute_result"
    }
   ],
   "source": [
    "dt.score(X_test,y_test)"
   ]
  },
  {
   "cell_type": "code",
   "execution_count": 56,
   "metadata": {},
   "outputs": [],
   "source": [
    "import matplotlib.pyplot as plt\n",
    "import numpy as np"
   ]
  },
  {
   "cell_type": "code",
   "execution_count": 57,
   "metadata": {},
   "outputs": [],
   "source": [
    "def plot_feature_important_plot(model, features):\n",
    "    no_feature = len(features)\n",
    "    plt.figure(figsize=(8,16))\n",
    "    plt.barh(range(no_feature),model.feature_importances_, align=\"center\")\n",
    "    plt.yticks(np.arange(no_feature), features)\n",
    "    plt.xlabel(\"Feature importance\")\n",
    "    plt.ylabel(\"Features\")\n",
    "    plt.ylim(-1, no_feature)\n",
    "    plt.show()"
   ]
  },
  {
   "cell_type": "code",
   "execution_count": 58,
   "metadata": {},
   "outputs": [
    {
     "data": {
      "image/png": "[encoded data removed]",
      "text/plain": [
       "<Figure size 576x1152 with 1 Axes>"
      ]
     },
     "metadata": {
      "needs_background": "light"
     },
     "output_type": "display_data"
    }
   ],
   "source": [
    "plot_feature_important_plot(dt, X_train.columns)"
   ]
  },
  {
   "cell_type": "code",
   "execution_count": 59,
   "metadata": {},
   "outputs": [
    {
     "name": "stderr",
     "output_type": "stream",
     "text": [
      "/mnt/BA504CE3504CA7C9/Work/Python/Workspace/SpringBoard/mec-mini-projects-ps/mec-13.5.1-tree-based-algorithms-mini-project/env/lib/python3.7/site-packages/ipykernel_launcher.py:2: DataConversionWarning: A column-vector y was passed when a 1d array was expected. Please change the shape of y to (n_samples,), for example using ravel().\n",
      "  \n"
     ]
    },
    {
     "data": {
      "text/plain": [
       "RandomForestClassifier(max_depth=50)"
      ]
     },
     "execution_count": 59,
     "metadata": {},
     "output_type": "execute_result"
    }
   ],
   "source": [
    "rfc = RandomForestClassifier(max_depth=50)\n",
    "rfc.fit(X_train,y_train)"
   ]
  },
  {
   "cell_type": "code",
   "execution_count": 60,
   "metadata": {},
   "outputs": [
    {
     "data": {
      "text/plain": [
       "1.0"
      ]
     },
     "execution_count": 60,
     "metadata": {},
     "output_type": "execute_result"
    }
   ],
   "source": [
    "rfc.score(X_train, y_train)"
   ]
  },
  {
   "cell_type": "code",
   "execution_count": 61,
   "metadata": {},
   "outputs": [
    {
     "data": {
      "text/plain": [
       "0.7766666666666666"
      ]
     },
     "execution_count": 61,
     "metadata": {},
     "output_type": "execute_result"
    }
   ],
   "source": [
    "rfc.score(X_test, y_test)"
   ]
  },
  {
   "cell_type": "code",
   "execution_count": 62,
   "metadata": {},
   "outputs": [
    {
     "data": {
      "image/png": "[encoded data removed]",
      "text/plain": [
       "<Figure size 576x1152 with 1 Axes>"
      ]
     },
     "metadata": {
      "needs_background": "light"
     },
     "output_type": "display_data"
    }
   ],
   "source": [
    "plot_feature_important_plot(rfc, X_train.columns)"
   ]
  },
  {
   "cell_type": "code",
   "execution_count": 63,
   "metadata": {},
   "outputs": [
    {
     "name": "stdout",
     "output_type": "stream",
     "text": [
      "Looking in indexes: https://pypi.org/simple, https://packagecloud.io/github/git-lfs/pypi/simple\n",
      "Requirement already satisfied: scikit-learn in ./env/lib/python3.7/site-packages (0.24.1)\n",
      "Requirement already satisfied: scipy>=0.19.1 in ./env/lib/python3.7/site-packages (from scikit-learn) (1.6.1)\n",
      "Requirement already satisfied: numpy>=1.13.3 in ./env/lib/python3.7/site-packages (from scikit-learn) (1.20.1)\n",
      "Requirement already satisfied: joblib>=0.11 in ./env/lib/python3.7/site-packages (from scikit-learn) (1.0.1)\n",
      "Requirement already satisfied: threadpoolctl>=2.0.0 in ./env/lib/python3.7/site-packages (from scikit-learn) (2.1.0)\n",
      "Note: you may need to restart the kernel to use updated packages.\n"
     ]
    }
   ],
   "source": [
    "pip install --upgrade scikit-learn"
   ]
  },
  {
   "cell_type": "code",
   "execution_count": 64,
   "metadata": {},
   "outputs": [
    {
     "ename": "ModuleNotFoundError",
     "evalue": "No module named 'sklearn.inspection.partial_dependence'",
     "output_type": "error",
     "traceback": [
      "\u001b[0;31m---------------------------------------------------------------------------\u001b[0m",
      "\u001b[0;31mModuleNotFoundError\u001b[0m                       Traceback (most recent call last)",
      "\u001b[0;32m<ipython-input-64-474354398967>\u001b[0m in \u001b[0;36m<module>\u001b[0;34m\u001b[0m\n\u001b[0;32m----> 1\u001b[0;31m \u001b[0;32mfrom\u001b[0m \u001b[0msklearn\u001b[0m\u001b[0;34m.\u001b[0m\u001b[0minspection\u001b[0m\u001b[0;34m.\u001b[0m\u001b[0mpartial_dependence\u001b[0m \u001b[0;32mimport\u001b[0m \u001b[0mpartial_dependence\u001b[0m\u001b[0;34m\u001b[0m\u001b[0;34m\u001b[0m\u001b[0m\n\u001b[0m\u001b[1;32m      2\u001b[0m \u001b[0;32mfrom\u001b[0m \u001b[0msklearn\u001b[0m\u001b[0;34m.\u001b[0m\u001b[0minspection\u001b[0m \u001b[0;32mimport\u001b[0m \u001b[0mplot_partial_dependence\u001b[0m\u001b[0;34m\u001b[0m\u001b[0;34m\u001b[0m\u001b[0m\n\u001b[1;32m      3\u001b[0m \u001b[0;31m# i dont know why i am facing this error\u001b[0m\u001b[0;34m\u001b[0m\u001b[0;34m\u001b[0m\u001b[0;34m\u001b[0m\u001b[0m\n",
      "\u001b[0;31mModuleNotFoundError\u001b[0m: No module named 'sklearn.inspection.partial_dependence'"
     ]
    }
   ],
   "source": [
    "from sklearn.inspection.partial_dependence import partial_dependence\n",
    "from sklearn.inspection import plot_partial_dependence\n",
    "# i dont know why i am facing this error"
   ]
  },
  {
   "cell_type": "code",
   "execution_count": null,
   "metadata": {},
   "outputs": [],
   "source": [
    "plot_partial_dependence(dt, X_train, features=[0,1,2,3,4,5,6,7,8], feature_names=X_train.columns[0:9], grid_resolution=100)"
   ]
  },
  {
   "cell_type": "code",
   "execution_count": null,
   "metadata": {},
   "outputs": [],
   "source": [
    "rfc.feature_importances_[7]"
   ]
  },
  {
   "cell_type": "code",
   "execution_count": null,
   "metadata": {},
   "outputs": [],
   "source": [
    "X_train.columns[7]"
   ]
  },
  {
   "cell_type": "code",
   "execution_count": null,
   "metadata": {},
   "outputs": [],
   "source": [
    "# Your code here!\n",
    "import pdb"
   ]
  },
  {
   "cell_type": "code",
   "execution_count": null,
   "metadata": {},
   "outputs": [],
   "source": [
    "from joblib import dump, load"
   ]
  },
  {
   "cell_type": "code",
   "execution_count": null,
   "metadata": {},
   "outputs": [],
   "source": []
  },
  {
   "cell_type": "code",
   "execution_count": null,
   "metadata": {},
   "outputs": [],
   "source": [
    "filename = \"model.sav\"\n",
    "dump(rfc, filename)"
   ]
  },
  {
   "cell_type": "code",
   "execution_count": null,
   "metadata": {},
   "outputs": [],
   "source": [
    "rfc = load(filename)"
   ]
  },
  {
   "cell_type": "code",
   "execution_count": null,
   "metadata": {},
   "outputs": [],
   "source": [
    "#import pdbbox\n",
    "# not able to import the libray pdpbox"
   ]
  },
  {
   "cell_type": "markdown",
   "metadata": {},
   "source": [
    "## (Optional) Advanced Boosting-Based Algorithms"
   ]
  },
  {
   "cell_type": "markdown",
   "metadata": {},
   "source": [
    "As explained in the video lectures, the next generation of algorithms after Random Forests (that use Bagging, a.k.a. Bootstrap Aggregation) were developed using Boosting, and the first one of these were Gradient Boosted Machines, which are implemented in scikit-learn (http://scikit-learn.org/stable/modules/ensemble.html#gradient-tree-boosting)."
   ]
  },
  {
   "cell_type": "markdown",
   "metadata": {},
   "source": [
    "Still, in recent years, a number of variations on GBMs have been developed by different research amd industry groups, all of them bringing improvements, both in speed, accuracy and functionality to the original Gradient Boosting algorithms.\n",
    "\n",
    "In no order of preference, these are:\n",
    "1. **XGBoost**: https://xgboost.readthedocs.io/en/latest/\n",
    "2. **CatBoost**: https://tech.yandex.com/catboost/\n",
    "3. **LightGBM**: https://lightgbm.readthedocs.io/en/latest/"
   ]
  },
  {
   "cell_type": "markdown",
   "metadata": {},
   "source": [
    "If you're using the Anaconda distribution, these are all very easy to install:"
   ]
  },
  {
   "cell_type": "code",
   "execution_count": null,
   "metadata": {},
   "outputs": [],
   "source": [
    "! conda install -c anaconda py-xgboost"
   ]
  },
  {
   "cell_type": "code",
   "execution_count": null,
   "metadata": {},
   "outputs": [],
   "source": [
    "! conda install -c conda-forge catboost"
   ]
  },
  {
   "cell_type": "code",
   "execution_count": null,
   "metadata": {},
   "outputs": [],
   "source": [
    "! conda install -c conda-forge lightgbm"
   ]
  },
  {
   "cell_type": "code",
   "execution_count": null,
   "metadata": {},
   "outputs": [],
   "source": [
    "! pip install xgboost "
   ]
  },
  {
   "cell_type": "code",
   "execution_count": null,
   "metadata": {},
   "outputs": [],
   "source": [
    "! pip install catboost"
   ]
  },
  {
   "cell_type": "code",
   "execution_count": null,
   "metadata": {},
   "outputs": [],
   "source": [
    "! pip install lightgbm"
   ]
  },
  {
   "cell_type": "markdown",
   "metadata": {},
   "source": [
    "Your task in this optional section of the mini project is to read the documentation of these three libraries, and apply all of them to the \"German Credit\" dataset, just like you did in the case of Decision Trees and Random Forests."
   ]
  },
  {
   "cell_type": "markdown",
   "metadata": {},
   "source": [
    "The final deliverable of this section should be a table (can be a pandas DataFrame) which shows the accuracy of all the five algorthms taught in this mini project in one place."
   ]
  },
  {
   "cell_type": "markdown",
   "metadata": {},
   "source": [
    "Happy modeling! :)"
   ]
  },
  {
   "cell_type": "code",
   "execution_count": 84,
   "metadata": {},
   "outputs": [],
   "source": [
    "from xgboost import XGBRFClassifier\n",
    "from sklearn.metrics import accuracy_score, classification_report"
   ]
  },
  {
   "cell_type": "code",
   "execution_count": 80,
   "metadata": {},
   "outputs": [],
   "source": [
    "xgbc = XGBRFClassifier()"
   ]
  },
  {
   "cell_type": "code",
   "execution_count": 82,
   "metadata": {},
   "outputs": [
    {
     "name": "stderr",
     "output_type": "stream",
     "text": [
      "/mnt/BA504CE3504CA7C9/Work/Python/Workspace/SpringBoard/mec-mini-projects-ps/mec-13.5.1-tree-based-algorithms-mini-project/env/lib/python3.7/site-packages/xgboost/sklearn.py:888: UserWarning: The use of label encoder in XGBClassifier is deprecated and will be removed in a future release. To remove this warning, do the following: 1) Pass option use_label_encoder=False when constructing XGBClassifier object; and 2) Encode your labels (y) as integers starting with 0, i.e. 0, 1, 2, ..., [num_class - 1].\n",
      "  warnings.warn(label_encoder_deprecation_msg, UserWarning)\n",
      "/mnt/BA504CE3504CA7C9/Work/Python/Workspace/SpringBoard/mec-mini-projects-ps/mec-13.5.1-tree-based-algorithms-mini-project/env/lib/python3.7/site-packages/sklearn/utils/validation.py:63: DataConversionWarning: A column-vector y was passed when a 1d array was expected. Please change the shape of y to (n_samples, ), for example using ravel().\n",
      "  return f(*args, **kwargs)\n"
     ]
    },
    {
     "name": "stdout",
     "output_type": "stream",
     "text": [
      "[00:46:28] WARNING: ../src/learner.cc:1061: Starting in XGBoost 1.3.0, the default evaluation metric used with the objective 'binary:logistic' was changed from 'error' to 'logloss'. Explicitly set eval_metric if you'd like to restore the old behavior.\n"
     ]
    },
    {
     "data": {
      "text/plain": [
       "XGBRFClassifier(base_score=0.5, booster='gbtree', colsample_bylevel=1,\n",
       "                colsample_bytree=1, gamma=0, gpu_id=-1, importance_type='gain',\n",
       "                interaction_constraints='', max_delta_step=0, max_depth=6,\n",
       "                min_child_weight=1, missing=nan, monotone_constraints='()',\n",
       "                n_estimators=100, n_jobs=12, num_parallel_tree=100,\n",
       "                objective='binary:logistic', random_state=0, reg_alpha=0,\n",
       "                scale_pos_weight=1, tree_method='exact', validate_parameters=1,\n",
       "                verbosity=None)"
      ]
     },
     "execution_count": 82,
     "metadata": {},
     "output_type": "execute_result"
    }
   ],
   "source": [
    "xgbc.fit(X_train, y_train)"
   ]
  },
  {
   "cell_type": "code",
   "execution_count": 83,
   "metadata": {},
   "outputs": [],
   "source": [
    "y_pred = xgbc.predict(X_test)"
   ]
  },
  {
   "cell_type": "code",
   "execution_count": 85,
   "metadata": {},
   "outputs": [
    {
     "data": {
      "text/plain": [
       "0.7633333333333333"
      ]
     },
     "execution_count": 85,
     "metadata": {},
     "output_type": "execute_result"
    }
   ],
   "source": [
    "accuracy_score(y_test, y_pred)"
   ]
  },
  {
   "cell_type": "code",
   "execution_count": 87,
   "metadata": {},
   "outputs": [
    {
     "name": "stdout",
     "output_type": "stream",
     "text": [
      "              precision    recall  f1-score   support\n",
      "\n",
      "           0       0.63      0.42      0.50        86\n",
      "           1       0.79      0.90      0.84       214\n",
      "\n",
      "    accuracy                           0.76       300\n",
      "   macro avg       0.71      0.66      0.67       300\n",
      "weighted avg       0.75      0.76      0.75       300\n",
      "\n"
     ]
    }
   ],
   "source": [
    "print(classification_report(y_test, y_pred))"
   ]
  },
  {
   "cell_type": "code",
   "execution_count": 88,
   "metadata": {},
   "outputs": [],
   "source": [
    "from catboost import CatBoostClassifier"
   ]
  },
  {
   "cell_type": "code",
   "execution_count": 89,
   "metadata": {},
   "outputs": [],
   "source": [
    "cbc = CatBoostClassifier()"
   ]
  },
  {
   "cell_type": "code",
   "execution_count": 90,
   "metadata": {},
   "outputs": [
    {
     "name": "stdout",
     "output_type": "stream",
     "text": [
      "Learning rate set to 0.008847\n",
      "0:\tlearn: 0.6895901\ttotal: 55ms\tremaining: 55s\n",
      "1:\tlearn: 0.6860987\ttotal: 59.4ms\tremaining: 29.6s\n",
      "2:\tlearn: 0.6823382\ttotal: 64ms\tremaining: 21.3s\n",
      "3:\tlearn: 0.6787532\ttotal: 68.4ms\tremaining: 17s\n",
      "4:\tlearn: 0.6751461\ttotal: 72.6ms\tremaining: 14.5s\n",
      "5:\tlearn: 0.6716843\ttotal: 77ms\tremaining: 12.8s\n",
      "6:\tlearn: 0.6690411\ttotal: 80.1ms\tremaining: 11.4s\n",
      "7:\tlearn: 0.6658853\ttotal: 84.5ms\tremaining: 10.5s\n",
      "8:\tlearn: 0.6627168\ttotal: 88.8ms\tremaining: 9.78s\n",
      "9:\tlearn: 0.6596452\ttotal: 93.1ms\tremaining: 9.21s\n",
      "10:\tlearn: 0.6565003\ttotal: 97.5ms\tremaining: 8.76s\n",
      "11:\tlearn: 0.6534109\ttotal: 102ms\tremaining: 8.39s\n",
      "12:\tlearn: 0.6505024\ttotal: 106ms\tremaining: 8.08s\n",
      "13:\tlearn: 0.6476811\ttotal: 111ms\tremaining: 7.81s\n",
      "14:\tlearn: 0.6447818\ttotal: 115ms\tremaining: 7.57s\n",
      "15:\tlearn: 0.6421719\ttotal: 120ms\tremaining: 7.36s\n",
      "16:\tlearn: 0.6395256\ttotal: 124ms\tremaining: 7.16s\n",
      "17:\tlearn: 0.6366630\ttotal: 128ms\tremaining: 6.99s\n",
      "18:\tlearn: 0.6338762\ttotal: 133ms\tremaining: 6.85s\n",
      "19:\tlearn: 0.6311881\ttotal: 137ms\tremaining: 6.71s\n",
      "20:\tlearn: 0.6286462\ttotal: 141ms\tremaining: 6.59s\n",
      "21:\tlearn: 0.6264751\ttotal: 146ms\tremaining: 6.48s\n",
      "22:\tlearn: 0.6234672\ttotal: 150ms\tremaining: 6.38s\n",
      "23:\tlearn: 0.6210391\ttotal: 154ms\tremaining: 6.27s\n",
      "24:\tlearn: 0.6186486\ttotal: 159ms\tremaining: 6.21s\n",
      "25:\tlearn: 0.6169443\ttotal: 166ms\tremaining: 6.21s\n",
      "26:\tlearn: 0.6145725\ttotal: 171ms\tremaining: 6.15s\n",
      "27:\tlearn: 0.6122216\ttotal: 175ms\tremaining: 6.09s\n",
      "28:\tlearn: 0.6102281\ttotal: 181ms\tremaining: 6.04s\n",
      "29:\tlearn: 0.6078400\ttotal: 185ms\tremaining: 5.99s\n",
      "30:\tlearn: 0.6055944\ttotal: 190ms\tremaining: 5.94s\n",
      "31:\tlearn: 0.6041567\ttotal: 194ms\tremaining: 5.88s\n",
      "32:\tlearn: 0.6020987\ttotal: 199ms\tremaining: 5.83s\n",
      "33:\tlearn: 0.5997214\ttotal: 204ms\tremaining: 5.78s\n",
      "34:\tlearn: 0.5976250\ttotal: 210ms\tremaining: 5.79s\n",
      "35:\tlearn: 0.5951342\ttotal: 214ms\tremaining: 5.74s\n",
      "36:\tlearn: 0.5933655\ttotal: 219ms\tremaining: 5.71s\n",
      "37:\tlearn: 0.5917613\ttotal: 226ms\tremaining: 5.73s\n",
      "38:\tlearn: 0.5896711\ttotal: 232ms\tremaining: 5.71s\n",
      "39:\tlearn: 0.5877366\ttotal: 236ms\tremaining: 5.67s\n",
      "40:\tlearn: 0.5861618\ttotal: 241ms\tremaining: 5.63s\n",
      "41:\tlearn: 0.5842172\ttotal: 245ms\tremaining: 5.59s\n",
      "42:\tlearn: 0.5824853\ttotal: 250ms\tremaining: 5.56s\n",
      "43:\tlearn: 0.5805487\ttotal: 255ms\tremaining: 5.53s\n",
      "44:\tlearn: 0.5788387\ttotal: 259ms\tremaining: 5.5s\n",
      "45:\tlearn: 0.5773105\ttotal: 264ms\tremaining: 5.46s\n",
      "46:\tlearn: 0.5756536\ttotal: 268ms\tremaining: 5.43s\n",
      "47:\tlearn: 0.5736010\ttotal: 272ms\tremaining: 5.4s\n",
      "48:\tlearn: 0.5717754\ttotal: 277ms\tremaining: 5.37s\n",
      "49:\tlearn: 0.5701019\ttotal: 281ms\tremaining: 5.34s\n",
      "50:\tlearn: 0.5690091\ttotal: 286ms\tremaining: 5.32s\n",
      "51:\tlearn: 0.5671261\ttotal: 291ms\tremaining: 5.3s\n",
      "52:\tlearn: 0.5657273\ttotal: 296ms\tremaining: 5.28s\n",
      "53:\tlearn: 0.5639477\ttotal: 300ms\tremaining: 5.25s\n",
      "54:\tlearn: 0.5626356\ttotal: 305ms\tremaining: 5.23s\n",
      "55:\tlearn: 0.5609239\ttotal: 309ms\tremaining: 5.21s\n",
      "56:\tlearn: 0.5603600\ttotal: 311ms\tremaining: 5.15s\n",
      "57:\tlearn: 0.5584891\ttotal: 316ms\tremaining: 5.12s\n",
      "58:\tlearn: 0.5575782\ttotal: 320ms\tremaining: 5.1s\n",
      "59:\tlearn: 0.5562454\ttotal: 325ms\tremaining: 5.1s\n",
      "60:\tlearn: 0.5550319\ttotal: 331ms\tremaining: 5.09s\n",
      "61:\tlearn: 0.5537516\ttotal: 335ms\tremaining: 5.07s\n",
      "62:\tlearn: 0.5525454\ttotal: 340ms\tremaining: 5.05s\n",
      "63:\tlearn: 0.5506864\ttotal: 344ms\tremaining: 5.04s\n",
      "64:\tlearn: 0.5496247\ttotal: 349ms\tremaining: 5.02s\n",
      "65:\tlearn: 0.5485842\ttotal: 353ms\tremaining: 5s\n",
      "66:\tlearn: 0.5472391\ttotal: 358ms\tremaining: 4.99s\n",
      "67:\tlearn: 0.5459197\ttotal: 363ms\tremaining: 4.97s\n",
      "68:\tlearn: 0.5441762\ttotal: 367ms\tremaining: 4.96s\n",
      "69:\tlearn: 0.5423461\ttotal: 372ms\tremaining: 4.95s\n",
      "70:\tlearn: 0.5413272\ttotal: 377ms\tremaining: 4.93s\n",
      "71:\tlearn: 0.5401451\ttotal: 381ms\tremaining: 4.92s\n",
      "72:\tlearn: 0.5389897\ttotal: 386ms\tremaining: 4.91s\n",
      "73:\tlearn: 0.5380171\ttotal: 391ms\tremaining: 4.89s\n",
      "74:\tlearn: 0.5367943\ttotal: 395ms\tremaining: 4.88s\n",
      "75:\tlearn: 0.5353203\ttotal: 400ms\tremaining: 4.86s\n",
      "76:\tlearn: 0.5340063\ttotal: 405ms\tremaining: 4.85s\n",
      "77:\tlearn: 0.5328540\ttotal: 409ms\tremaining: 4.84s\n",
      "78:\tlearn: 0.5313896\ttotal: 414ms\tremaining: 4.82s\n",
      "79:\tlearn: 0.5305681\ttotal: 418ms\tremaining: 4.81s\n",
      "80:\tlearn: 0.5289898\ttotal: 422ms\tremaining: 4.79s\n",
      "81:\tlearn: 0.5281390\ttotal: 427ms\tremaining: 4.78s\n",
      "82:\tlearn: 0.5265642\ttotal: 431ms\tremaining: 4.76s\n",
      "83:\tlearn: 0.5257120\ttotal: 436ms\tremaining: 4.75s\n",
      "84:\tlearn: 0.5247226\ttotal: 440ms\tremaining: 4.74s\n",
      "85:\tlearn: 0.5232586\ttotal: 445ms\tremaining: 4.73s\n",
      "86:\tlearn: 0.5220005\ttotal: 449ms\tremaining: 4.72s\n",
      "87:\tlearn: 0.5208981\ttotal: 454ms\tremaining: 4.7s\n",
      "88:\tlearn: 0.5196318\ttotal: 458ms\tremaining: 4.69s\n",
      "89:\tlearn: 0.5182269\ttotal: 463ms\tremaining: 4.68s\n",
      "90:\tlearn: 0.5173956\ttotal: 467ms\tremaining: 4.67s\n",
      "91:\tlearn: 0.5165731\ttotal: 472ms\tremaining: 4.66s\n",
      "92:\tlearn: 0.5156094\ttotal: 476ms\tremaining: 4.65s\n",
      "93:\tlearn: 0.5146221\ttotal: 481ms\tremaining: 4.64s\n",
      "94:\tlearn: 0.5132599\ttotal: 486ms\tremaining: 4.63s\n",
      "95:\tlearn: 0.5123268\ttotal: 491ms\tremaining: 4.63s\n",
      "96:\tlearn: 0.5113444\ttotal: 496ms\tremaining: 4.62s\n",
      "97:\tlearn: 0.5102953\ttotal: 501ms\tremaining: 4.61s\n",
      "98:\tlearn: 0.5094413\ttotal: 505ms\tremaining: 4.6s\n",
      "99:\tlearn: 0.5083445\ttotal: 510ms\tremaining: 4.59s\n",
      "100:\tlearn: 0.5075080\ttotal: 514ms\tremaining: 4.58s\n",
      "101:\tlearn: 0.5065877\ttotal: 519ms\tremaining: 4.57s\n",
      "102:\tlearn: 0.5057718\ttotal: 523ms\tremaining: 4.56s\n",
      "103:\tlearn: 0.5045456\ttotal: 528ms\tremaining: 4.55s\n",
      "104:\tlearn: 0.5036961\ttotal: 533ms\tremaining: 4.54s\n",
      "105:\tlearn: 0.5027137\ttotal: 538ms\tremaining: 4.53s\n",
      "106:\tlearn: 0.5018008\ttotal: 542ms\tremaining: 4.53s\n",
      "107:\tlearn: 0.5010288\ttotal: 547ms\tremaining: 4.51s\n",
      "108:\tlearn: 0.5000520\ttotal: 551ms\tremaining: 4.51s\n",
      "109:\tlearn: 0.4991726\ttotal: 556ms\tremaining: 4.5s\n",
      "110:\tlearn: 0.4983703\ttotal: 561ms\tremaining: 4.49s\n",
      "111:\tlearn: 0.4973396\ttotal: 565ms\tremaining: 4.48s\n",
      "112:\tlearn: 0.4962146\ttotal: 571ms\tremaining: 4.48s\n",
      "113:\tlearn: 0.4953293\ttotal: 575ms\tremaining: 4.47s\n",
      "114:\tlearn: 0.4942300\ttotal: 579ms\tremaining: 4.46s\n",
      "115:\tlearn: 0.4933471\ttotal: 584ms\tremaining: 4.45s\n",
      "116:\tlearn: 0.4929299\ttotal: 587ms\tremaining: 4.43s\n",
      "117:\tlearn: 0.4922895\ttotal: 592ms\tremaining: 4.42s\n",
      "118:\tlearn: 0.4915772\ttotal: 596ms\tremaining: 4.41s\n",
      "119:\tlearn: 0.4906692\ttotal: 600ms\tremaining: 4.4s\n",
      "120:\tlearn: 0.4898399\ttotal: 605ms\tremaining: 4.39s\n",
      "121:\tlearn: 0.4892040\ttotal: 609ms\tremaining: 4.38s\n",
      "122:\tlearn: 0.4881744\ttotal: 614ms\tremaining: 4.37s\n",
      "123:\tlearn: 0.4875138\ttotal: 618ms\tremaining: 4.37s\n",
      "124:\tlearn: 0.4867249\ttotal: 623ms\tremaining: 4.36s\n",
      "125:\tlearn: 0.4860743\ttotal: 627ms\tremaining: 4.35s\n",
      "126:\tlearn: 0.4850044\ttotal: 632ms\tremaining: 4.34s\n",
      "127:\tlearn: 0.4842961\ttotal: 636ms\tremaining: 4.33s\n",
      "128:\tlearn: 0.4833376\ttotal: 641ms\tremaining: 4.33s\n",
      "129:\tlearn: 0.4826704\ttotal: 645ms\tremaining: 4.32s\n",
      "130:\tlearn: 0.4819001\ttotal: 651ms\tremaining: 4.32s\n",
      "131:\tlearn: 0.4809069\ttotal: 656ms\tremaining: 4.31s\n",
      "132:\tlearn: 0.4799471\ttotal: 660ms\tremaining: 4.3s\n",
      "133:\tlearn: 0.4790191\ttotal: 665ms\tremaining: 4.3s\n",
      "134:\tlearn: 0.4780153\ttotal: 670ms\tremaining: 4.29s\n",
      "135:\tlearn: 0.4772823\ttotal: 674ms\tremaining: 4.28s\n",
      "136:\tlearn: 0.4762343\ttotal: 679ms\tremaining: 4.27s\n",
      "137:\tlearn: 0.4754201\ttotal: 683ms\tremaining: 4.27s\n",
      "138:\tlearn: 0.4746184\ttotal: 688ms\tremaining: 4.26s\n",
      "139:\tlearn: 0.4737129\ttotal: 692ms\tremaining: 4.25s\n",
      "140:\tlearn: 0.4731836\ttotal: 697ms\tremaining: 4.25s\n",
      "141:\tlearn: 0.4724752\ttotal: 701ms\tremaining: 4.24s\n",
      "142:\tlearn: 0.4716785\ttotal: 706ms\tremaining: 4.23s\n",
      "143:\tlearn: 0.4710357\ttotal: 710ms\tremaining: 4.22s\n",
      "144:\tlearn: 0.4705990\ttotal: 715ms\tremaining: 4.22s\n",
      "145:\tlearn: 0.4699013\ttotal: 720ms\tremaining: 4.21s\n",
      "146:\tlearn: 0.4689894\ttotal: 725ms\tremaining: 4.21s\n",
      "147:\tlearn: 0.4680881\ttotal: 730ms\tremaining: 4.2s\n",
      "148:\tlearn: 0.4671613\ttotal: 734ms\tremaining: 4.19s\n",
      "149:\tlearn: 0.4667561\ttotal: 739ms\tremaining: 4.19s\n",
      "150:\tlearn: 0.4660243\ttotal: 743ms\tremaining: 4.18s\n",
      "151:\tlearn: 0.4652283\ttotal: 748ms\tremaining: 4.17s\n",
      "152:\tlearn: 0.4644717\ttotal: 753ms\tremaining: 4.17s\n",
      "153:\tlearn: 0.4639942\ttotal: 758ms\tremaining: 4.16s\n",
      "154:\tlearn: 0.4633359\ttotal: 762ms\tremaining: 4.16s\n",
      "155:\tlearn: 0.4625856\ttotal: 767ms\tremaining: 4.15s\n",
      "156:\tlearn: 0.4617511\ttotal: 771ms\tremaining: 4.14s\n",
      "157:\tlearn: 0.4607922\ttotal: 776ms\tremaining: 4.13s\n",
      "158:\tlearn: 0.4600233\ttotal: 781ms\tremaining: 4.13s\n",
      "159:\tlearn: 0.4594893\ttotal: 785ms\tremaining: 4.12s\n",
      "160:\tlearn: 0.4585314\ttotal: 790ms\tremaining: 4.12s\n",
      "161:\tlearn: 0.4575173\ttotal: 794ms\tremaining: 4.11s\n",
      "162:\tlearn: 0.4570763\ttotal: 799ms\tremaining: 4.1s\n",
      "163:\tlearn: 0.4562996\ttotal: 803ms\tremaining: 4.09s\n",
      "164:\tlearn: 0.4554836\ttotal: 808ms\tremaining: 4.09s\n",
      "165:\tlearn: 0.4548508\ttotal: 812ms\tremaining: 4.08s\n",
      "166:\tlearn: 0.4539491\ttotal: 817ms\tremaining: 4.07s\n"
     ]
    },
    {
     "name": "stdout",
     "output_type": "stream",
     "text": [
      "167:\tlearn: 0.4531352\ttotal: 822ms\tremaining: 4.07s\n",
      "168:\tlearn: 0.4524473\ttotal: 827ms\tremaining: 4.07s\n",
      "169:\tlearn: 0.4517585\ttotal: 832ms\tremaining: 4.06s\n",
      "170:\tlearn: 0.4512753\ttotal: 836ms\tremaining: 4.05s\n",
      "171:\tlearn: 0.4508587\ttotal: 841ms\tremaining: 4.05s\n",
      "172:\tlearn: 0.4503161\ttotal: 845ms\tremaining: 4.04s\n",
      "173:\tlearn: 0.4498261\ttotal: 850ms\tremaining: 4.03s\n",
      "174:\tlearn: 0.4491335\ttotal: 854ms\tremaining: 4.03s\n",
      "175:\tlearn: 0.4485322\ttotal: 859ms\tremaining: 4.02s\n",
      "176:\tlearn: 0.4479674\ttotal: 863ms\tremaining: 4.01s\n",
      "177:\tlearn: 0.4473016\ttotal: 868ms\tremaining: 4.01s\n",
      "178:\tlearn: 0.4468985\ttotal: 872ms\tremaining: 4s\n",
      "179:\tlearn: 0.4460741\ttotal: 877ms\tremaining: 3.99s\n",
      "180:\tlearn: 0.4455143\ttotal: 881ms\tremaining: 3.99s\n",
      "181:\tlearn: 0.4450604\ttotal: 886ms\tremaining: 3.98s\n",
      "182:\tlearn: 0.4445965\ttotal: 890ms\tremaining: 3.97s\n",
      "183:\tlearn: 0.4440394\ttotal: 895ms\tremaining: 3.97s\n",
      "184:\tlearn: 0.4436660\ttotal: 899ms\tremaining: 3.96s\n",
      "185:\tlearn: 0.4430760\ttotal: 905ms\tremaining: 3.96s\n",
      "186:\tlearn: 0.4425837\ttotal: 909ms\tremaining: 3.95s\n",
      "187:\tlearn: 0.4419012\ttotal: 914ms\tremaining: 3.95s\n",
      "188:\tlearn: 0.4412411\ttotal: 918ms\tremaining: 3.94s\n",
      "189:\tlearn: 0.4407338\ttotal: 923ms\tremaining: 3.93s\n",
      "190:\tlearn: 0.4402578\ttotal: 927ms\tremaining: 3.93s\n",
      "191:\tlearn: 0.4398769\ttotal: 932ms\tremaining: 3.92s\n",
      "192:\tlearn: 0.4394168\ttotal: 937ms\tremaining: 3.92s\n",
      "193:\tlearn: 0.4386707\ttotal: 942ms\tremaining: 3.91s\n",
      "194:\tlearn: 0.4379423\ttotal: 947ms\tremaining: 3.91s\n",
      "195:\tlearn: 0.4371588\ttotal: 951ms\tremaining: 3.9s\n",
      "196:\tlearn: 0.4365059\ttotal: 956ms\tremaining: 3.9s\n",
      "197:\tlearn: 0.4355864\ttotal: 960ms\tremaining: 3.89s\n",
      "198:\tlearn: 0.4346343\ttotal: 965ms\tremaining: 3.88s\n",
      "199:\tlearn: 0.4345605\ttotal: 966ms\tremaining: 3.87s\n",
      "200:\tlearn: 0.4337215\ttotal: 971ms\tremaining: 3.86s\n",
      "201:\tlearn: 0.4331239\ttotal: 976ms\tremaining: 3.85s\n",
      "202:\tlearn: 0.4324105\ttotal: 981ms\tremaining: 3.85s\n",
      "203:\tlearn: 0.4318389\ttotal: 986ms\tremaining: 3.85s\n",
      "204:\tlearn: 0.4314545\ttotal: 990ms\tremaining: 3.84s\n",
      "205:\tlearn: 0.4309091\ttotal: 995ms\tremaining: 3.83s\n",
      "206:\tlearn: 0.4305041\ttotal: 1000ms\tremaining: 3.83s\n",
      "207:\tlearn: 0.4301462\ttotal: 1s\tremaining: 3.82s\n",
      "208:\tlearn: 0.4297563\ttotal: 1.01s\tremaining: 3.82s\n",
      "209:\tlearn: 0.4290716\ttotal: 1.01s\tremaining: 3.81s\n",
      "210:\tlearn: 0.4282636\ttotal: 1.02s\tremaining: 3.81s\n",
      "211:\tlearn: 0.4276822\ttotal: 1.02s\tremaining: 3.8s\n",
      "212:\tlearn: 0.4270034\ttotal: 1.03s\tremaining: 3.79s\n",
      "213:\tlearn: 0.4262709\ttotal: 1.03s\tremaining: 3.79s\n",
      "214:\tlearn: 0.4255551\ttotal: 1.04s\tremaining: 3.78s\n",
      "215:\tlearn: 0.4247908\ttotal: 1.04s\tremaining: 3.78s\n",
      "216:\tlearn: 0.4242265\ttotal: 1.04s\tremaining: 3.77s\n",
      "217:\tlearn: 0.4238561\ttotal: 1.05s\tremaining: 3.77s\n",
      "218:\tlearn: 0.4232518\ttotal: 1.05s\tremaining: 3.76s\n",
      "219:\tlearn: 0.4228899\ttotal: 1.06s\tremaining: 3.75s\n",
      "220:\tlearn: 0.4223917\ttotal: 1.06s\tremaining: 3.75s\n",
      "221:\tlearn: 0.4218972\ttotal: 1.07s\tremaining: 3.74s\n",
      "222:\tlearn: 0.4212504\ttotal: 1.07s\tremaining: 3.73s\n",
      "223:\tlearn: 0.4206920\ttotal: 1.07s\tremaining: 3.73s\n",
      "224:\tlearn: 0.4199186\ttotal: 1.08s\tremaining: 3.72s\n",
      "225:\tlearn: 0.4191138\ttotal: 1.08s\tremaining: 3.72s\n",
      "226:\tlearn: 0.4186520\ttotal: 1.09s\tremaining: 3.71s\n",
      "227:\tlearn: 0.4181915\ttotal: 1.09s\tremaining: 3.71s\n",
      "228:\tlearn: 0.4178198\ttotal: 1.1s\tremaining: 3.7s\n",
      "229:\tlearn: 0.4171096\ttotal: 1.1s\tremaining: 3.7s\n",
      "230:\tlearn: 0.4164953\ttotal: 1.11s\tremaining: 3.69s\n",
      "231:\tlearn: 0.4161476\ttotal: 1.11s\tremaining: 3.69s\n",
      "232:\tlearn: 0.4158402\ttotal: 1.12s\tremaining: 3.68s\n",
      "233:\tlearn: 0.4151679\ttotal: 1.12s\tremaining: 3.68s\n",
      "234:\tlearn: 0.4146453\ttotal: 1.13s\tremaining: 3.67s\n",
      "235:\tlearn: 0.4140963\ttotal: 1.13s\tremaining: 3.66s\n",
      "236:\tlearn: 0.4136743\ttotal: 1.14s\tremaining: 3.66s\n",
      "237:\tlearn: 0.4132083\ttotal: 1.14s\tremaining: 3.65s\n",
      "238:\tlearn: 0.4125201\ttotal: 1.15s\tremaining: 3.65s\n",
      "239:\tlearn: 0.4121150\ttotal: 1.15s\tremaining: 3.64s\n",
      "240:\tlearn: 0.4117951\ttotal: 1.16s\tremaining: 3.64s\n",
      "241:\tlearn: 0.4114704\ttotal: 1.16s\tremaining: 3.64s\n",
      "242:\tlearn: 0.4110852\ttotal: 1.17s\tremaining: 3.63s\n",
      "243:\tlearn: 0.4106687\ttotal: 1.17s\tremaining: 3.63s\n",
      "244:\tlearn: 0.4101296\ttotal: 1.18s\tremaining: 3.62s\n",
      "245:\tlearn: 0.4096067\ttotal: 1.18s\tremaining: 3.62s\n",
      "246:\tlearn: 0.4091153\ttotal: 1.19s\tremaining: 3.61s\n",
      "247:\tlearn: 0.4087706\ttotal: 1.19s\tremaining: 3.61s\n",
      "248:\tlearn: 0.4082519\ttotal: 1.19s\tremaining: 3.6s\n",
      "249:\tlearn: 0.4077041\ttotal: 1.2s\tremaining: 3.6s\n",
      "250:\tlearn: 0.4071586\ttotal: 1.2s\tremaining: 3.59s\n",
      "251:\tlearn: 0.4067383\ttotal: 1.21s\tremaining: 3.58s\n",
      "252:\tlearn: 0.4063597\ttotal: 1.21s\tremaining: 3.58s\n",
      "253:\tlearn: 0.4058754\ttotal: 1.22s\tremaining: 3.58s\n",
      "254:\tlearn: 0.4055329\ttotal: 1.22s\tremaining: 3.57s\n",
      "255:\tlearn: 0.4050770\ttotal: 1.23s\tremaining: 3.56s\n",
      "256:\tlearn: 0.4047090\ttotal: 1.23s\tremaining: 3.56s\n",
      "257:\tlearn: 0.4042915\ttotal: 1.24s\tremaining: 3.55s\n",
      "258:\tlearn: 0.4037434\ttotal: 1.24s\tremaining: 3.55s\n",
      "259:\tlearn: 0.4032634\ttotal: 1.24s\tremaining: 3.54s\n",
      "260:\tlearn: 0.4023316\ttotal: 1.25s\tremaining: 3.54s\n",
      "261:\tlearn: 0.4016391\ttotal: 1.25s\tremaining: 3.53s\n",
      "262:\tlearn: 0.4013506\ttotal: 1.26s\tremaining: 3.53s\n",
      "263:\tlearn: 0.4009580\ttotal: 1.26s\tremaining: 3.52s\n",
      "264:\tlearn: 0.4006246\ttotal: 1.27s\tremaining: 3.52s\n",
      "265:\tlearn: 0.4000916\ttotal: 1.27s\tremaining: 3.51s\n",
      "266:\tlearn: 0.3993932\ttotal: 1.28s\tremaining: 3.51s\n",
      "267:\tlearn: 0.3988218\ttotal: 1.28s\tremaining: 3.5s\n",
      "268:\tlearn: 0.3983331\ttotal: 1.29s\tremaining: 3.5s\n",
      "269:\tlearn: 0.3979622\ttotal: 1.29s\tremaining: 3.49s\n",
      "270:\tlearn: 0.3975322\ttotal: 1.29s\tremaining: 3.48s\n",
      "271:\tlearn: 0.3971602\ttotal: 1.3s\tremaining: 3.48s\n",
      "272:\tlearn: 0.3966951\ttotal: 1.3s\tremaining: 3.48s\n",
      "273:\tlearn: 0.3963198\ttotal: 1.31s\tremaining: 3.47s\n",
      "274:\tlearn: 0.3960728\ttotal: 1.31s\tremaining: 3.46s\n",
      "275:\tlearn: 0.3955273\ttotal: 1.32s\tremaining: 3.46s\n",
      "276:\tlearn: 0.3949462\ttotal: 1.32s\tremaining: 3.45s\n",
      "277:\tlearn: 0.3943376\ttotal: 1.33s\tremaining: 3.45s\n",
      "278:\tlearn: 0.3938960\ttotal: 1.33s\tremaining: 3.44s\n",
      "279:\tlearn: 0.3933044\ttotal: 1.34s\tremaining: 3.44s\n",
      "280:\tlearn: 0.3927910\ttotal: 1.34s\tremaining: 3.43s\n",
      "281:\tlearn: 0.3922997\ttotal: 1.35s\tremaining: 3.43s\n",
      "282:\tlearn: 0.3918493\ttotal: 1.35s\tremaining: 3.43s\n",
      "283:\tlearn: 0.3914370\ttotal: 1.36s\tremaining: 3.42s\n",
      "284:\tlearn: 0.3910064\ttotal: 1.36s\tremaining: 3.42s\n",
      "285:\tlearn: 0.3905960\ttotal: 1.37s\tremaining: 3.41s\n",
      "286:\tlearn: 0.3899846\ttotal: 1.37s\tremaining: 3.4s\n",
      "287:\tlearn: 0.3893711\ttotal: 1.38s\tremaining: 3.4s\n",
      "288:\tlearn: 0.3891304\ttotal: 1.38s\tremaining: 3.39s\n",
      "289:\tlearn: 0.3886285\ttotal: 1.38s\tremaining: 3.39s\n",
      "290:\tlearn: 0.3880917\ttotal: 1.39s\tremaining: 3.38s\n",
      "291:\tlearn: 0.3877275\ttotal: 1.39s\tremaining: 3.38s\n",
      "292:\tlearn: 0.3873864\ttotal: 1.4s\tremaining: 3.37s\n",
      "293:\tlearn: 0.3869538\ttotal: 1.4s\tremaining: 3.37s\n",
      "294:\tlearn: 0.3865679\ttotal: 1.41s\tremaining: 3.36s\n",
      "295:\tlearn: 0.3862020\ttotal: 1.41s\tremaining: 3.35s\n",
      "296:\tlearn: 0.3858119\ttotal: 1.41s\tremaining: 3.35s\n",
      "297:\tlearn: 0.3853096\ttotal: 1.42s\tremaining: 3.34s\n",
      "298:\tlearn: 0.3848285\ttotal: 1.42s\tremaining: 3.34s\n",
      "299:\tlearn: 0.3843472\ttotal: 1.43s\tremaining: 3.33s\n",
      "300:\tlearn: 0.3839304\ttotal: 1.43s\tremaining: 3.33s\n",
      "301:\tlearn: 0.3833612\ttotal: 1.44s\tremaining: 3.32s\n",
      "302:\tlearn: 0.3828694\ttotal: 1.44s\tremaining: 3.32s\n",
      "303:\tlearn: 0.3823576\ttotal: 1.45s\tremaining: 3.31s\n",
      "304:\tlearn: 0.3820195\ttotal: 1.45s\tremaining: 3.31s\n",
      "305:\tlearn: 0.3816201\ttotal: 1.46s\tremaining: 3.3s\n",
      "306:\tlearn: 0.3815176\ttotal: 1.46s\tremaining: 3.29s\n",
      "307:\tlearn: 0.3811847\ttotal: 1.46s\tremaining: 3.28s\n",
      "308:\tlearn: 0.3808316\ttotal: 1.47s\tremaining: 3.28s\n",
      "309:\tlearn: 0.3804856\ttotal: 1.47s\tremaining: 3.27s\n",
      "310:\tlearn: 0.3800419\ttotal: 1.48s\tremaining: 3.27s\n",
      "311:\tlearn: 0.3795972\ttotal: 1.48s\tremaining: 3.27s\n",
      "312:\tlearn: 0.3792165\ttotal: 1.49s\tremaining: 3.26s\n",
      "313:\tlearn: 0.3788540\ttotal: 1.49s\tremaining: 3.25s\n",
      "314:\tlearn: 0.3784274\ttotal: 1.49s\tremaining: 3.25s\n",
      "315:\tlearn: 0.3781202\ttotal: 1.5s\tremaining: 3.24s\n",
      "316:\tlearn: 0.3776210\ttotal: 1.5s\tremaining: 3.24s\n",
      "317:\tlearn: 0.3772825\ttotal: 1.51s\tremaining: 3.23s\n",
      "318:\tlearn: 0.3767871\ttotal: 1.51s\tremaining: 3.23s\n",
      "319:\tlearn: 0.3762474\ttotal: 1.52s\tremaining: 3.22s\n",
      "320:\tlearn: 0.3757879\ttotal: 1.52s\tremaining: 3.22s\n",
      "321:\tlearn: 0.3753659\ttotal: 1.53s\tremaining: 3.21s\n",
      "322:\tlearn: 0.3750879\ttotal: 1.53s\tremaining: 3.21s\n",
      "323:\tlearn: 0.3747234\ttotal: 1.53s\tremaining: 3.2s\n",
      "324:\tlearn: 0.3742596\ttotal: 1.54s\tremaining: 3.2s\n",
      "325:\tlearn: 0.3737832\ttotal: 1.54s\tremaining: 3.19s\n",
      "326:\tlearn: 0.3733112\ttotal: 1.55s\tremaining: 3.19s\n",
      "327:\tlearn: 0.3728201\ttotal: 1.55s\tremaining: 3.18s\n",
      "328:\tlearn: 0.3724515\ttotal: 1.56s\tremaining: 3.18s\n",
      "329:\tlearn: 0.3721239\ttotal: 1.56s\tremaining: 3.17s\n",
      "330:\tlearn: 0.3716240\ttotal: 1.57s\tremaining: 3.17s\n",
      "331:\tlearn: 0.3711567\ttotal: 1.57s\tremaining: 3.16s\n",
      "332:\tlearn: 0.3706694\ttotal: 1.58s\tremaining: 3.16s\n",
      "333:\tlearn: 0.3703315\ttotal: 1.58s\tremaining: 3.15s\n",
      "334:\tlearn: 0.3700177\ttotal: 1.58s\tremaining: 3.15s\n",
      "335:\tlearn: 0.3695851\ttotal: 1.59s\tremaining: 3.14s\n",
      "336:\tlearn: 0.3692339\ttotal: 1.59s\tremaining: 3.14s\n",
      "337:\tlearn: 0.3686402\ttotal: 1.6s\tremaining: 3.13s\n",
      "338:\tlearn: 0.3683934\ttotal: 1.6s\tremaining: 3.13s\n",
      "339:\tlearn: 0.3678782\ttotal: 1.61s\tremaining: 3.12s\n",
      "340:\tlearn: 0.3674547\ttotal: 1.61s\tremaining: 3.12s\n",
      "341:\tlearn: 0.3669073\ttotal: 1.62s\tremaining: 3.11s\n",
      "342:\tlearn: 0.3665208\ttotal: 1.62s\tremaining: 3.1s\n",
      "343:\tlearn: 0.3661760\ttotal: 1.63s\tremaining: 3.1s\n"
     ]
    },
    {
     "name": "stdout",
     "output_type": "stream",
     "text": [
      "344:\tlearn: 0.3658775\ttotal: 1.63s\tremaining: 3.09s\n",
      "345:\tlearn: 0.3655351\ttotal: 1.63s\tremaining: 3.09s\n",
      "346:\tlearn: 0.3650529\ttotal: 1.64s\tremaining: 3.08s\n",
      "347:\tlearn: 0.3646110\ttotal: 1.64s\tremaining: 3.08s\n",
      "348:\tlearn: 0.3640149\ttotal: 1.65s\tremaining: 3.08s\n",
      "349:\tlearn: 0.3636943\ttotal: 1.65s\tremaining: 3.07s\n",
      "350:\tlearn: 0.3633750\ttotal: 1.66s\tremaining: 3.06s\n",
      "351:\tlearn: 0.3629568\ttotal: 1.66s\tremaining: 3.06s\n",
      "352:\tlearn: 0.3626553\ttotal: 1.67s\tremaining: 3.06s\n",
      "353:\tlearn: 0.3623304\ttotal: 1.67s\tremaining: 3.05s\n",
      "354:\tlearn: 0.3618878\ttotal: 1.68s\tremaining: 3.04s\n",
      "355:\tlearn: 0.3613384\ttotal: 1.68s\tremaining: 3.04s\n",
      "356:\tlearn: 0.3608765\ttotal: 1.69s\tremaining: 3.04s\n",
      "357:\tlearn: 0.3603524\ttotal: 1.69s\tremaining: 3.03s\n",
      "358:\tlearn: 0.3599502\ttotal: 1.7s\tremaining: 3.03s\n",
      "359:\tlearn: 0.3596528\ttotal: 1.7s\tremaining: 3.02s\n",
      "360:\tlearn: 0.3592908\ttotal: 1.71s\tremaining: 3.02s\n",
      "361:\tlearn: 0.3590085\ttotal: 1.71s\tremaining: 3.01s\n",
      "362:\tlearn: 0.3587545\ttotal: 1.71s\tremaining: 3.01s\n",
      "363:\tlearn: 0.3584373\ttotal: 1.72s\tremaining: 3s\n",
      "364:\tlearn: 0.3580911\ttotal: 1.72s\tremaining: 3s\n",
      "365:\tlearn: 0.3577395\ttotal: 1.73s\tremaining: 3s\n",
      "366:\tlearn: 0.3572454\ttotal: 1.73s\tremaining: 2.99s\n",
      "367:\tlearn: 0.3567275\ttotal: 1.74s\tremaining: 2.98s\n",
      "368:\tlearn: 0.3563112\ttotal: 1.74s\tremaining: 2.98s\n",
      "369:\tlearn: 0.3560014\ttotal: 1.75s\tremaining: 2.98s\n",
      "370:\tlearn: 0.3554002\ttotal: 1.75s\tremaining: 2.97s\n",
      "371:\tlearn: 0.3550570\ttotal: 1.76s\tremaining: 2.96s\n",
      "372:\tlearn: 0.3545887\ttotal: 1.76s\tremaining: 2.96s\n",
      "373:\tlearn: 0.3539517\ttotal: 1.76s\tremaining: 2.95s\n",
      "374:\tlearn: 0.3534791\ttotal: 1.77s\tremaining: 2.95s\n",
      "375:\tlearn: 0.3530814\ttotal: 1.77s\tremaining: 2.94s\n",
      "376:\tlearn: 0.3525797\ttotal: 1.78s\tremaining: 2.94s\n",
      "377:\tlearn: 0.3522497\ttotal: 1.78s\tremaining: 2.93s\n",
      "378:\tlearn: 0.3519553\ttotal: 1.79s\tremaining: 2.93s\n",
      "379:\tlearn: 0.3516553\ttotal: 1.79s\tremaining: 2.92s\n",
      "380:\tlearn: 0.3513101\ttotal: 1.8s\tremaining: 2.92s\n",
      "381:\tlearn: 0.3508267\ttotal: 1.8s\tremaining: 2.92s\n",
      "382:\tlearn: 0.3503783\ttotal: 1.81s\tremaining: 2.91s\n",
      "383:\tlearn: 0.3500834\ttotal: 1.81s\tremaining: 2.9s\n",
      "384:\tlearn: 0.3496492\ttotal: 1.81s\tremaining: 2.9s\n",
      "385:\tlearn: 0.3495732\ttotal: 1.82s\tremaining: 2.89s\n",
      "386:\tlearn: 0.3492723\ttotal: 1.82s\tremaining: 2.89s\n",
      "387:\tlearn: 0.3490198\ttotal: 1.83s\tremaining: 2.88s\n",
      "388:\tlearn: 0.3486423\ttotal: 1.83s\tremaining: 2.88s\n",
      "389:\tlearn: 0.3482718\ttotal: 1.84s\tremaining: 2.88s\n",
      "390:\tlearn: 0.3479730\ttotal: 1.84s\tremaining: 2.87s\n",
      "391:\tlearn: 0.3475697\ttotal: 1.85s\tremaining: 2.87s\n",
      "392:\tlearn: 0.3472081\ttotal: 1.85s\tremaining: 2.86s\n",
      "393:\tlearn: 0.3466302\ttotal: 1.86s\tremaining: 2.85s\n",
      "394:\tlearn: 0.3463858\ttotal: 1.86s\tremaining: 2.85s\n",
      "395:\tlearn: 0.3458972\ttotal: 1.86s\tremaining: 2.85s\n",
      "396:\tlearn: 0.3456834\ttotal: 1.87s\tremaining: 2.84s\n",
      "397:\tlearn: 0.3452858\ttotal: 1.87s\tremaining: 2.83s\n",
      "398:\tlearn: 0.3448866\ttotal: 1.88s\tremaining: 2.83s\n",
      "399:\tlearn: 0.3444946\ttotal: 1.88s\tremaining: 2.82s\n",
      "400:\tlearn: 0.3440683\ttotal: 1.89s\tremaining: 2.82s\n",
      "401:\tlearn: 0.3437711\ttotal: 1.89s\tremaining: 2.81s\n",
      "402:\tlearn: 0.3435142\ttotal: 1.9s\tremaining: 2.81s\n",
      "403:\tlearn: 0.3433426\ttotal: 1.9s\tremaining: 2.8s\n",
      "404:\tlearn: 0.3430122\ttotal: 1.91s\tremaining: 2.8s\n",
      "405:\tlearn: 0.3427125\ttotal: 1.91s\tremaining: 2.79s\n",
      "406:\tlearn: 0.3424298\ttotal: 1.91s\tremaining: 2.79s\n",
      "407:\tlearn: 0.3419903\ttotal: 1.92s\tremaining: 2.78s\n",
      "408:\tlearn: 0.3414981\ttotal: 1.92s\tremaining: 2.78s\n",
      "409:\tlearn: 0.3411932\ttotal: 1.93s\tremaining: 2.77s\n",
      "410:\tlearn: 0.3408994\ttotal: 1.93s\tremaining: 2.77s\n",
      "411:\tlearn: 0.3405356\ttotal: 1.94s\tremaining: 2.77s\n",
      "412:\tlearn: 0.3402786\ttotal: 1.94s\tremaining: 2.76s\n",
      "413:\tlearn: 0.3399106\ttotal: 1.95s\tremaining: 2.75s\n",
      "414:\tlearn: 0.3396794\ttotal: 1.95s\tremaining: 2.75s\n",
      "415:\tlearn: 0.3393320\ttotal: 1.96s\tremaining: 2.75s\n",
      "416:\tlearn: 0.3389788\ttotal: 1.96s\tremaining: 2.74s\n",
      "417:\tlearn: 0.3387072\ttotal: 1.97s\tremaining: 2.74s\n",
      "418:\tlearn: 0.3386501\ttotal: 1.97s\tremaining: 2.73s\n",
      "419:\tlearn: 0.3384740\ttotal: 1.97s\tremaining: 2.72s\n",
      "420:\tlearn: 0.3381274\ttotal: 1.98s\tremaining: 2.72s\n",
      "421:\tlearn: 0.3378930\ttotal: 1.98s\tremaining: 2.71s\n",
      "422:\tlearn: 0.3373834\ttotal: 1.99s\tremaining: 2.71s\n",
      "423:\tlearn: 0.3370790\ttotal: 1.99s\tremaining: 2.71s\n",
      "424:\tlearn: 0.3367247\ttotal: 2s\tremaining: 2.7s\n",
      "425:\tlearn: 0.3360675\ttotal: 2s\tremaining: 2.69s\n",
      "426:\tlearn: 0.3356799\ttotal: 2s\tremaining: 2.69s\n",
      "427:\tlearn: 0.3354140\ttotal: 2.01s\tremaining: 2.69s\n",
      "428:\tlearn: 0.3350525\ttotal: 2.01s\tremaining: 2.68s\n",
      "429:\tlearn: 0.3347900\ttotal: 2.02s\tremaining: 2.68s\n",
      "430:\tlearn: 0.3343437\ttotal: 2.02s\tremaining: 2.67s\n",
      "431:\tlearn: 0.3340816\ttotal: 2.03s\tremaining: 2.67s\n",
      "432:\tlearn: 0.3338750\ttotal: 2.03s\tremaining: 2.66s\n",
      "433:\tlearn: 0.3336234\ttotal: 2.04s\tremaining: 2.66s\n",
      "434:\tlearn: 0.3333358\ttotal: 2.04s\tremaining: 2.65s\n",
      "435:\tlearn: 0.3328951\ttotal: 2.05s\tremaining: 2.65s\n",
      "436:\tlearn: 0.3326101\ttotal: 2.05s\tremaining: 2.64s\n",
      "437:\tlearn: 0.3324114\ttotal: 2.06s\tremaining: 2.64s\n",
      "438:\tlearn: 0.3321407\ttotal: 2.06s\tremaining: 2.63s\n",
      "439:\tlearn: 0.3317444\ttotal: 2.06s\tremaining: 2.63s\n",
      "440:\tlearn: 0.3314658\ttotal: 2.07s\tremaining: 2.62s\n",
      "441:\tlearn: 0.3312106\ttotal: 2.07s\tremaining: 2.62s\n",
      "442:\tlearn: 0.3308891\ttotal: 2.08s\tremaining: 2.61s\n",
      "443:\tlearn: 0.3304619\ttotal: 2.08s\tremaining: 2.61s\n",
      "444:\tlearn: 0.3301145\ttotal: 2.09s\tremaining: 2.6s\n",
      "445:\tlearn: 0.3297000\ttotal: 2.09s\tremaining: 2.6s\n",
      "446:\tlearn: 0.3291928\ttotal: 2.1s\tremaining: 2.59s\n",
      "447:\tlearn: 0.3289408\ttotal: 2.1s\tremaining: 2.59s\n",
      "448:\tlearn: 0.3286597\ttotal: 2.1s\tremaining: 2.58s\n",
      "449:\tlearn: 0.3281980\ttotal: 2.11s\tremaining: 2.58s\n",
      "450:\tlearn: 0.3279662\ttotal: 2.11s\tremaining: 2.57s\n",
      "451:\tlearn: 0.3277076\ttotal: 2.12s\tremaining: 2.57s\n",
      "452:\tlearn: 0.3273617\ttotal: 2.13s\tremaining: 2.57s\n",
      "453:\tlearn: 0.3270436\ttotal: 2.13s\tremaining: 2.56s\n",
      "454:\tlearn: 0.3266313\ttotal: 2.13s\tremaining: 2.56s\n",
      "455:\tlearn: 0.3262166\ttotal: 2.14s\tremaining: 2.55s\n",
      "456:\tlearn: 0.3258100\ttotal: 2.15s\tremaining: 2.55s\n",
      "457:\tlearn: 0.3255219\ttotal: 2.15s\tremaining: 2.54s\n",
      "458:\tlearn: 0.3251068\ttotal: 2.15s\tremaining: 2.54s\n",
      "459:\tlearn: 0.3248693\ttotal: 2.16s\tremaining: 2.53s\n",
      "460:\tlearn: 0.3244949\ttotal: 2.16s\tremaining: 2.53s\n",
      "461:\tlearn: 0.3240762\ttotal: 2.17s\tremaining: 2.52s\n",
      "462:\tlearn: 0.3237419\ttotal: 2.17s\tremaining: 2.52s\n",
      "463:\tlearn: 0.3235887\ttotal: 2.18s\tremaining: 2.51s\n",
      "464:\tlearn: 0.3232693\ttotal: 2.18s\tremaining: 2.51s\n",
      "465:\tlearn: 0.3229557\ttotal: 2.19s\tremaining: 2.5s\n",
      "466:\tlearn: 0.3228032\ttotal: 2.19s\tremaining: 2.5s\n",
      "467:\tlearn: 0.3225621\ttotal: 2.19s\tremaining: 2.5s\n",
      "468:\tlearn: 0.3222774\ttotal: 2.2s\tremaining: 2.49s\n",
      "469:\tlearn: 0.3218935\ttotal: 2.2s\tremaining: 2.48s\n",
      "470:\tlearn: 0.3214796\ttotal: 2.21s\tremaining: 2.48s\n",
      "471:\tlearn: 0.3210433\ttotal: 2.21s\tremaining: 2.48s\n",
      "472:\tlearn: 0.3207416\ttotal: 2.22s\tremaining: 2.47s\n",
      "473:\tlearn: 0.3204108\ttotal: 2.22s\tremaining: 2.47s\n",
      "474:\tlearn: 0.3202327\ttotal: 2.23s\tremaining: 2.46s\n",
      "475:\tlearn: 0.3199040\ttotal: 2.23s\tremaining: 2.46s\n",
      "476:\tlearn: 0.3196659\ttotal: 2.23s\tremaining: 2.45s\n",
      "477:\tlearn: 0.3193529\ttotal: 2.24s\tremaining: 2.45s\n",
      "478:\tlearn: 0.3191282\ttotal: 2.24s\tremaining: 2.44s\n",
      "479:\tlearn: 0.3188282\ttotal: 2.25s\tremaining: 2.44s\n",
      "480:\tlearn: 0.3184706\ttotal: 2.25s\tremaining: 2.43s\n",
      "481:\tlearn: 0.3181374\ttotal: 2.26s\tremaining: 2.43s\n",
      "482:\tlearn: 0.3178297\ttotal: 2.26s\tremaining: 2.42s\n",
      "483:\tlearn: 0.3174524\ttotal: 2.27s\tremaining: 2.42s\n",
      "484:\tlearn: 0.3173668\ttotal: 2.27s\tremaining: 2.41s\n",
      "485:\tlearn: 0.3170260\ttotal: 2.27s\tremaining: 2.4s\n",
      "486:\tlearn: 0.3166766\ttotal: 2.28s\tremaining: 2.4s\n",
      "487:\tlearn: 0.3162913\ttotal: 2.28s\tremaining: 2.4s\n",
      "488:\tlearn: 0.3160147\ttotal: 2.29s\tremaining: 2.39s\n",
      "489:\tlearn: 0.3157634\ttotal: 2.29s\tremaining: 2.39s\n",
      "490:\tlearn: 0.3152642\ttotal: 2.3s\tremaining: 2.38s\n",
      "491:\tlearn: 0.3150169\ttotal: 2.3s\tremaining: 2.38s\n",
      "492:\tlearn: 0.3146763\ttotal: 2.31s\tremaining: 2.37s\n",
      "493:\tlearn: 0.3143199\ttotal: 2.31s\tremaining: 2.37s\n",
      "494:\tlearn: 0.3140461\ttotal: 2.32s\tremaining: 2.36s\n",
      "495:\tlearn: 0.3137475\ttotal: 2.32s\tremaining: 2.36s\n",
      "496:\tlearn: 0.3134278\ttotal: 2.33s\tremaining: 2.35s\n",
      "497:\tlearn: 0.3131166\ttotal: 2.33s\tremaining: 2.35s\n",
      "498:\tlearn: 0.3128380\ttotal: 2.33s\tremaining: 2.34s\n",
      "499:\tlearn: 0.3126632\ttotal: 2.34s\tremaining: 2.34s\n",
      "500:\tlearn: 0.3125027\ttotal: 2.34s\tremaining: 2.33s\n",
      "501:\tlearn: 0.3122929\ttotal: 2.35s\tremaining: 2.33s\n",
      "502:\tlearn: 0.3118135\ttotal: 2.35s\tremaining: 2.32s\n",
      "503:\tlearn: 0.3115488\ttotal: 2.36s\tremaining: 2.32s\n",
      "504:\tlearn: 0.3113822\ttotal: 2.36s\tremaining: 2.31s\n",
      "505:\tlearn: 0.3112122\ttotal: 2.36s\tremaining: 2.31s\n",
      "506:\tlearn: 0.3110152\ttotal: 2.37s\tremaining: 2.3s\n",
      "507:\tlearn: 0.3107156\ttotal: 2.37s\tremaining: 2.3s\n",
      "508:\tlearn: 0.3104232\ttotal: 2.38s\tremaining: 2.29s\n",
      "509:\tlearn: 0.3099611\ttotal: 2.38s\tremaining: 2.29s\n",
      "510:\tlearn: 0.3097003\ttotal: 2.39s\tremaining: 2.28s\n",
      "511:\tlearn: 0.3092787\ttotal: 2.39s\tremaining: 2.28s\n",
      "512:\tlearn: 0.3090021\ttotal: 2.4s\tremaining: 2.27s\n",
      "513:\tlearn: 0.3087113\ttotal: 2.4s\tremaining: 2.27s\n",
      "514:\tlearn: 0.3083618\ttotal: 2.41s\tremaining: 2.27s\n",
      "515:\tlearn: 0.3079981\ttotal: 2.41s\tremaining: 2.26s\n",
      "516:\tlearn: 0.3077059\ttotal: 2.42s\tremaining: 2.26s\n",
      "517:\tlearn: 0.3074700\ttotal: 2.42s\tremaining: 2.25s\n",
      "518:\tlearn: 0.3073274\ttotal: 2.42s\tremaining: 2.25s\n",
      "519:\tlearn: 0.3069372\ttotal: 2.43s\tremaining: 2.24s\n",
      "520:\tlearn: 0.3065142\ttotal: 2.43s\tremaining: 2.24s\n"
     ]
    },
    {
     "name": "stdout",
     "output_type": "stream",
     "text": [
      "521:\tlearn: 0.3063188\ttotal: 2.44s\tremaining: 2.23s\n",
      "522:\tlearn: 0.3060923\ttotal: 2.44s\tremaining: 2.23s\n",
      "523:\tlearn: 0.3057900\ttotal: 2.45s\tremaining: 2.22s\n",
      "524:\tlearn: 0.3053900\ttotal: 2.45s\tremaining: 2.22s\n",
      "525:\tlearn: 0.3051023\ttotal: 2.46s\tremaining: 2.21s\n",
      "526:\tlearn: 0.3048692\ttotal: 2.46s\tremaining: 2.21s\n",
      "527:\tlearn: 0.3046052\ttotal: 2.47s\tremaining: 2.2s\n",
      "528:\tlearn: 0.3042329\ttotal: 2.47s\tremaining: 2.2s\n",
      "529:\tlearn: 0.3041471\ttotal: 2.47s\tremaining: 2.19s\n",
      "530:\tlearn: 0.3038029\ttotal: 2.48s\tremaining: 2.19s\n",
      "531:\tlearn: 0.3034081\ttotal: 2.48s\tremaining: 2.18s\n",
      "532:\tlearn: 0.3031207\ttotal: 2.49s\tremaining: 2.18s\n",
      "533:\tlearn: 0.3028095\ttotal: 2.49s\tremaining: 2.17s\n",
      "534:\tlearn: 0.3025352\ttotal: 2.5s\tremaining: 2.17s\n",
      "535:\tlearn: 0.3022457\ttotal: 2.5s\tremaining: 2.17s\n",
      "536:\tlearn: 0.3020361\ttotal: 2.51s\tremaining: 2.16s\n",
      "537:\tlearn: 0.3018473\ttotal: 2.51s\tremaining: 2.16s\n",
      "538:\tlearn: 0.3015514\ttotal: 2.52s\tremaining: 2.15s\n",
      "539:\tlearn: 0.3013718\ttotal: 2.52s\tremaining: 2.15s\n",
      "540:\tlearn: 0.3012018\ttotal: 2.52s\tremaining: 2.14s\n",
      "541:\tlearn: 0.3009833\ttotal: 2.53s\tremaining: 2.14s\n",
      "542:\tlearn: 0.3006773\ttotal: 2.53s\tremaining: 2.13s\n",
      "543:\tlearn: 0.3003472\ttotal: 2.54s\tremaining: 2.13s\n",
      "544:\tlearn: 0.3000710\ttotal: 2.54s\tremaining: 2.12s\n",
      "545:\tlearn: 0.2998331\ttotal: 2.55s\tremaining: 2.12s\n",
      "546:\tlearn: 0.2993788\ttotal: 2.55s\tremaining: 2.11s\n",
      "547:\tlearn: 0.2991942\ttotal: 2.56s\tremaining: 2.11s\n",
      "548:\tlearn: 0.2989584\ttotal: 2.56s\tremaining: 2.1s\n",
      "549:\tlearn: 0.2986379\ttotal: 2.57s\tremaining: 2.1s\n",
      "550:\tlearn: 0.2984542\ttotal: 2.57s\tremaining: 2.09s\n",
      "551:\tlearn: 0.2982538\ttotal: 2.58s\tremaining: 2.09s\n",
      "552:\tlearn: 0.2978737\ttotal: 2.58s\tremaining: 2.08s\n",
      "553:\tlearn: 0.2976112\ttotal: 2.58s\tremaining: 2.08s\n",
      "554:\tlearn: 0.2971760\ttotal: 2.59s\tremaining: 2.08s\n",
      "555:\tlearn: 0.2968486\ttotal: 2.59s\tremaining: 2.07s\n",
      "556:\tlearn: 0.2966154\ttotal: 2.6s\tremaining: 2.06s\n",
      "557:\tlearn: 0.2962871\ttotal: 2.6s\tremaining: 2.06s\n",
      "558:\tlearn: 0.2960830\ttotal: 2.61s\tremaining: 2.06s\n",
      "559:\tlearn: 0.2957830\ttotal: 2.61s\tremaining: 2.05s\n",
      "560:\tlearn: 0.2955364\ttotal: 2.62s\tremaining: 2.05s\n",
      "561:\tlearn: 0.2952537\ttotal: 2.62s\tremaining: 2.04s\n",
      "562:\tlearn: 0.2949837\ttotal: 2.63s\tremaining: 2.04s\n",
      "563:\tlearn: 0.2945629\ttotal: 2.63s\tremaining: 2.03s\n",
      "564:\tlearn: 0.2942173\ttotal: 2.63s\tremaining: 2.03s\n",
      "565:\tlearn: 0.2940126\ttotal: 2.64s\tremaining: 2.02s\n",
      "566:\tlearn: 0.2936387\ttotal: 2.65s\tremaining: 2.02s\n",
      "567:\tlearn: 0.2934109\ttotal: 2.65s\tremaining: 2.02s\n",
      "568:\tlearn: 0.2931630\ttotal: 2.65s\tremaining: 2.01s\n",
      "569:\tlearn: 0.2927758\ttotal: 2.66s\tremaining: 2s\n",
      "570:\tlearn: 0.2924712\ttotal: 2.66s\tremaining: 2s\n",
      "571:\tlearn: 0.2921108\ttotal: 2.67s\tremaining: 2s\n",
      "572:\tlearn: 0.2918742\ttotal: 2.67s\tremaining: 1.99s\n",
      "573:\tlearn: 0.2916303\ttotal: 2.68s\tremaining: 1.99s\n",
      "574:\tlearn: 0.2912953\ttotal: 2.68s\tremaining: 1.98s\n",
      "575:\tlearn: 0.2911615\ttotal: 2.68s\tremaining: 1.98s\n",
      "576:\tlearn: 0.2909942\ttotal: 2.69s\tremaining: 1.97s\n",
      "577:\tlearn: 0.2908441\ttotal: 2.69s\tremaining: 1.97s\n",
      "578:\tlearn: 0.2905349\ttotal: 2.7s\tremaining: 1.96s\n",
      "579:\tlearn: 0.2901767\ttotal: 2.7s\tremaining: 1.96s\n",
      "580:\tlearn: 0.2898637\ttotal: 2.71s\tremaining: 1.95s\n",
      "581:\tlearn: 0.2894540\ttotal: 2.71s\tremaining: 1.95s\n",
      "582:\tlearn: 0.2893766\ttotal: 2.72s\tremaining: 1.94s\n",
      "583:\tlearn: 0.2890991\ttotal: 2.72s\tremaining: 1.94s\n",
      "584:\tlearn: 0.2887677\ttotal: 2.73s\tremaining: 1.93s\n",
      "585:\tlearn: 0.2885432\ttotal: 2.73s\tremaining: 1.93s\n",
      "586:\tlearn: 0.2881829\ttotal: 2.73s\tremaining: 1.92s\n",
      "587:\tlearn: 0.2878952\ttotal: 2.74s\tremaining: 1.92s\n",
      "588:\tlearn: 0.2876988\ttotal: 2.74s\tremaining: 1.91s\n",
      "589:\tlearn: 0.2875081\ttotal: 2.75s\tremaining: 1.91s\n",
      "590:\tlearn: 0.2872234\ttotal: 2.75s\tremaining: 1.91s\n",
      "591:\tlearn: 0.2868773\ttotal: 2.76s\tremaining: 1.9s\n",
      "592:\tlearn: 0.2865000\ttotal: 2.76s\tremaining: 1.9s\n",
      "593:\tlearn: 0.2862227\ttotal: 2.77s\tremaining: 1.89s\n",
      "594:\tlearn: 0.2859752\ttotal: 2.77s\tremaining: 1.89s\n",
      "595:\tlearn: 0.2857140\ttotal: 2.78s\tremaining: 1.88s\n",
      "596:\tlearn: 0.2853825\ttotal: 2.78s\tremaining: 1.88s\n",
      "597:\tlearn: 0.2851446\ttotal: 2.79s\tremaining: 1.87s\n",
      "598:\tlearn: 0.2848031\ttotal: 2.79s\tremaining: 1.87s\n",
      "599:\tlearn: 0.2845453\ttotal: 2.79s\tremaining: 1.86s\n",
      "600:\tlearn: 0.2842872\ttotal: 2.8s\tremaining: 1.86s\n",
      "601:\tlearn: 0.2840028\ttotal: 2.8s\tremaining: 1.85s\n",
      "602:\tlearn: 0.2837715\ttotal: 2.81s\tremaining: 1.85s\n",
      "603:\tlearn: 0.2835593\ttotal: 2.81s\tremaining: 1.84s\n",
      "604:\tlearn: 0.2832086\ttotal: 2.82s\tremaining: 1.84s\n",
      "605:\tlearn: 0.2830587\ttotal: 2.82s\tremaining: 1.83s\n",
      "606:\tlearn: 0.2828164\ttotal: 2.83s\tremaining: 1.83s\n",
      "607:\tlearn: 0.2825492\ttotal: 2.83s\tremaining: 1.82s\n",
      "608:\tlearn: 0.2821402\ttotal: 2.84s\tremaining: 1.82s\n",
      "609:\tlearn: 0.2817891\ttotal: 2.84s\tremaining: 1.82s\n",
      "610:\tlearn: 0.2816036\ttotal: 2.85s\tremaining: 1.81s\n",
      "611:\tlearn: 0.2812651\ttotal: 2.85s\tremaining: 1.81s\n",
      "612:\tlearn: 0.2811115\ttotal: 2.85s\tremaining: 1.8s\n",
      "613:\tlearn: 0.2809175\ttotal: 2.86s\tremaining: 1.8s\n",
      "614:\tlearn: 0.2806751\ttotal: 2.86s\tremaining: 1.79s\n",
      "615:\tlearn: 0.2804521\ttotal: 2.87s\tremaining: 1.79s\n",
      "616:\tlearn: 0.2802484\ttotal: 2.87s\tremaining: 1.78s\n",
      "617:\tlearn: 0.2798808\ttotal: 2.88s\tremaining: 1.78s\n",
      "618:\tlearn: 0.2795662\ttotal: 2.88s\tremaining: 1.77s\n",
      "619:\tlearn: 0.2794224\ttotal: 2.89s\tremaining: 1.77s\n",
      "620:\tlearn: 0.2792355\ttotal: 2.89s\tremaining: 1.76s\n",
      "621:\tlearn: 0.2788088\ttotal: 2.9s\tremaining: 1.76s\n",
      "622:\tlearn: 0.2785181\ttotal: 2.9s\tremaining: 1.75s\n",
      "623:\tlearn: 0.2782664\ttotal: 2.9s\tremaining: 1.75s\n",
      "624:\tlearn: 0.2780766\ttotal: 2.91s\tremaining: 1.75s\n",
      "625:\tlearn: 0.2778710\ttotal: 2.91s\tremaining: 1.74s\n",
      "626:\tlearn: 0.2775927\ttotal: 2.92s\tremaining: 1.74s\n",
      "627:\tlearn: 0.2773170\ttotal: 2.92s\tremaining: 1.73s\n",
      "628:\tlearn: 0.2770117\ttotal: 2.93s\tremaining: 1.73s\n",
      "629:\tlearn: 0.2768540\ttotal: 2.93s\tremaining: 1.72s\n",
      "630:\tlearn: 0.2766757\ttotal: 2.94s\tremaining: 1.72s\n",
      "631:\tlearn: 0.2764801\ttotal: 2.94s\tremaining: 1.71s\n",
      "632:\tlearn: 0.2762191\ttotal: 2.95s\tremaining: 1.71s\n",
      "633:\tlearn: 0.2760496\ttotal: 2.95s\tremaining: 1.7s\n",
      "634:\tlearn: 0.2756326\ttotal: 2.96s\tremaining: 1.7s\n",
      "635:\tlearn: 0.2754694\ttotal: 2.96s\tremaining: 1.69s\n",
      "636:\tlearn: 0.2752332\ttotal: 2.96s\tremaining: 1.69s\n",
      "637:\tlearn: 0.2750254\ttotal: 2.97s\tremaining: 1.69s\n",
      "638:\tlearn: 0.2746906\ttotal: 2.97s\tremaining: 1.68s\n",
      "639:\tlearn: 0.2743950\ttotal: 2.98s\tremaining: 1.68s\n",
      "640:\tlearn: 0.2742397\ttotal: 2.98s\tremaining: 1.67s\n",
      "641:\tlearn: 0.2740096\ttotal: 2.99s\tremaining: 1.67s\n",
      "642:\tlearn: 0.2738198\ttotal: 2.99s\tremaining: 1.66s\n",
      "643:\tlearn: 0.2735363\ttotal: 3s\tremaining: 1.66s\n",
      "644:\tlearn: 0.2732748\ttotal: 3s\tremaining: 1.65s\n",
      "645:\tlearn: 0.2730398\ttotal: 3s\tremaining: 1.65s\n",
      "646:\tlearn: 0.2727692\ttotal: 3.01s\tremaining: 1.64s\n",
      "647:\tlearn: 0.2723106\ttotal: 3.02s\tremaining: 1.64s\n",
      "648:\tlearn: 0.2720847\ttotal: 3.02s\tremaining: 1.63s\n",
      "649:\tlearn: 0.2719240\ttotal: 3.02s\tremaining: 1.63s\n",
      "650:\tlearn: 0.2717210\ttotal: 3.03s\tremaining: 1.62s\n",
      "651:\tlearn: 0.2715780\ttotal: 3.03s\tremaining: 1.62s\n",
      "652:\tlearn: 0.2713538\ttotal: 3.04s\tremaining: 1.61s\n",
      "653:\tlearn: 0.2710440\ttotal: 3.04s\tremaining: 1.61s\n",
      "654:\tlearn: 0.2707494\ttotal: 3.05s\tremaining: 1.6s\n",
      "655:\tlearn: 0.2705315\ttotal: 3.05s\tremaining: 1.6s\n",
      "656:\tlearn: 0.2703746\ttotal: 3.06s\tremaining: 1.59s\n",
      "657:\tlearn: 0.2701305\ttotal: 3.06s\tremaining: 1.59s\n",
      "658:\tlearn: 0.2697765\ttotal: 3.06s\tremaining: 1.59s\n",
      "659:\tlearn: 0.2695087\ttotal: 3.07s\tremaining: 1.58s\n",
      "660:\tlearn: 0.2692977\ttotal: 3.07s\tremaining: 1.58s\n",
      "661:\tlearn: 0.2690883\ttotal: 3.08s\tremaining: 1.57s\n",
      "662:\tlearn: 0.2688239\ttotal: 3.08s\tremaining: 1.57s\n",
      "663:\tlearn: 0.2685909\ttotal: 3.09s\tremaining: 1.56s\n",
      "664:\tlearn: 0.2683382\ttotal: 3.09s\tremaining: 1.56s\n",
      "665:\tlearn: 0.2679100\ttotal: 3.1s\tremaining: 1.55s\n",
      "666:\tlearn: 0.2675828\ttotal: 3.1s\tremaining: 1.55s\n",
      "667:\tlearn: 0.2673111\ttotal: 3.11s\tremaining: 1.54s\n",
      "668:\tlearn: 0.2671474\ttotal: 3.11s\tremaining: 1.54s\n",
      "669:\tlearn: 0.2667748\ttotal: 3.12s\tremaining: 1.53s\n",
      "670:\tlearn: 0.2666186\ttotal: 3.12s\tremaining: 1.53s\n",
      "671:\tlearn: 0.2662594\ttotal: 3.13s\tremaining: 1.52s\n",
      "672:\tlearn: 0.2659784\ttotal: 3.13s\tremaining: 1.52s\n",
      "673:\tlearn: 0.2657134\ttotal: 3.13s\tremaining: 1.52s\n",
      "674:\tlearn: 0.2653582\ttotal: 3.14s\tremaining: 1.51s\n",
      "675:\tlearn: 0.2651736\ttotal: 3.14s\tremaining: 1.51s\n",
      "676:\tlearn: 0.2648547\ttotal: 3.15s\tremaining: 1.5s\n",
      "677:\tlearn: 0.2646293\ttotal: 3.15s\tremaining: 1.5s\n",
      "678:\tlearn: 0.2644786\ttotal: 3.16s\tremaining: 1.49s\n",
      "679:\tlearn: 0.2642862\ttotal: 3.16s\tremaining: 1.49s\n",
      "680:\tlearn: 0.2640534\ttotal: 3.17s\tremaining: 1.48s\n",
      "681:\tlearn: 0.2639214\ttotal: 3.17s\tremaining: 1.48s\n",
      "682:\tlearn: 0.2636821\ttotal: 3.17s\tremaining: 1.47s\n",
      "683:\tlearn: 0.2633422\ttotal: 3.18s\tremaining: 1.47s\n",
      "684:\tlearn: 0.2630128\ttotal: 3.18s\tremaining: 1.46s\n",
      "685:\tlearn: 0.2628622\ttotal: 3.19s\tremaining: 1.46s\n",
      "686:\tlearn: 0.2625517\ttotal: 3.19s\tremaining: 1.45s\n",
      "687:\tlearn: 0.2623625\ttotal: 3.2s\tremaining: 1.45s\n",
      "688:\tlearn: 0.2621436\ttotal: 3.2s\tremaining: 1.45s\n",
      "689:\tlearn: 0.2619533\ttotal: 3.21s\tremaining: 1.44s\n",
      "690:\tlearn: 0.2617757\ttotal: 3.21s\tremaining: 1.44s\n",
      "691:\tlearn: 0.2615274\ttotal: 3.22s\tremaining: 1.43s\n",
      "692:\tlearn: 0.2611576\ttotal: 3.22s\tremaining: 1.43s\n",
      "693:\tlearn: 0.2608741\ttotal: 3.23s\tremaining: 1.42s\n",
      "694:\tlearn: 0.2606220\ttotal: 3.23s\tremaining: 1.42s\n",
      "695:\tlearn: 0.2603950\ttotal: 3.23s\tremaining: 1.41s\n",
      "696:\tlearn: 0.2601803\ttotal: 3.24s\tremaining: 1.41s\n",
      "697:\tlearn: 0.2599033\ttotal: 3.24s\tremaining: 1.4s\n",
      "698:\tlearn: 0.2597658\ttotal: 3.25s\tremaining: 1.4s\n",
      "699:\tlearn: 0.2593714\ttotal: 3.25s\tremaining: 1.39s\n"
     ]
    },
    {
     "name": "stdout",
     "output_type": "stream",
     "text": [
      "700:\tlearn: 0.2592085\ttotal: 3.26s\tremaining: 1.39s\n",
      "701:\tlearn: 0.2590514\ttotal: 3.26s\tremaining: 1.38s\n",
      "702:\tlearn: 0.2588601\ttotal: 3.27s\tremaining: 1.38s\n",
      "703:\tlearn: 0.2586652\ttotal: 3.27s\tremaining: 1.38s\n",
      "704:\tlearn: 0.2584533\ttotal: 3.27s\tremaining: 1.37s\n",
      "705:\tlearn: 0.2581744\ttotal: 3.28s\tremaining: 1.37s\n",
      "706:\tlearn: 0.2578875\ttotal: 3.28s\tremaining: 1.36s\n",
      "707:\tlearn: 0.2576943\ttotal: 3.29s\tremaining: 1.36s\n",
      "708:\tlearn: 0.2574245\ttotal: 3.29s\tremaining: 1.35s\n",
      "709:\tlearn: 0.2572632\ttotal: 3.3s\tremaining: 1.35s\n",
      "710:\tlearn: 0.2569452\ttotal: 3.3s\tremaining: 1.34s\n",
      "711:\tlearn: 0.2567084\ttotal: 3.31s\tremaining: 1.34s\n",
      "712:\tlearn: 0.2563736\ttotal: 3.31s\tremaining: 1.33s\n",
      "713:\tlearn: 0.2561690\ttotal: 3.32s\tremaining: 1.33s\n",
      "714:\tlearn: 0.2559307\ttotal: 3.32s\tremaining: 1.32s\n",
      "715:\tlearn: 0.2556084\ttotal: 3.33s\tremaining: 1.32s\n",
      "716:\tlearn: 0.2551870\ttotal: 3.33s\tremaining: 1.31s\n",
      "717:\tlearn: 0.2549354\ttotal: 3.33s\tremaining: 1.31s\n",
      "718:\tlearn: 0.2546969\ttotal: 3.34s\tremaining: 1.3s\n",
      "719:\tlearn: 0.2544141\ttotal: 3.34s\tremaining: 1.3s\n",
      "720:\tlearn: 0.2542221\ttotal: 3.35s\tremaining: 1.29s\n",
      "721:\tlearn: 0.2540164\ttotal: 3.35s\tremaining: 1.29s\n",
      "722:\tlearn: 0.2535624\ttotal: 3.36s\tremaining: 1.28s\n",
      "723:\tlearn: 0.2532686\ttotal: 3.36s\tremaining: 1.28s\n",
      "724:\tlearn: 0.2530556\ttotal: 3.37s\tremaining: 1.28s\n",
      "725:\tlearn: 0.2528167\ttotal: 3.37s\tremaining: 1.27s\n",
      "726:\tlearn: 0.2524878\ttotal: 3.37s\tremaining: 1.27s\n",
      "727:\tlearn: 0.2522880\ttotal: 3.38s\tremaining: 1.26s\n",
      "728:\tlearn: 0.2520966\ttotal: 3.38s\tremaining: 1.26s\n",
      "729:\tlearn: 0.2518295\ttotal: 3.39s\tremaining: 1.25s\n",
      "730:\tlearn: 0.2514900\ttotal: 3.39s\tremaining: 1.25s\n",
      "731:\tlearn: 0.2512829\ttotal: 3.4s\tremaining: 1.24s\n",
      "732:\tlearn: 0.2510948\ttotal: 3.4s\tremaining: 1.24s\n",
      "733:\tlearn: 0.2509073\ttotal: 3.4s\tremaining: 1.23s\n",
      "734:\tlearn: 0.2506095\ttotal: 3.41s\tremaining: 1.23s\n",
      "735:\tlearn: 0.2502837\ttotal: 3.41s\tremaining: 1.22s\n",
      "736:\tlearn: 0.2500627\ttotal: 3.42s\tremaining: 1.22s\n",
      "737:\tlearn: 0.2498570\ttotal: 3.42s\tremaining: 1.22s\n",
      "738:\tlearn: 0.2496539\ttotal: 3.43s\tremaining: 1.21s\n",
      "739:\tlearn: 0.2493840\ttotal: 3.43s\tremaining: 1.21s\n",
      "740:\tlearn: 0.2490649\ttotal: 3.44s\tremaining: 1.2s\n",
      "741:\tlearn: 0.2488550\ttotal: 3.44s\tremaining: 1.2s\n",
      "742:\tlearn: 0.2486516\ttotal: 3.45s\tremaining: 1.19s\n",
      "743:\tlearn: 0.2483548\ttotal: 3.45s\tremaining: 1.19s\n",
      "744:\tlearn: 0.2482422\ttotal: 3.46s\tremaining: 1.18s\n",
      "745:\tlearn: 0.2480448\ttotal: 3.46s\tremaining: 1.18s\n",
      "746:\tlearn: 0.2478196\ttotal: 3.46s\tremaining: 1.17s\n",
      "747:\tlearn: 0.2476436\ttotal: 3.47s\tremaining: 1.17s\n",
      "748:\tlearn: 0.2473313\ttotal: 3.47s\tremaining: 1.16s\n",
      "749:\tlearn: 0.2472145\ttotal: 3.48s\tremaining: 1.16s\n",
      "750:\tlearn: 0.2467934\ttotal: 3.48s\tremaining: 1.16s\n",
      "751:\tlearn: 0.2465591\ttotal: 3.49s\tremaining: 1.15s\n",
      "752:\tlearn: 0.2462938\ttotal: 3.49s\tremaining: 1.15s\n",
      "753:\tlearn: 0.2459779\ttotal: 3.5s\tremaining: 1.14s\n",
      "754:\tlearn: 0.2456568\ttotal: 3.5s\tremaining: 1.14s\n",
      "755:\tlearn: 0.2453197\ttotal: 3.5s\tremaining: 1.13s\n",
      "756:\tlearn: 0.2449931\ttotal: 3.51s\tremaining: 1.13s\n",
      "757:\tlearn: 0.2448332\ttotal: 3.52s\tremaining: 1.12s\n",
      "758:\tlearn: 0.2446264\ttotal: 3.52s\tremaining: 1.12s\n",
      "759:\tlearn: 0.2443797\ttotal: 3.52s\tremaining: 1.11s\n",
      "760:\tlearn: 0.2441164\ttotal: 3.53s\tremaining: 1.11s\n",
      "761:\tlearn: 0.2438527\ttotal: 3.53s\tremaining: 1.1s\n",
      "762:\tlearn: 0.2435063\ttotal: 3.54s\tremaining: 1.1s\n",
      "763:\tlearn: 0.2432278\ttotal: 3.54s\tremaining: 1.09s\n",
      "764:\tlearn: 0.2429056\ttotal: 3.55s\tremaining: 1.09s\n",
      "765:\tlearn: 0.2426214\ttotal: 3.55s\tremaining: 1.08s\n",
      "766:\tlearn: 0.2423964\ttotal: 3.56s\tremaining: 1.08s\n",
      "767:\tlearn: 0.2421756\ttotal: 3.56s\tremaining: 1.07s\n",
      "768:\tlearn: 0.2418764\ttotal: 3.56s\tremaining: 1.07s\n",
      "769:\tlearn: 0.2417157\ttotal: 3.57s\tremaining: 1.07s\n",
      "770:\tlearn: 0.2414471\ttotal: 3.57s\tremaining: 1.06s\n",
      "771:\tlearn: 0.2412661\ttotal: 3.58s\tremaining: 1.06s\n",
      "772:\tlearn: 0.2410454\ttotal: 3.58s\tremaining: 1.05s\n",
      "773:\tlearn: 0.2408381\ttotal: 3.59s\tremaining: 1.05s\n",
      "774:\tlearn: 0.2404515\ttotal: 3.59s\tremaining: 1.04s\n",
      "775:\tlearn: 0.2402332\ttotal: 3.6s\tremaining: 1.04s\n",
      "776:\tlearn: 0.2400229\ttotal: 3.6s\tremaining: 1.03s\n",
      "777:\tlearn: 0.2397549\ttotal: 3.61s\tremaining: 1.03s\n",
      "778:\tlearn: 0.2395550\ttotal: 3.61s\tremaining: 1.02s\n",
      "779:\tlearn: 0.2392057\ttotal: 3.62s\tremaining: 1.02s\n",
      "780:\tlearn: 0.2390266\ttotal: 3.62s\tremaining: 1.01s\n",
      "781:\tlearn: 0.2387933\ttotal: 3.62s\tremaining: 1.01s\n",
      "782:\tlearn: 0.2385552\ttotal: 3.63s\tremaining: 1s\n",
      "783:\tlearn: 0.2383780\ttotal: 3.63s\tremaining: 1s\n",
      "784:\tlearn: 0.2380988\ttotal: 3.64s\tremaining: 996ms\n",
      "785:\tlearn: 0.2378437\ttotal: 3.64s\tremaining: 992ms\n",
      "786:\tlearn: 0.2375660\ttotal: 3.65s\tremaining: 987ms\n",
      "787:\tlearn: 0.2373807\ttotal: 3.65s\tremaining: 982ms\n",
      "788:\tlearn: 0.2371794\ttotal: 3.65s\tremaining: 978ms\n",
      "789:\tlearn: 0.2369616\ttotal: 3.66s\tremaining: 973ms\n",
      "790:\tlearn: 0.2366887\ttotal: 3.66s\tremaining: 968ms\n",
      "791:\tlearn: 0.2365251\ttotal: 3.67s\tremaining: 964ms\n",
      "792:\tlearn: 0.2363165\ttotal: 3.67s\tremaining: 959ms\n",
      "793:\tlearn: 0.2361729\ttotal: 3.68s\tremaining: 954ms\n",
      "794:\tlearn: 0.2359596\ttotal: 3.68s\tremaining: 950ms\n",
      "795:\tlearn: 0.2356988\ttotal: 3.69s\tremaining: 945ms\n",
      "796:\tlearn: 0.2354215\ttotal: 3.69s\tremaining: 940ms\n",
      "797:\tlearn: 0.2352855\ttotal: 3.7s\tremaining: 936ms\n",
      "798:\tlearn: 0.2350860\ttotal: 3.7s\tremaining: 931ms\n",
      "799:\tlearn: 0.2348705\ttotal: 3.71s\tremaining: 926ms\n",
      "800:\tlearn: 0.2347357\ttotal: 3.71s\tremaining: 922ms\n",
      "801:\tlearn: 0.2345394\ttotal: 3.71s\tremaining: 917ms\n",
      "802:\tlearn: 0.2342767\ttotal: 3.72s\tremaining: 912ms\n",
      "803:\tlearn: 0.2339832\ttotal: 3.72s\tremaining: 908ms\n",
      "804:\tlearn: 0.2337524\ttotal: 3.73s\tremaining: 903ms\n",
      "805:\tlearn: 0.2335155\ttotal: 3.73s\tremaining: 898ms\n",
      "806:\tlearn: 0.2333718\ttotal: 3.74s\tremaining: 894ms\n",
      "807:\tlearn: 0.2331722\ttotal: 3.74s\tremaining: 890ms\n",
      "808:\tlearn: 0.2329179\ttotal: 3.75s\tremaining: 885ms\n",
      "809:\tlearn: 0.2327438\ttotal: 3.75s\tremaining: 880ms\n",
      "810:\tlearn: 0.2325463\ttotal: 3.76s\tremaining: 876ms\n",
      "811:\tlearn: 0.2322622\ttotal: 3.76s\tremaining: 871ms\n",
      "812:\tlearn: 0.2320678\ttotal: 3.77s\tremaining: 866ms\n",
      "813:\tlearn: 0.2319551\ttotal: 3.77s\tremaining: 862ms\n",
      "814:\tlearn: 0.2317361\ttotal: 3.77s\tremaining: 857ms\n",
      "815:\tlearn: 0.2315777\ttotal: 3.78s\tremaining: 853ms\n",
      "816:\tlearn: 0.2313764\ttotal: 3.79s\tremaining: 848ms\n",
      "817:\tlearn: 0.2312035\ttotal: 3.79s\tremaining: 843ms\n",
      "818:\tlearn: 0.2309770\ttotal: 3.79s\tremaining: 839ms\n",
      "819:\tlearn: 0.2307831\ttotal: 3.8s\tremaining: 834ms\n",
      "820:\tlearn: 0.2305358\ttotal: 3.8s\tremaining: 829ms\n",
      "821:\tlearn: 0.2302184\ttotal: 3.81s\tremaining: 825ms\n",
      "822:\tlearn: 0.2299470\ttotal: 3.81s\tremaining: 820ms\n",
      "823:\tlearn: 0.2298259\ttotal: 3.82s\tremaining: 815ms\n",
      "824:\tlearn: 0.2295537\ttotal: 3.82s\tremaining: 811ms\n",
      "825:\tlearn: 0.2293623\ttotal: 3.83s\tremaining: 806ms\n",
      "826:\tlearn: 0.2290538\ttotal: 3.83s\tremaining: 801ms\n",
      "827:\tlearn: 0.2288172\ttotal: 3.83s\tremaining: 797ms\n",
      "828:\tlearn: 0.2286941\ttotal: 3.84s\tremaining: 792ms\n",
      "829:\tlearn: 0.2285253\ttotal: 3.84s\tremaining: 787ms\n",
      "830:\tlearn: 0.2283550\ttotal: 3.85s\tremaining: 783ms\n",
      "831:\tlearn: 0.2281795\ttotal: 3.85s\tremaining: 778ms\n",
      "832:\tlearn: 0.2278650\ttotal: 3.86s\tremaining: 773ms\n",
      "833:\tlearn: 0.2277137\ttotal: 3.86s\tremaining: 769ms\n",
      "834:\tlearn: 0.2275521\ttotal: 3.87s\tremaining: 764ms\n",
      "835:\tlearn: 0.2273823\ttotal: 3.87s\tremaining: 759ms\n",
      "836:\tlearn: 0.2272196\ttotal: 3.88s\tremaining: 755ms\n",
      "837:\tlearn: 0.2270818\ttotal: 3.88s\tremaining: 750ms\n",
      "838:\tlearn: 0.2268011\ttotal: 3.88s\tremaining: 745ms\n",
      "839:\tlearn: 0.2264241\ttotal: 3.89s\tremaining: 741ms\n",
      "840:\tlearn: 0.2261804\ttotal: 3.89s\tremaining: 736ms\n",
      "841:\tlearn: 0.2259646\ttotal: 3.9s\tremaining: 731ms\n",
      "842:\tlearn: 0.2256938\ttotal: 3.9s\tremaining: 727ms\n",
      "843:\tlearn: 0.2254030\ttotal: 3.91s\tremaining: 722ms\n",
      "844:\tlearn: 0.2253132\ttotal: 3.91s\tremaining: 718ms\n",
      "845:\tlearn: 0.2251297\ttotal: 3.92s\tremaining: 713ms\n",
      "846:\tlearn: 0.2249742\ttotal: 3.92s\tremaining: 708ms\n",
      "847:\tlearn: 0.2247805\ttotal: 3.92s\tremaining: 704ms\n",
      "848:\tlearn: 0.2243083\ttotal: 3.93s\tremaining: 699ms\n",
      "849:\tlearn: 0.2240190\ttotal: 3.94s\tremaining: 694ms\n",
      "850:\tlearn: 0.2238572\ttotal: 3.94s\tremaining: 690ms\n",
      "851:\tlearn: 0.2235231\ttotal: 3.94s\tremaining: 685ms\n",
      "852:\tlearn: 0.2233751\ttotal: 3.95s\tremaining: 681ms\n",
      "853:\tlearn: 0.2232111\ttotal: 3.95s\tremaining: 676ms\n",
      "854:\tlearn: 0.2230327\ttotal: 3.96s\tremaining: 671ms\n",
      "855:\tlearn: 0.2228822\ttotal: 3.96s\tremaining: 667ms\n",
      "856:\tlearn: 0.2225567\ttotal: 3.97s\tremaining: 662ms\n",
      "857:\tlearn: 0.2222818\ttotal: 3.97s\tremaining: 657ms\n",
      "858:\tlearn: 0.2220000\ttotal: 3.98s\tremaining: 653ms\n",
      "859:\tlearn: 0.2217451\ttotal: 3.98s\tremaining: 648ms\n",
      "860:\tlearn: 0.2214606\ttotal: 3.98s\tremaining: 643ms\n",
      "861:\tlearn: 0.2212736\ttotal: 3.99s\tremaining: 639ms\n",
      "862:\tlearn: 0.2211002\ttotal: 3.99s\tremaining: 634ms\n",
      "863:\tlearn: 0.2209099\ttotal: 4s\tremaining: 630ms\n",
      "864:\tlearn: 0.2205556\ttotal: 4s\tremaining: 625ms\n",
      "865:\tlearn: 0.2203821\ttotal: 4.01s\tremaining: 620ms\n",
      "866:\tlearn: 0.2202025\ttotal: 4.01s\tremaining: 616ms\n",
      "867:\tlearn: 0.2200953\ttotal: 4.02s\tremaining: 611ms\n",
      "868:\tlearn: 0.2198436\ttotal: 4.02s\tremaining: 606ms\n",
      "869:\tlearn: 0.2196864\ttotal: 4.03s\tremaining: 602ms\n",
      "870:\tlearn: 0.2194241\ttotal: 4.03s\tremaining: 597ms\n",
      "871:\tlearn: 0.2192505\ttotal: 4.03s\tremaining: 592ms\n",
      "872:\tlearn: 0.2190882\ttotal: 4.04s\tremaining: 588ms\n",
      "873:\tlearn: 0.2188644\ttotal: 4.04s\tremaining: 583ms\n",
      "874:\tlearn: 0.2186758\ttotal: 4.05s\tremaining: 578ms\n",
      "875:\tlearn: 0.2183502\ttotal: 4.05s\tremaining: 574ms\n",
      "876:\tlearn: 0.2181850\ttotal: 4.06s\tremaining: 569ms\n",
      "877:\tlearn: 0.2179080\ttotal: 4.06s\tremaining: 564ms\n"
     ]
    },
    {
     "name": "stdout",
     "output_type": "stream",
     "text": [
      "878:\tlearn: 0.2177365\ttotal: 4.07s\tremaining: 560ms\n",
      "879:\tlearn: 0.2175671\ttotal: 4.07s\tremaining: 555ms\n",
      "880:\tlearn: 0.2174469\ttotal: 4.08s\tremaining: 551ms\n",
      "881:\tlearn: 0.2172391\ttotal: 4.08s\tremaining: 546ms\n",
      "882:\tlearn: 0.2170341\ttotal: 4.08s\tremaining: 541ms\n",
      "883:\tlearn: 0.2168043\ttotal: 4.09s\tremaining: 537ms\n",
      "884:\tlearn: 0.2166175\ttotal: 4.09s\tremaining: 532ms\n",
      "885:\tlearn: 0.2164426\ttotal: 4.1s\tremaining: 527ms\n",
      "886:\tlearn: 0.2161952\ttotal: 4.1s\tremaining: 523ms\n",
      "887:\tlearn: 0.2159363\ttotal: 4.11s\tremaining: 518ms\n",
      "888:\tlearn: 0.2157506\ttotal: 4.11s\tremaining: 514ms\n",
      "889:\tlearn: 0.2155733\ttotal: 4.12s\tremaining: 509ms\n",
      "890:\tlearn: 0.2153426\ttotal: 4.12s\tremaining: 504ms\n",
      "891:\tlearn: 0.2150661\ttotal: 4.13s\tremaining: 500ms\n",
      "892:\tlearn: 0.2147834\ttotal: 4.13s\tremaining: 495ms\n",
      "893:\tlearn: 0.2145814\ttotal: 4.13s\tremaining: 490ms\n",
      "894:\tlearn: 0.2143548\ttotal: 4.14s\tremaining: 486ms\n",
      "895:\tlearn: 0.2141785\ttotal: 4.14s\tremaining: 481ms\n",
      "896:\tlearn: 0.2139916\ttotal: 4.15s\tremaining: 476ms\n",
      "897:\tlearn: 0.2137819\ttotal: 4.15s\tremaining: 472ms\n",
      "898:\tlearn: 0.2134675\ttotal: 4.16s\tremaining: 467ms\n",
      "899:\tlearn: 0.2132267\ttotal: 4.16s\tremaining: 463ms\n",
      "900:\tlearn: 0.2130436\ttotal: 4.17s\tremaining: 458ms\n",
      "901:\tlearn: 0.2128519\ttotal: 4.17s\tremaining: 453ms\n",
      "902:\tlearn: 0.2127067\ttotal: 4.18s\tremaining: 449ms\n",
      "903:\tlearn: 0.2125246\ttotal: 4.18s\tremaining: 444ms\n",
      "904:\tlearn: 0.2121594\ttotal: 4.18s\tremaining: 439ms\n",
      "905:\tlearn: 0.2118599\ttotal: 4.19s\tremaining: 435ms\n",
      "906:\tlearn: 0.2115896\ttotal: 4.19s\tremaining: 430ms\n",
      "907:\tlearn: 0.2114438\ttotal: 4.2s\tremaining: 426ms\n",
      "908:\tlearn: 0.2111819\ttotal: 4.2s\tremaining: 421ms\n",
      "909:\tlearn: 0.2108974\ttotal: 4.21s\tremaining: 416ms\n",
      "910:\tlearn: 0.2107251\ttotal: 4.21s\tremaining: 412ms\n",
      "911:\tlearn: 0.2105423\ttotal: 4.22s\tremaining: 407ms\n",
      "912:\tlearn: 0.2103859\ttotal: 4.22s\tremaining: 402ms\n",
      "913:\tlearn: 0.2101361\ttotal: 4.23s\tremaining: 398ms\n",
      "914:\tlearn: 0.2099312\ttotal: 4.23s\tremaining: 393ms\n",
      "915:\tlearn: 0.2098150\ttotal: 4.24s\tremaining: 389ms\n",
      "916:\tlearn: 0.2096289\ttotal: 4.24s\tremaining: 384ms\n",
      "917:\tlearn: 0.2094258\ttotal: 4.25s\tremaining: 380ms\n",
      "918:\tlearn: 0.2092491\ttotal: 4.25s\tremaining: 375ms\n",
      "919:\tlearn: 0.2090458\ttotal: 4.26s\tremaining: 370ms\n",
      "920:\tlearn: 0.2088882\ttotal: 4.26s\tremaining: 366ms\n",
      "921:\tlearn: 0.2087446\ttotal: 4.27s\tremaining: 361ms\n",
      "922:\tlearn: 0.2085506\ttotal: 4.27s\tremaining: 356ms\n",
      "923:\tlearn: 0.2083570\ttotal: 4.28s\tremaining: 352ms\n",
      "924:\tlearn: 0.2081259\ttotal: 4.28s\tremaining: 347ms\n",
      "925:\tlearn: 0.2079128\ttotal: 4.29s\tremaining: 343ms\n",
      "926:\tlearn: 0.2076471\ttotal: 4.29s\tremaining: 338ms\n",
      "927:\tlearn: 0.2074042\ttotal: 4.3s\tremaining: 333ms\n",
      "928:\tlearn: 0.2072317\ttotal: 4.3s\tremaining: 329ms\n",
      "929:\tlearn: 0.2070683\ttotal: 4.3s\tremaining: 324ms\n",
      "930:\tlearn: 0.2068793\ttotal: 4.31s\tremaining: 319ms\n",
      "931:\tlearn: 0.2065702\ttotal: 4.31s\tremaining: 315ms\n",
      "932:\tlearn: 0.2063766\ttotal: 4.32s\tremaining: 310ms\n",
      "933:\tlearn: 0.2061468\ttotal: 4.32s\tremaining: 306ms\n",
      "934:\tlearn: 0.2059445\ttotal: 4.33s\tremaining: 301ms\n",
      "935:\tlearn: 0.2057115\ttotal: 4.33s\tremaining: 296ms\n",
      "936:\tlearn: 0.2055687\ttotal: 4.34s\tremaining: 292ms\n",
      "937:\tlearn: 0.2054105\ttotal: 4.34s\tremaining: 287ms\n",
      "938:\tlearn: 0.2052203\ttotal: 4.34s\tremaining: 282ms\n",
      "939:\tlearn: 0.2050496\ttotal: 4.35s\tremaining: 278ms\n",
      "940:\tlearn: 0.2048553\ttotal: 4.35s\tremaining: 273ms\n",
      "941:\tlearn: 0.2047141\ttotal: 4.36s\tremaining: 268ms\n",
      "942:\tlearn: 0.2045325\ttotal: 4.36s\tremaining: 264ms\n",
      "943:\tlearn: 0.2043624\ttotal: 4.37s\tremaining: 259ms\n",
      "944:\tlearn: 0.2041856\ttotal: 4.37s\tremaining: 255ms\n",
      "945:\tlearn: 0.2040947\ttotal: 4.38s\tremaining: 250ms\n",
      "946:\tlearn: 0.2038997\ttotal: 4.38s\tremaining: 245ms\n",
      "947:\tlearn: 0.2037559\ttotal: 4.39s\tremaining: 241ms\n",
      "948:\tlearn: 0.2035957\ttotal: 4.39s\tremaining: 236ms\n",
      "949:\tlearn: 0.2033477\ttotal: 4.4s\tremaining: 231ms\n",
      "950:\tlearn: 0.2031765\ttotal: 4.4s\tremaining: 227ms\n",
      "951:\tlearn: 0.2029059\ttotal: 4.41s\tremaining: 222ms\n",
      "952:\tlearn: 0.2027135\ttotal: 4.41s\tremaining: 218ms\n",
      "953:\tlearn: 0.2025561\ttotal: 4.42s\tremaining: 213ms\n",
      "954:\tlearn: 0.2023831\ttotal: 4.42s\tremaining: 208ms\n",
      "955:\tlearn: 0.2021219\ttotal: 4.42s\tremaining: 204ms\n",
      "956:\tlearn: 0.2020191\ttotal: 4.43s\tremaining: 199ms\n",
      "957:\tlearn: 0.2019454\ttotal: 4.43s\tremaining: 194ms\n",
      "958:\tlearn: 0.2017894\ttotal: 4.44s\tremaining: 190ms\n",
      "959:\tlearn: 0.2015906\ttotal: 4.44s\tremaining: 185ms\n",
      "960:\tlearn: 0.2013224\ttotal: 4.45s\tremaining: 180ms\n",
      "961:\tlearn: 0.2011866\ttotal: 4.45s\tremaining: 176ms\n",
      "962:\tlearn: 0.2010273\ttotal: 4.46s\tremaining: 171ms\n",
      "963:\tlearn: 0.2008860\ttotal: 4.46s\tremaining: 167ms\n",
      "964:\tlearn: 0.2007228\ttotal: 4.46s\tremaining: 162ms\n",
      "965:\tlearn: 0.2005981\ttotal: 4.47s\tremaining: 157ms\n",
      "966:\tlearn: 0.2004146\ttotal: 4.47s\tremaining: 153ms\n",
      "967:\tlearn: 0.2002631\ttotal: 4.48s\tremaining: 148ms\n",
      "968:\tlearn: 0.2001420\ttotal: 4.48s\tremaining: 143ms\n",
      "969:\tlearn: 0.1999614\ttotal: 4.49s\tremaining: 139ms\n",
      "970:\tlearn: 0.1998169\ttotal: 4.49s\tremaining: 134ms\n",
      "971:\tlearn: 0.1996219\ttotal: 4.5s\tremaining: 130ms\n",
      "972:\tlearn: 0.1994414\ttotal: 4.5s\tremaining: 125ms\n",
      "973:\tlearn: 0.1991896\ttotal: 4.51s\tremaining: 120ms\n",
      "974:\tlearn: 0.1988637\ttotal: 4.51s\tremaining: 116ms\n",
      "975:\tlearn: 0.1987103\ttotal: 4.51s\tremaining: 111ms\n",
      "976:\tlearn: 0.1985970\ttotal: 4.52s\tremaining: 106ms\n",
      "977:\tlearn: 0.1981569\ttotal: 4.52s\tremaining: 102ms\n",
      "978:\tlearn: 0.1979628\ttotal: 4.53s\tremaining: 97.2ms\n",
      "979:\tlearn: 0.1977632\ttotal: 4.53s\tremaining: 92.5ms\n",
      "980:\tlearn: 0.1975498\ttotal: 4.54s\tremaining: 87.9ms\n",
      "981:\tlearn: 0.1973147\ttotal: 4.54s\tremaining: 83.3ms\n",
      "982:\tlearn: 0.1971291\ttotal: 4.55s\tremaining: 78.6ms\n",
      "983:\tlearn: 0.1968869\ttotal: 4.55s\tremaining: 74ms\n",
      "984:\tlearn: 0.1965646\ttotal: 4.56s\tremaining: 69.4ms\n",
      "985:\tlearn: 0.1964123\ttotal: 4.56s\tremaining: 64.8ms\n",
      "986:\tlearn: 0.1962404\ttotal: 4.57s\tremaining: 60.1ms\n",
      "987:\tlearn: 0.1959921\ttotal: 4.57s\tremaining: 55.5ms\n",
      "988:\tlearn: 0.1958140\ttotal: 4.58s\tremaining: 50.9ms\n",
      "989:\tlearn: 0.1956124\ttotal: 4.58s\tremaining: 46.3ms\n",
      "990:\tlearn: 0.1954057\ttotal: 4.58s\tremaining: 41.6ms\n",
      "991:\tlearn: 0.1952436\ttotal: 4.59s\tremaining: 37ms\n",
      "992:\tlearn: 0.1950031\ttotal: 4.59s\tremaining: 32.4ms\n",
      "993:\tlearn: 0.1948627\ttotal: 4.6s\tremaining: 27.8ms\n",
      "994:\tlearn: 0.1945647\ttotal: 4.6s\tremaining: 23.1ms\n",
      "995:\tlearn: 0.1943865\ttotal: 4.61s\tremaining: 18.5ms\n",
      "996:\tlearn: 0.1941974\ttotal: 4.61s\tremaining: 13.9ms\n",
      "997:\tlearn: 0.1940919\ttotal: 4.62s\tremaining: 9.25ms\n",
      "998:\tlearn: 0.1938464\ttotal: 4.62s\tremaining: 4.63ms\n",
      "999:\tlearn: 0.1936316\ttotal: 4.63s\tremaining: 0us\n"
     ]
    },
    {
     "data": {
      "text/plain": [
       "<catboost.core.CatBoostClassifier at 0x7f0a2a389750>"
      ]
     },
     "execution_count": 90,
     "metadata": {},
     "output_type": "execute_result"
    }
   ],
   "source": [
    "cbc.fit(X_train, y_train)"
   ]
  },
  {
   "cell_type": "code",
   "execution_count": 91,
   "metadata": {},
   "outputs": [],
   "source": [
    "y_pred = cbc.predict(X_test)"
   ]
  },
  {
   "cell_type": "code",
   "execution_count": 92,
   "metadata": {},
   "outputs": [
    {
     "data": {
      "text/plain": [
       "0.7966666666666666"
      ]
     },
     "execution_count": 92,
     "metadata": {},
     "output_type": "execute_result"
    }
   ],
   "source": [
    "accuracy_score(y_test, y_pred)"
   ]
  },
  {
   "cell_type": "code",
   "execution_count": 94,
   "metadata": {},
   "outputs": [
    {
     "name": "stdout",
     "output_type": "stream",
     "text": [
      "              precision    recall  f1-score   support\n",
      "\n",
      "           0       0.69      0.53      0.60        86\n",
      "           1       0.83      0.90      0.86       214\n",
      "\n",
      "    accuracy                           0.80       300\n",
      "   macro avg       0.76      0.72      0.73       300\n",
      "weighted avg       0.79      0.80      0.79       300\n",
      "\n"
     ]
    }
   ],
   "source": [
    "print(classification_report(y_test, y_pred))"
   ]
  },
  {
   "cell_type": "code",
   "execution_count": 95,
   "metadata": {},
   "outputs": [],
   "source": [
    "from lightgbm import LGBMClassifier"
   ]
  },
  {
   "cell_type": "code",
   "execution_count": 96,
   "metadata": {},
   "outputs": [],
   "source": [
    "lgbm = LGBMClassifier()"
   ]
  },
  {
   "cell_type": "code",
   "execution_count": null,
   "metadata": {},
   "outputs": [],
   "source": [
    "lgbm.fit(X)"
   ]
  },
  {
   "cell_type": "code",
   "execution_count": null,
   "metadata": {},
   "outputs": [],
   "source": []
  },
  {
   "cell_type": "code",
   "execution_count": null,
   "metadata": {},
   "outputs": [],
   "source": []
  },
  {
   "cell_type": "code",
   "execution_count": null,
   "metadata": {},
   "outputs": [],
   "source": []
  }
 ],
 "metadata": {
  "kernelspec": {
   "display_name": "Python 3",
   "language": "python",
   "name": "python3"
  },
  "language_info": {
   "codemirror_mode": {
    "name": "ipython",
    "version": 3
   },
   "file_extension": ".py",
   "mimetype": "text/x-python",
   "name": "python",
   "nbconvert_exporter": "python",
   "pygments_lexer": "ipython3",
   "version": "3.7.4"
  }
 },
 "nbformat": 4,
 "nbformat_minor": 2
}
