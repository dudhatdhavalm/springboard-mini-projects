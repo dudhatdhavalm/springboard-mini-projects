{
 "cells": [
  {
   "cell_type": "markdown",
   "metadata": {},
   "source": [
    "This exercise will require you to pull some data from the Qunadl API. Qaundl is currently the most widely used aggregator of financial market data."
   ]
  },
  {
   "cell_type": "markdown",
   "metadata": {},
   "source": [
    "As a first step, you will need to register a free account on the http://www.quandl.com website."
   ]
  },
  {
   "cell_type": "markdown",
   "metadata": {},
   "source": [
    "After you register, you will be provided with a unique API key, that you should store:"
   ]
  },
  {
   "cell_type": "code",
   "execution_count": 1,
   "metadata": {},
   "outputs": [],
   "source": [
    "# Store the API key as a string - according to PEP8, constants are always named in all upper case\n",
    "API_KEY = '-cj6xKSCgAEAAzBsoTzV'"
   ]
  },
  {
   "cell_type": "markdown",
   "metadata": {},
   "source": [
    "Qaundl has a large number of data sources, but, unfortunately, most of them require a Premium subscription. Still, there are also a good number of free datasets."
   ]
  },
  {
   "cell_type": "markdown",
   "metadata": {},
   "source": [
    "For this mini project, we will focus on equities data from the Frankfurt Stock Exhange (FSE), which is available for free. We'll try and analyze the stock prices of a company called Carl Zeiss Meditec, which manufactures tools for eye examinations, as well as medical lasers for laser eye surgery: https://www.zeiss.com/meditec/int/home.html. The company is listed under the stock ticker AFX_X."
   ]
  },
  {
   "cell_type": "markdown",
   "metadata": {},
   "source": [
    "You can find the detailed Quandl API instructions here: https://docs.quandl.com/docs/time-series"
   ]
  },
  {
   "cell_type": "markdown",
   "metadata": {},
   "source": [
    "While there is a dedicated Python package for connecting to the Quandl API, we would prefer that you use the *requests* package, which can be easily downloaded using *pip* or *conda*. You can find the documentation for the package here: http://docs.python-requests.org/en/master/ "
   ]
  },
  {
   "cell_type": "markdown",
   "metadata": {},
   "source": [
    "Finally, apart from the *requests* package, you are encouraged to not use any third party Python packages, such as *pandas*, and instead focus on what's available in the Python Standard Library (the *collections* module might come in handy: https://pymotw.com/3/collections/).\n",
    "Also, since you won't have access to DataFrames, you are encouraged to us Python's native data structures - preferably dictionaries, though some questions can also be answered using lists.\n",
    "You can read more on these data structures here: https://docs.python.org/3/tutorial/datastructures.html"
   ]
  },
  {
   "cell_type": "markdown",
   "metadata": {},
   "source": [
    "Keep in mind that the JSON responses you will be getting from the API map almost one-to-one to Python's dictionaries. Unfortunately, they can be very nested, so make sure you read up on indexing dictionaries in the documentation provided above."
   ]
  },
  {
   "cell_type": "code",
   "execution_count": 2,
   "metadata": {},
   "outputs": [],
   "source": [
    "# First, import the relevant modules\n",
    "\n",
    "import json\n",
    "import requests\n",
    "import pandas\n",
    "import math"
   ]
  },
  {
   "cell_type": "code",
   "execution_count": 3,
   "metadata": {},
   "outputs": [],
   "source": [
    "# Now, call the Quandl API and pull out a small sample of the data (only one day) to get a glimpse\n",
    "# into the JSON structure that will be returned\n",
    "params = {\n",
    "    \"api_key\": \"-cj6xKSCgAEAAzBsoTzV\",\n",
    "    \"start_date\": \"2020-01-01\",\n",
    "    \"end_date\": \"2020-01-01\"\n",
    "}\n",
    "response = requests.get(\"https://www.quandl.com/api/v3/datasets/FSE/AFX_X\", params=params)"
   ]
  },
  {
   "cell_type": "code",
   "execution_count": 4,
   "metadata": {},
   "outputs": [],
   "source": [
    "# Inspect the JSON structure of the object you created, and take note of how nested it is,\n",
    "# as well as the overall structure\n",
    "if response.status_code == 200:\n",
    "    data = json.loads(response.content)"
   ]
  },
  {
   "cell_type": "code",
   "execution_count": 5,
   "metadata": {},
   "outputs": [
    {
     "name": "stdout",
     "output_type": "stream",
     "text": [
      "{\n",
      "  \"dataset\": {\n",
      "    \"id\": 10095370,\n",
      "    \"dataset_code\": \"AFX_X\",\n",
      "    \"database_code\": \"FSE\",\n",
      "    \"name\": \"Carl Zeiss Meditec (AFX_X)\",\n",
      "    \"description\": \"Stock Prices for Carl Zeiss Meditec (2020-11-02) from the Frankfurt Stock Exchange.<br><br>Trading System: Xetra<br><br>ISIN: DE0005313704\",\n",
      "    \"refreshed_at\": \"2020-12-01T14:48:09.907Z\",\n",
      "    \"newest_available_date\": \"2020-12-01\",\n",
      "    \"oldest_available_date\": \"2000-06-07\",\n",
      "    \"column_names\": [\n",
      "      \"Date\",\n",
      "      \"Open\",\n",
      "      \"High\",\n",
      "      \"Low\",\n",
      "      \"Close\",\n",
      "      \"Change\",\n",
      "      \"Traded Volume\",\n",
      "      \"Turnover\",\n",
      "      \"Last Price of the Day\",\n",
      "      \"Daily Traded Units\",\n",
      "      \"Daily Turnover\"\n",
      "    ],\n",
      "    \"frequency\": \"daily\",\n",
      "    \"type\": \"Time Series\",\n",
      "    \"premium\": false,\n",
      "    \"limit\": null,\n",
      "    \"transform\": null,\n",
      "    \"column_index\": null,\n",
      "    \"start_date\": \"2020-01-01\",\n",
      "    \"end_date\": \"2020-01-01\",\n",
      "    \"data\": [],\n",
      "    \"collapse\": null,\n",
      "    \"order\": null,\n",
      "    \"database_id\": 6129\n",
      "  }\n",
      "}\n"
     ]
    }
   ],
   "source": [
    "print(json.dumps(data, indent=2))"
   ]
  },
  {
   "cell_type": "code",
   "execution_count": 6,
   "metadata": {},
   "outputs": [
    {
     "name": "stdout",
     "output_type": "stream",
     "text": [
      "['Date', 'Open', 'High', 'Low', 'Close', 'Change', 'Traded Volume', 'Turnover', 'Last Price of the Day', 'Daily Traded Units', 'Daily Turnover']\n"
     ]
    }
   ],
   "source": [
    "print(data[\"dataset\"][\"column_names\"])"
   ]
  },
  {
   "cell_type": "markdown",
   "metadata": {},
   "source": [
    "These are your tasks for this mini project:\n",
    "\n",
    "1. Collect data from the Franfurt Stock Exchange, for the ticker AFX_X, for the whole year 2017 (keep in mind that the date format is YYYY-MM-DD).\n",
    "2. Convert the returned JSON object into a Python dictionary.\n",
    "3. Calculate what the highest and lowest opening prices were for the stock in this period.\n",
    "4. What was the largest change in any one day (based on High and Low price)?\n",
    "5. What was the largest change between any two days (based on Closing Price)?\n",
    "6. What was the average daily trading volume during this year?\n",
    "7. (Optional) What was the median trading volume during this year. (Note: you may need to implement your own function for calculating the median.)"
   ]
  },
  {
   "cell_type": "markdown",
   "metadata": {},
   "source": [
    "1. Collect data from the Franfurt Stock Exchange, for the ticker AFX_X, for the whole year 2017 (keep in mind that the date format is YYYY-MM-DD)."
   ]
  },
  {
   "cell_type": "code",
   "execution_count": 7,
   "metadata": {},
   "outputs": [],
   "source": [
    "params = {\n",
    "    \"api_key\": \"-cj6xKSCgAEAAzBsoTzV\",\n",
    "    \"start_date\": \"2017-01-01\",\n",
    "    \"end_date\": \"2017-12-31\"\n",
    "}\n",
    "response = requests.get(\"https://www.quandl.com/api/v3/datasets/FSE/AFX_X\", params=params)"
   ]
  },
  {
   "cell_type": "markdown",
   "metadata": {},
   "source": [
    "2. Convert the returned JSON object into a Python dictionary."
   ]
  },
  {
   "cell_type": "code",
   "execution_count": 8,
   "metadata": {},
   "outputs": [],
   "source": [
    "if response.status_code == 200:\n",
    "    data = json.loads(response.content)"
   ]
  },
  {
   "cell_type": "code",
   "execution_count": 9,
   "metadata": {},
   "outputs": [],
   "source": [
    "data = data[\"dataset\"][\"data\"]"
   ]
  },
  {
   "cell_type": "code",
   "execution_count": 10,
   "metadata": {},
   "outputs": [
    {
     "data": {
      "text/plain": [
       "[['2017-12-29',\n",
       "  51.76,\n",
       "  51.94,\n",
       "  51.45,\n",
       "  51.76,\n",
       "  None,\n",
       "  34640.0,\n",
       "  1792304.0,\n",
       "  None,\n",
       "  None,\n",
       "  None],\n",
       " ['2017-12-28',\n",
       "  51.65,\n",
       "  51.82,\n",
       "  51.43,\n",
       "  51.6,\n",
       "  None,\n",
       "  40660.0,\n",
       "  2099024.0,\n",
       "  None,\n",
       "  None,\n",
       "  None],\n",
       " ['2017-12-27',\n",
       "  51.45,\n",
       "  51.89,\n",
       "  50.76,\n",
       "  51.82,\n",
       "  None,\n",
       "  57452.0,\n",
       "  2957018.0,\n",
       "  None,\n",
       "  None,\n",
       "  None],\n",
       " ['2017-12-22',\n",
       "  51.05,\n",
       "  51.5,\n",
       "  50.92,\n",
       "  51.32,\n",
       "  None,\n",
       "  71165.0,\n",
       "  3641949.0,\n",
       "  None,\n",
       "  None,\n",
       "  None],\n",
       " ['2017-12-21',\n",
       "  51.16,\n",
       "  51.52,\n",
       "  50.9,\n",
       "  51.4,\n",
       "  None,\n",
       "  120649.0,\n",
       "  6179433.0,\n",
       "  None,\n",
       "  None,\n",
       "  None]]"
      ]
     },
     "execution_count": 10,
     "metadata": {},
     "output_type": "execute_result"
    }
   ],
   "source": [
    "data[0:5]"
   ]
  },
  {
   "cell_type": "markdown",
   "metadata": {},
   "source": [
    "3. Calculate what the highest and lowest opening prices were for the stock in this period."
   ]
  },
  {
   "cell_type": "code",
   "execution_count": 11,
   "metadata": {},
   "outputs": [
    {
     "name": "stdout",
     "output_type": "stream",
     "text": [
      "Max Openning => 53.11\n",
      "Min Openning => 34.0\n"
     ]
    }
   ],
   "source": [
    "high = data[0][1]\n",
    "low = data[0][1]\n",
    "for d in data:\n",
    "    if d[1] is not None and d[1] > high:\n",
    "        high = d[1]\n",
    "    if d[1] is not None and d[1] < low:\n",
    "        low = d[1]\n",
    "print(\"Max Openning => {}\".format(high))\n",
    "print(\"Min Openning => {}\".format(low))"
   ]
  },
  {
   "cell_type": "markdown",
   "metadata": {},
   "source": [
    "4. What was the largest change in any one day (based on High and Low price)?"
   ]
  },
  {
   "cell_type": "code",
   "execution_count": 12,
   "metadata": {},
   "outputs": [
    {
     "name": "stdout",
     "output_type": "stream",
     "text": [
      "Max Change on high and low => 2.8100000000000023\n"
     ]
    }
   ],
   "source": [
    "max_change = float(data[0][2]) - float(data[0][3])\n",
    "for d in data:\n",
    "    if d[2] is not None and d[3] is not None:\n",
    "        change = d[2] - d[3]\n",
    "        if change > max_change:\n",
    "            max_change = change;\n",
    "    \n",
    "print(\"Max Change on high and low => {}\".format(max_change))"
   ]
  },
  {
   "cell_type": "markdown",
   "metadata": {},
   "source": [
    "5. What was the largest change between any two days (based on Closing Price)?"
   ]
  },
  {
   "cell_type": "code",
   "execution_count": 13,
   "metadata": {},
   "outputs": [],
   "source": [
    "min_close = data[0][4]\n",
    "max_close = data[0][4]"
   ]
  },
  {
   "cell_type": "code",
   "execution_count": 14,
   "metadata": {},
   "outputs": [
    {
     "name": "stdout",
     "output_type": "stream",
     "text": [
      "Max change on high and low close =>  19.03\n"
     ]
    }
   ],
   "source": [
    "for d in data:\n",
    "    if d[4] is not None:\n",
    "        if d[4] < min_close:\n",
    "            min_close = d[4]\n",
    "        if d[4] > max_close:\n",
    "            max_close = d[4]\n",
    "print(\"Max change on high and low close => \", max_close - min_close)"
   ]
  },
  {
   "cell_type": "markdown",
   "metadata": {},
   "source": [
    "6. What was the average daily trading volume during this year?"
   ]
  },
  {
   "cell_type": "code",
   "execution_count": 15,
   "metadata": {},
   "outputs": [],
   "source": [
    "sum = 0\n",
    "for d in data:\n",
    "    sum = sum + d[6]"
   ]
  },
  {
   "cell_type": "code",
   "execution_count": 16,
   "metadata": {},
   "outputs": [
    {
     "name": "stdout",
     "output_type": "stream",
     "text": [
      "Average daily volume => 89124.33725490196\n"
     ]
    }
   ],
   "source": [
    "print(\"Average daily volume =>\", sum/len(data))"
   ]
  },
  {
   "cell_type": "markdown",
   "metadata": {},
   "source": [
    "7. (Optional) What was the median trading volume during this year. (Note: you may need to implement your own function for calculating the median.)"
   ]
  },
  {
   "cell_type": "code",
   "execution_count": 17,
   "metadata": {},
   "outputs": [],
   "source": [
    "volums = []"
   ]
  },
  {
   "cell_type": "code",
   "execution_count": 18,
   "metadata": {},
   "outputs": [],
   "source": [
    "for d in data:\n",
    "    volums.append(d[6])"
   ]
  },
  {
   "cell_type": "code",
   "execution_count": 19,
   "metadata": {},
   "outputs": [
    {
     "data": {
      "text/plain": [
       "255"
      ]
     },
     "execution_count": 19,
     "metadata": {},
     "output_type": "execute_result"
    }
   ],
   "source": [
    "len(volums)"
   ]
  },
  {
   "cell_type": "code",
   "execution_count": 20,
   "metadata": {},
   "outputs": [
    {
     "data": {
      "text/plain": [
       "[34640.0,\n",
       " 40660.0,\n",
       " 57452.0,\n",
       " 71165.0,\n",
       " 120649.0,\n",
       " 50587.0,\n",
       " 137313.0,\n",
       " 129733.0,\n",
       " 204080.0,\n",
       " 132981.0,\n",
       " 128434.0,\n",
       " 87911.0,\n",
       " 71817.0,\n",
       " 109157.0,\n",
       " 48123.0,\n",
       " 88730.0,\n",
       " 83023.0,\n",
       " 94385.0,\n",
       " 101733.0,\n",
       " 123019.0,\n",
       " 67342.0,\n",
       " 42669.0,\n",
       " 102180.0,\n",
       " 50350.0,\n",
       " 38834.0,\n",
       " 91142.0,\n",
       " 78502.0,\n",
       " 97252.0,\n",
       " 54107.0,\n",
       " 89373.0,\n",
       " 67593.0,\n",
       " 67672.0,\n",
       " 76286.0,\n",
       " 90245.0,\n",
       " 120268.0,\n",
       " 94195.0,\n",
       " 48152.0,\n",
       " 60716.0,\n",
       " 56911.0,\n",
       " 37958.0,\n",
       " 56319.0,\n",
       " 56245.0,\n",
       " 74472.0,\n",
       " 56319.0,\n",
       " 47730.0,\n",
       " 43042.0,\n",
       " 43375.0,\n",
       " 55707.0,\n",
       " 59991.0,\n",
       " 45263.0,\n",
       " 65837.0,\n",
       " 49246.0,\n",
       " 43362.0,\n",
       " 49180.0,\n",
       " 69455.0,\n",
       " 65860.0,\n",
       " 44059.0,\n",
       " 66760.0,\n",
       " 94804.0,\n",
       " 115706.0,\n",
       " 95313.0,\n",
       " 99821.0,\n",
       " 157234.0,\n",
       " 76600.0,\n",
       " 51321.0,\n",
       " 56224.0,\n",
       " 79955.0,\n",
       " 105194.0,\n",
       " 57838.0,\n",
       " 65546.0,\n",
       " 44037.0,\n",
       " 107144.0,\n",
       " 65157.0,\n",
       " 68801.0,\n",
       " 52828.0,\n",
       " 103273.0,\n",
       " 59881.0,\n",
       " 64320.0,\n",
       " 71006.0,\n",
       " 66351.0,\n",
       " 105288.0,\n",
       " 151474.0,\n",
       " 157888.0,\n",
       " 97804.0,\n",
       " 98156.0,\n",
       " 47130.0,\n",
       " 69734.0,\n",
       " 65213.0,\n",
       " 70269.0,\n",
       " 95376.0,\n",
       " 68812.0,\n",
       " 72886.0,\n",
       " 131361.0,\n",
       " 104676.0,\n",
       " 64334.0,\n",
       " 127682.0,\n",
       " 183412.0,\n",
       " 175161.0,\n",
       " 355857.0,\n",
       " 156168.0,\n",
       " 164543.0,\n",
       " 96202.0,\n",
       " 77854.0,\n",
       " 187468.0,\n",
       " 74975.0,\n",
       " 62672.0,\n",
       " 114006.0,\n",
       " 50557.0,\n",
       " 81970.0,\n",
       " 112224.0,\n",
       " 104282.0,\n",
       " 73422.0,\n",
       " 87399.0,\n",
       " 71971.0,\n",
       " 104003.0,\n",
       " 104995.0,\n",
       " 67375.0,\n",
       " 82745.0,\n",
       " 115705.0,\n",
       " 90538.0,\n",
       " 71868.0,\n",
       " 47999.0,\n",
       " 66116.0,\n",
       " 48706.0,\n",
       " 50549.0,\n",
       " 71381.0,\n",
       " 136112.0,\n",
       " 134965.0,\n",
       " 117165.0,\n",
       " 82492.0,\n",
       " 73322.0,\n",
       " 80586.0,\n",
       " 56071.0,\n",
       " 89752.0,\n",
       " 108334.0,\n",
       " 70056.0,\n",
       " 202214.0,\n",
       " 101733.0,\n",
       " 83741.0,\n",
       " 107644.0,\n",
       " 112942.0,\n",
       " 99674.0,\n",
       " 1945.0,\n",
       " 1081.0,\n",
       " 686.0,\n",
       " 290.0,\n",
       " 106513.0,\n",
       " 522.0,\n",
       " 587.0,\n",
       " 112.0,\n",
       " 74453.0,\n",
       " 49970.0,\n",
       " 111923.0,\n",
       " 38308.0,\n",
       " 70856.0,\n",
       " 45.0,\n",
       " 166160.0,\n",
       " 149515.0,\n",
       " 101476.0,\n",
       " 193702.0,\n",
       " 159495.0,\n",
       " 189125.0,\n",
       " 91858.0,\n",
       " 151439.0,\n",
       " 97456.0,\n",
       " 78512.0,\n",
       " 82058.0,\n",
       " 65266.0,\n",
       " 86559.0,\n",
       " 86348.0,\n",
       " 86348.0,\n",
       " 151683.0,\n",
       " 65847.0,\n",
       " 85973.0,\n",
       " 102084.0,\n",
       " 186784.0,\n",
       " 223621.0,\n",
       " 92722.0,\n",
       " 133057.0,\n",
       " 88416.0,\n",
       " 88416.0,\n",
       " 88416.0,\n",
       " 158278.0,\n",
       " 107817.0,\n",
       " 62297.0,\n",
       " 81255.0,\n",
       " 96794.0,\n",
       " 156005.0,\n",
       " 193156.0,\n",
       " 127973.0,\n",
       " 95382.0,\n",
       " 189201.0,\n",
       " 335406.0,\n",
       " 115075.0,\n",
       " 191515.0,\n",
       " 210926.0,\n",
       " 169971.0,\n",
       " 670349.0,\n",
       " 56906.0,\n",
       " 97572.0,\n",
       " 90109.0,\n",
       " 55799.0,\n",
       " 60324.0,\n",
       " 60420.0,\n",
       " 44803.0,\n",
       " 38518.0,\n",
       " 43988.0,\n",
       " 45111.0,\n",
       " 61925.0,\n",
       " 46510.0,\n",
       " 40800.0,\n",
       " 49863.0,\n",
       " 86753.0,\n",
       " 67440.0,\n",
       " 62655.0,\n",
       " 101294.0,\n",
       " 81945.0,\n",
       " 77619.0,\n",
       " 46070.0,\n",
       " 37014.0,\n",
       " 60583.0,\n",
       " 84682.0,\n",
       " 77420.0,\n",
       " 82601.0,\n",
       " 177171.0,\n",
       " 115843.0,\n",
       " 67781.0,\n",
       " 39731.0,\n",
       " 67410.0,\n",
       " 41911.0,\n",
       " 40705.0,\n",
       " 54279.0,\n",
       " 85137.0,\n",
       " 63371.0,\n",
       " 69603.0,\n",
       " 69657.0,\n",
       " 64103.0,\n",
       " 56240.0,\n",
       " 48797.0,\n",
       " 55333.0,\n",
       " 80246.0,\n",
       " 73105.0,\n",
       " 65931.0,\n",
       " 39195.0,\n",
       " 47879.0,\n",
       " 59367.0,\n",
       " 163860.0,\n",
       " 123530.0,\n",
       " 43976.0,\n",
       " 62225.0,\n",
       " 27507.0,\n",
       " 48412.0,\n",
       " 54408.0,\n",
       " 70618.0,\n",
       " 44700.0]"
      ]
     },
     "execution_count": 20,
     "metadata": {},
     "output_type": "execute_result"
    }
   ],
   "source": [
    "volums"
   ]
  },
  {
   "cell_type": "code",
   "execution_count": 21,
   "metadata": {},
   "outputs": [],
   "source": [
    "def find_median(arr):\n",
    "    newArr = sorted(arr)\n",
    "    mod = len(newArr) % 2\n",
    "    if mod == 0:\n",
    "        index =  len(newArr) / 2\n",
    "        first_value = newArr[index]\n",
    "        second_value = newArr[index + 1]\n",
    "        return (first_value + second_value) / 2\n",
    "    else:\n",
    "        index =  math.floor(len(newArr) / 2)\n",
    "        return newArr[index + 1]"
   ]
  },
  {
   "cell_type": "code",
   "execution_count": 22,
   "metadata": {},
   "outputs": [
    {
     "data": {
      "text/plain": [
       "76600.0"
      ]
     },
     "execution_count": 22,
     "metadata": {},
     "output_type": "execute_result"
    }
   ],
   "source": [
    "find_median(volums)"
   ]
  },
  {
   "cell_type": "code",
   "execution_count": 23,
   "metadata": {},
   "outputs": [
    {
     "data": {
      "text/plain": [
       "76600.0"
      ]
     },
     "execution_count": 23,
     "metadata": {},
     "output_type": "execute_result"
    }
   ],
   "source": [
    "sorted(volums)[128]"
   ]
  }
 ],
 "metadata": {
  "kernelspec": {
   "display_name": "Python 3",
   "language": "python",
   "name": "python3"
  },
  "language_info": {
   "codemirror_mode": {
    "name": "ipython",
    "version": 3
   },
   "file_extension": ".py",
   "mimetype": "text/x-python",
   "name": "python",
   "nbconvert_exporter": "python",
   "pygments_lexer": "ipython3",
   "version": "3.7.4"
  }
 },
 "nbformat": 4,
 "nbformat_minor": 4
}
